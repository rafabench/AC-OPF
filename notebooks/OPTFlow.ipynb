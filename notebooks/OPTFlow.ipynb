{
 "cells": [
  {
   "cell_type": "markdown",
   "metadata": {},
   "source": [
    "## Download das bibliotecas"
   ]
  },
  {
   "cell_type": "code",
   "execution_count": 2,
   "metadata": {
    "ExecuteTime": {
     "end_time": "2020-07-13T18:36:02.302000-03:00",
     "start_time": "2020-07-13T21:35:35.726Z"
    }
   },
   "outputs": [
    {
     "data": {
      "text/plain": [
       "#5 (generic function with 1 method)"
      ]
     },
     "execution_count": 2,
     "metadata": {},
     "output_type": "execute_result"
    }
   ],
   "source": [
    "using JuMP,Ipopt,MosekTools, PyPlot\n",
    "ipopt = () -> Ipopt.Optimizer()\n",
    "mosek = () -> Mosek.Optimizer()"
   ]
  },
  {
   "cell_type": "markdown",
   "metadata": {},
   "source": [
    "## Estrutura de Dados e Funções auxiliares"
   ]
  },
  {
   "cell_type": "code",
   "execution_count": 3,
   "metadata": {
    "ExecuteTime": {
     "end_time": "2020-07-13T18:36:05.943000-03:00",
     "start_time": "2020-07-13T21:35:36.837Z"
    }
   },
   "outputs": [
    {
     "data": {
      "text/plain": [
       "graph_dispersion (generic function with 1 method)"
      ]
     },
     "execution_count": 3,
     "metadata": {},
     "output_type": "execute_result"
    }
   ],
   "source": [
    "include(\"../src/structs.jl\")\n",
    "include(\"../src/data_read.jl\")\n",
    "include(\"../src/utils.jl\")"
   ]
  },
  {
   "cell_type": "markdown",
   "metadata": {
    "ExecuteTime": {
     "end_time": "2020-07-13T18:34:37.692000-03:00",
     "start_time": "2020-07-13T21:34:35.642Z"
    }
   },
   "source": [
    "Fonte de dados: [pglib-opf-master](https://github.com/power-grid-lib/pglib-opf)"
   ]
  },
  {
   "cell_type": "code",
   "execution_count": 4,
   "metadata": {
    "ExecuteTime": {
     "end_time": "2020-07-13T18:36:37.910000-03:00",
     "start_time": "2020-07-13T21:36:37.557Z"
    }
   },
   "outputs": [
    {
     "data": {
      "text/plain": [
       "\"C:\\\\Users\\\\rafabench\\\\Downloads\\\\pglib-opf-master\\\\\""
      ]
     },
     "execution_count": 4,
     "metadata": {},
     "output_type": "execute_result"
    }
   ],
   "source": [
    "full_data = \"C:\\\\Users\\\\rafabench\\\\Downloads\\\\pglib-opf-master\\\\\""
   ]
  },
  {
   "cell_type": "markdown",
   "metadata": {},
   "source": [
    "# Construção do Modelo"
   ]
  },
  {
   "cell_type": "markdown",
   "metadata": {},
   "source": [
    "## Constantes"
   ]
  },
  {
   "cell_type": "code",
   "execution_count": 5,
   "metadata": {
    "ExecuteTime": {
     "end_time": "2020-07-13T18:36:39.042000-03:00",
     "start_time": "2020-07-13T21:36:38.755Z"
    }
   },
   "outputs": [
    {
     "data": {
      "text/plain": [
       "add_constants (generic function with 1 method)"
      ]
     },
     "execution_count": 5,
     "metadata": {},
     "output_type": "execute_result"
    }
   ],
   "source": [
    "function add_constants(Branches)\n",
    "    YR = zeros(length(Branches))\n",
    "    YI = zeros(length(Branches))\n",
    "    TR = zeros(length(Branches))\n",
    "    TI = zeros(length(Branches))\n",
    "    B = zeros(length(Branches))\n",
    "    thermal_lim = zeros(length(Branches))\n",
    "    ang_min = zeros(length(Branches))\n",
    "    ang_max = zeros(length(Branches))\n",
    "    for l=1:length(Branches)\n",
    "        YR[l] = Branches[l].r/(Branches[l].r^2+Branches[l].x^2)\n",
    "        YI[l] = -Branches[l].x/(Branches[l].r^2+Branches[l].x^2)\n",
    "        TR[l] = Branches[l].ratio*cos(Branches[l].angle)\n",
    "        TI[l] = Branches[l].ratio*sin(Branches[l].angle)\n",
    "        B[l] = Branches[l].b\n",
    "        thermal_lim[l] = Branches[l].rateA/100.0\n",
    "        ang_min[l] = Branches[l].angmin*pi/180\n",
    "        ang_max[l] = Branches[l].angmax*pi/180\n",
    "    end\n",
    "    return YR,YI,TR,TI,B,thermal_lim,ang_min,ang_max\n",
    "end"
   ]
  },
  {
   "cell_type": "markdown",
   "metadata": {},
   "source": [
    "## Variáveis que não serão relaxadas"
   ]
  },
  {
   "cell_type": "code",
   "execution_count": 6,
   "metadata": {
    "ExecuteTime": {
     "end_time": "2020-07-13T18:36:41.453000-03:00",
     "start_time": "2020-07-13T21:36:39.125Z"
    }
   },
   "outputs": [
    {
     "data": {
      "text/plain": [
       "add_global_variables! (generic function with 1 method)"
      ]
     },
     "execution_count": 6,
     "metadata": {},
     "output_type": "execute_result"
    }
   ],
   "source": [
    "function add_global_variables!(model, Buses, Generators, Branches, thermal_lim; start=false)\n",
    "    if start\n",
    "        arr1 = ones(length(Buses))\n",
    "        arr2 = ones(length(Generators))\n",
    "        arr3 = ones(length(Branches))\n",
    "        @variable(model, Generators[i].Pmin/100.0 <= p_g[i=1:length(Generators)] <= Generators[i].Pmax/100.0, start = arr2[i])\n",
    "        @variable(model, Generators[i].Qmin/100.0 <= q_g[i=1:length(Generators)] <= Generators[i].Qmax/100.0, start = arr2[i])\n",
    "        SR = @variable(model,[(i,j,l) in [(i,j,l) for i = 1:length(Buses) for (j,l) in zip(δ(i,Branches,Buses)...)]], base_name = \"SR\",lower_bound = -thermal_lim[l], upper_bound = thermal_lim[l], start = arr3[l])\n",
    "        SI = @variable(model,[(i,j,l) in [(i,j,l) for i = 1:length(Buses) for (j,l) in zip(δ(i,Branches,Buses)...)]], base_name = \"SI\",lower_bound = -thermal_lim[l], upper_bound = thermal_lim[l], start = arr3[l])\n",
    "    else\n",
    "        @variable(model, Generators[i].Pmin/100.0 <= p_g[i=1:length(Generators)] <= Generators[i].Pmax/100.0)\n",
    "        @variable(model, Generators[i].Qmin/100.0 <= q_g[i=1:length(Generators)] <= Generators[i].Qmax/100.0)\n",
    "        SR = @variable(model,[(i,j,l) in [(i,j,l) for i = 1:length(Buses) for (j,l) in zip(δ(i,Branches,Buses)...)]], base_name = \"SR\",lower_bound = -thermal_lim[l], upper_bound = thermal_lim[l])\n",
    "        SI = @variable(model,[(i,j,l) in [(i,j,l) for i = 1:length(Buses) for (j,l) in zip(δ(i,Branches,Buses)...)]], base_name = \"SI\",lower_bound = -thermal_lim[l], upper_bound = thermal_lim[l])\n",
    "    end\n",
    "    model[:SR] = SR\n",
    "    model[:SI] = SI\n",
    "end"
   ]
  },
  {
   "cell_type": "markdown",
   "metadata": {},
   "source": [
    "## Variáveis de voltagem"
   ]
  },
  {
   "cell_type": "code",
   "execution_count": 7,
   "metadata": {
    "ExecuteTime": {
     "end_time": "2020-07-13T18:36:41.605000-03:00",
     "start_time": "2020-07-13T21:36:39.461Z"
    }
   },
   "outputs": [
    {
     "data": {
      "text/plain": [
       "add_voltage_variables! (generic function with 1 method)"
      ]
     },
     "execution_count": 7,
     "metadata": {},
     "output_type": "execute_result"
    }
   ],
   "source": [
    "function add_voltage_variables!(model, Buses; start = false)\n",
    "    if start\n",
    "        arr1 = ones(length(Buses))\n",
    "        @variable(model, - Buses[i].Vmax <= VR[i=1:length(Buses)] <= Buses[i].Vmax , start = arr1[i])\n",
    "        @variable(model, - Buses[i].Vmax <= VI[i=1:length(Buses)] <= Buses[i].Vmax , start = arr1[i])\n",
    "    else\n",
    "        @variable(model, - Buses[i].Vmax <= VR[i=1:length(Buses)] <= Buses[i].Vmax)\n",
    "        @variable(model, - Buses[i].Vmax <= VI[i=1:length(Buses)] <= Buses[i].Vmax)\n",
    "    end\n",
    "end"
   ]
  },
  {
   "cell_type": "markdown",
   "metadata": {},
   "source": [
    "## Restrições"
   ]
  },
  {
   "cell_type": "code",
   "execution_count": 8,
   "metadata": {
    "ExecuteTime": {
     "end_time": "2020-07-13T18:36:43.527000-03:00",
     "start_time": "2020-07-13T21:36:40.018Z"
    }
   },
   "outputs": [
    {
     "data": {
      "text/plain": [
       "add_reference_angle! (generic function with 1 method)"
      ]
     },
     "execution_count": 8,
     "metadata": {},
     "output_type": "execute_result"
    }
   ],
   "source": [
    "function add_reference_angle!(model, Buses)\n",
    "    VI = variable_by_name(model, \"VI[1]\")\n",
    "    @constraint(model, VI == 0)\n",
    "end"
   ]
  },
  {
   "cell_type": "code",
   "execution_count": 9,
   "metadata": {
    "ExecuteTime": {
     "end_time": "2020-07-13T18:36:44.142000-03:00",
     "start_time": "2020-07-13T21:36:40.213Z"
    }
   },
   "outputs": [
    {
     "data": {
      "text/plain": [
       "constraint_power_balance! (generic function with 1 method)"
      ]
     },
     "execution_count": 9,
     "metadata": {},
     "output_type": "execute_result"
    }
   ],
   "source": [
    "function constraint_power_balance!(model, Buses, Generators, Branches, sqrd_volt, i)\n",
    "    p_g = model[Symbol(\"p_g\")]\n",
    "    q_g = model[Symbol(\"q_g\")]\n",
    "    SR = model[Symbol(\"SR\")]\n",
    "    SI = model[Symbol(\"SI\")]\n",
    "    @constraint(model, sum(p_g[i] for i in G(i,Generators,Buses)) - Buses[i].Pd/100.0 + Buses[i].Gs/100.0*sqrd_volt == sum(SR[(i,j,l)] for (j,l) in zip(δ(i,Branches,Buses)...)))\n",
    "    @constraint(model, sum(q_g[i] for i in G(i,Generators,Buses)) - Buses[i].Qd/100.0 + Buses[i].Bs/100.0*sqrd_volt == sum(SI[(i,j,l)] for (j,l) in zip(δ(i,Branches,Buses)...)))\n",
    "end"
   ]
  },
  {
   "cell_type": "code",
   "execution_count": 10,
   "metadata": {
    "ExecuteTime": {
     "end_time": "2020-07-13T18:36:44.339000-03:00",
     "start_time": "2020-07-13T21:36:40.421Z"
    }
   },
   "outputs": [
    {
     "data": {
      "text/plain": [
       "voltage_bounds_sqrd! (generic function with 1 method)"
      ]
     },
     "execution_count": 10,
     "metadata": {},
     "output_type": "execute_result"
    }
   ],
   "source": [
    "function voltage_bounds_sqrd!(model, Buses, sqrd_volt, i)\n",
    "    @constraint(model, Buses[i].Vmin^2 <= sqrd_volt <= Buses[i].Vmax^2)\n",
    "end"
   ]
  },
  {
   "cell_type": "code",
   "execution_count": 11,
   "metadata": {
    "ExecuteTime": {
     "end_time": "2020-07-13T18:36:44.541000-03:00",
     "start_time": "2020-07-13T21:36:40.742Z"
    }
   },
   "outputs": [
    {
     "data": {
      "text/plain": [
       "constraint_line_balance! (generic function with 1 method)"
      ]
     },
     "execution_count": 11,
     "metadata": {},
     "output_type": "execute_result"
    }
   ],
   "source": [
    "function constraint_line_balance!(model, YR, YI, B, sqrd_volt_i, sqrd_volt_j, sum_product_voltages,  diff_product_voltages, i, j, l)\n",
    "    SR = model[Symbol(\"SR\")]\n",
    "    SI = model[Symbol(\"SI\")]\n",
    "    \n",
    "    @constraint(model, SR[(i,j,l)] == YR*sqrd_volt_i + (-YR)*sum_product_voltages + (-YI)*(diff_product_voltages))\n",
    "            \n",
    "    @constraint(model, SI[(i,j,l)] == -(YI+B/2)*sqrd_volt_i - (-YI)*sum_product_voltages + (-YR)*diff_product_voltages)\n",
    "\n",
    "    @constraint(model, SR[(j,i,l)] == YR*sqrd_volt_j + (-YR)*sum_product_voltages + (-YI)*(-(diff_product_voltages)))\n",
    "\n",
    "    @constraint(model, SI[(j,i,l)] == -(YI+B/2)*sqrd_volt_j - (-YI)*sum_product_voltages + (-YR)*(-(diff_product_voltages)))\n",
    "end"
   ]
  },
  {
   "cell_type": "code",
   "execution_count": 12,
   "metadata": {
    "ExecuteTime": {
     "end_time": "2020-07-13T18:36:44.906000-03:00",
     "start_time": "2020-07-13T21:36:41.013Z"
    }
   },
   "outputs": [
    {
     "data": {
      "text/plain": [
       "line_thermal_bounds_sqrd! (generic function with 1 method)"
      ]
     },
     "execution_count": 12,
     "metadata": {},
     "output_type": "execute_result"
    }
   ],
   "source": [
    "function line_thermal_bounds_sqrd!(model,thermal_lim, i, j, l)\n",
    "    SR = model[Symbol(\"SR\")]\n",
    "    SI = model[Symbol(\"SI\")]\n",
    "    \n",
    "    @constraint(model, SI[(i,j,l)]^2+SR[(i,j,l)]^2 <= thermal_lim[l]^2)\n",
    "    @constraint(model, SI[(j,i,l)]^2+SR[(j,i,l)]^2 <= thermal_lim[l]^2)\n",
    "end"
   ]
  },
  {
   "cell_type": "code",
   "execution_count": 13,
   "metadata": {
    "ExecuteTime": {
     "end_time": "2020-07-13T18:36:45.218000-03:00",
     "start_time": "2020-07-13T21:36:41.205Z"
    },
    "code_folding": []
   },
   "outputs": [
    {
     "data": {
      "text/plain": [
       "constraint_phase_angle_diff! (generic function with 1 method)"
      ]
     },
     "execution_count": 13,
     "metadata": {},
     "output_type": "execute_result"
    }
   ],
   "source": [
    "function constraint_phase_angle_diff!(model, ang_max, ang_min, sum_product_voltages,  diff_product_voltages, i, j, l) \n",
    "    @constraint(model, diff_product_voltages <= tan(ang_max[l])*sum_product_voltages)\n",
    "    @constraint(model, diff_product_voltages >= tan(ang_min[l])*sum_product_voltages)\n",
    "end"
   ]
  },
  {
   "cell_type": "markdown",
   "metadata": {},
   "source": [
    "## Função Objetivo"
   ]
  },
  {
   "cell_type": "code",
   "execution_count": 14,
   "metadata": {
    "ExecuteTime": {
     "end_time": "2020-07-13T18:36:45.459000-03:00",
     "start_time": "2020-07-13T21:36:41.910Z"
    }
   },
   "outputs": [
    {
     "data": {
      "text/plain": [
       "add_objective! (generic function with 1 method)"
      ]
     },
     "execution_count": 14,
     "metadata": {},
     "output_type": "execute_result"
    }
   ],
   "source": [
    "function add_objective!(model, GeneratorCosts)\n",
    "    p_g = model[Symbol(\"p_g\")]\n",
    "    q_g = model[Symbol(\"q_g\")]\n",
    "    obj = sum([GeneratorCosts[k].c2*p_g[k]^2*100.0^2+GeneratorCosts[k].c1*p_g[k]*100.0+GeneratorCosts[k].c0 for k = 1:length(GeneratorCosts)])\n",
    "    @objective(model, Min, obj)\n",
    "end"
   ]
  },
  {
   "cell_type": "markdown",
   "metadata": {},
   "source": [
    "## Funções relacionadas com o grafo da rede elétrica"
   ]
  },
  {
   "cell_type": "code",
   "execution_count": 15,
   "metadata": {
    "ExecuteTime": {
     "end_time": "2020-07-13T18:36:45.665000-03:00",
     "start_time": "2020-07-13T21:36:42.565Z"
    }
   },
   "outputs": [
    {
     "data": {
      "text/plain": [
       "bus_id (generic function with 1 method)"
      ]
     },
     "execution_count": 15,
     "metadata": {},
     "output_type": "execute_result"
    }
   ],
   "source": [
    "function bus_id(Buses)\n",
    "    count = 1\n",
    "    dict_buses = Dict()\n",
    "    for bus in Buses\n",
    "        dict_buses[bus.bus_i] = count\n",
    "        count += 1\n",
    "    end\n",
    "    dict_buses\n",
    "end"
   ]
  },
  {
   "cell_type": "code",
   "execution_count": 16,
   "metadata": {
    "ExecuteTime": {
     "end_time": "2020-07-13T18:36:58.928000-03:00",
     "start_time": "2020-07-13T21:36:58.787Z"
    }
   },
   "outputs": [
    {
     "data": {
      "text/plain": [
       "δ (generic function with 1 method)"
      ]
     },
     "execution_count": 16,
     "metadata": {},
     "output_type": "execute_result"
    }
   ],
   "source": [
    "function δ(i,Branches,Buses)\n",
    "    tbuses = []\n",
    "    dict_buses = bus_id(Buses)\n",
    "    count = 1\n",
    "    ls = []\n",
    "    for branch in Branches\n",
    "        if dict_buses[branch.fbus] == i\n",
    "            push!(tbuses,dict_buses[branch.tbus])\n",
    "            push!(ls,count)\n",
    "        end\n",
    "        if dict_buses[branch.tbus] == i\n",
    "            push!(tbuses,dict_buses[branch.fbus])\n",
    "            push!(ls,count)\n",
    "        end\n",
    "        count += 1\n",
    "    end\n",
    "    (tbuses,ls)\n",
    "end"
   ]
  },
  {
   "cell_type": "code",
   "execution_count": 17,
   "metadata": {
    "ExecuteTime": {
     "end_time": "2020-07-13T18:36:59.445000-03:00",
     "start_time": "2020-07-13T21:36:59.303Z"
    }
   },
   "outputs": [
    {
     "data": {
      "text/plain": [
       "To_nodes (generic function with 1 method)"
      ]
     },
     "execution_count": 17,
     "metadata": {},
     "output_type": "execute_result"
    }
   ],
   "source": [
    "function From_nodes(i,Branches,Buses)\n",
    "    tbuses = []\n",
    "    ls = []\n",
    "    count = 1\n",
    "    dict_buses = bus_id(Buses)\n",
    "    for branch in Branches\n",
    "        if dict_buses[branch.fbus] == i\n",
    "            push!(tbuses,dict_buses[branch.tbus])\n",
    "            push!(ls,count)\n",
    "        end\n",
    "        count += 1\n",
    "    end\n",
    "    (tbuses,ls)\n",
    "end\n",
    "\n",
    "function To_nodes(i,Branches,Buses)\n",
    "    tbuses = []\n",
    "    ls = []\n",
    "    count = 1\n",
    "    dict_buses = bus_id(Buses)\n",
    "    for branch in Branches\n",
    "        if dict_buses[branch.tbus] == i\n",
    "            push!(tbuses,dict_buses[branch.fbus])\n",
    "            push!(ls,count)\n",
    "        end\n",
    "        count += 1\n",
    "    end\n",
    "    (tbuses,ls)\n",
    "end"
   ]
  },
  {
   "cell_type": "code",
   "execution_count": 18,
   "metadata": {
    "ExecuteTime": {
     "end_time": "2020-07-13T18:36:59.856000-03:00",
     "start_time": "2020-07-13T21:36:59.702Z"
    }
   },
   "outputs": [
    {
     "data": {
      "text/plain": [
       "G (generic function with 1 method)"
      ]
     },
     "execution_count": 18,
     "metadata": {},
     "output_type": "execute_result"
    }
   ],
   "source": [
    "function G(i,Generators,Buses)\n",
    "    G_i = []\n",
    "    count = 1\n",
    "    dict_buses = bus_id(Buses)\n",
    "    for gen in Generators\n",
    "        if dict_buses[gen.bus] == i\n",
    "            push!(G_i,count)\n",
    "        end\n",
    "        count += 1\n",
    "    end\n",
    "    G_i\n",
    "end"
   ]
  },
  {
   "cell_type": "markdown",
   "metadata": {},
   "source": [
    "# Relaxações Convexas"
   ]
  },
  {
   "cell_type": "markdown",
   "metadata": {},
   "source": [
    "## Envelopes de McCormick"
   ]
  },
  {
   "cell_type": "markdown",
   "metadata": {},
   "source": [
    "### Função para construir os envelopes de McCormick"
   ]
  },
  {
   "cell_type": "code",
   "execution_count": 19,
   "metadata": {
    "ExecuteTime": {
     "end_time": "2020-07-13T18:37:01.297000-03:00",
     "start_time": "2020-07-13T21:37:01.124Z"
    }
   },
   "outputs": [
    {
     "data": {
      "text/plain": [
       "MC_Envelopes! (generic function with 1 method)"
      ]
     },
     "execution_count": 19,
     "metadata": {},
     "output_type": "execute_result"
    }
   ],
   "source": [
    "function MC_Envelopes!(model,w,x,y)\n",
    "    x_up = upper_bound(x) \n",
    "    x_down = lower_bound(x)\n",
    "    y_up = upper_bound(y) \n",
    "    y_down = lower_bound(y)\n",
    "    @constraint(model, y_down*x+x_down*y-x_down*y_down <= w)\n",
    "    @constraint(model, w <= y_down*x+x_up*y-x_up*y_down)\n",
    "    @constraint(model, y_up*x+x_up*y-x_up*y_up <= w)\n",
    "    @constraint(model, w <= y_up*x+x_down*y-x_down*y_up)\n",
    "end"
   ]
  },
  {
   "cell_type": "markdown",
   "metadata": {},
   "source": [
    "### Relaxação com os envelopes de McCormick"
   ]
  },
  {
   "cell_type": "code",
   "execution_count": 20,
   "metadata": {
    "ExecuteTime": {
     "end_time": "2020-07-13T18:37:02.015000-03:00",
     "start_time": "2020-07-13T21:37:01.858Z"
    }
   },
   "outputs": [
    {
     "data": {
      "text/plain": [
       "MC_relaxation! (generic function with 1 method)"
      ]
     },
     "execution_count": 20,
     "metadata": {},
     "output_type": "execute_result"
    }
   ],
   "source": [
    "function MC_relaxation!(model,Buses,Branches)\n",
    "    VR = model[Symbol(\"VR\")]\n",
    "    VI = model[Symbol(\"VI\")]\n",
    "    @variable(model, W[i=1:2*length(Buses),j=1:2*length(Buses)])\n",
    "    s = x -> x+length(Buses)\n",
    "    sqrd_volt = [W[i,i]+W[s(i),s(i)] for i=1:length(Buses)]\n",
    "    for i=1:length(Buses)\n",
    "        MC_Envelopes!(model, W[i,i], VR[i], VR[i])\n",
    "        MC_Envelopes!(model, W[s(i),s(i)], VI[i], VI[i])\n",
    "    end\n",
    "    for i=1:length(Buses)\n",
    "        for (j,l) in zip(From_nodes(i,Branches,Buses)...)    \n",
    "            MC_Envelopes!(model,W[i,j]      ,VR[i],VR[j])\n",
    "            MC_Envelopes!(model,W[s(i),s(j)],VI[i],VI[j])\n",
    "            MC_Envelopes!(model,W[s(i),j]   ,VI[i],VR[j])\n",
    "            MC_Envelopes!(model,W[j,i]      ,VR[j],VR[i])\n",
    "            MC_Envelopes!(model,W[s(j),s(i)],VI[j],VI[i])\n",
    "            MC_Envelopes!(model,W[j,s(i)]   ,VR[i],VI[j])\n",
    "        end\n",
    "    end\n",
    "end"
   ]
  },
  {
   "cell_type": "markdown",
   "metadata": {},
   "source": [
    "## Relaxação SDP"
   ]
  },
  {
   "cell_type": "code",
   "execution_count": 21,
   "metadata": {
    "ExecuteTime": {
     "end_time": "2020-07-13T18:37:03.041000-03:00",
     "start_time": "2020-07-13T21:37:02.515Z"
    }
   },
   "outputs": [
    {
     "data": {
      "text/plain": [
       "SDP_relaxation! (generic function with 1 method)"
      ]
     },
     "execution_count": 21,
     "metadata": {},
     "output_type": "execute_result"
    }
   ],
   "source": [
    "function SDP_relaxation!(model,Buses)\n",
    "    @variable(model, W[i=1:2*length(Buses),j=1:2*length(Buses)],PSD)\n",
    "end"
   ]
  },
  {
   "cell_type": "markdown",
   "metadata": {},
   "source": [
    "## Relaxação SOCP"
   ]
  },
  {
   "cell_type": "code",
   "execution_count": 22,
   "metadata": {
    "ExecuteTime": {
     "end_time": "2020-07-13T18:37:03.395000-03:00",
     "start_time": "2020-07-13T21:37:03.238Z"
    }
   },
   "outputs": [
    {
     "data": {
      "text/plain": [
       "SOCP_relaxation! (generic function with 1 method)"
      ]
     },
     "execution_count": 22,
     "metadata": {},
     "output_type": "execute_result"
    }
   ],
   "source": [
    "function SOCP_relaxation!(model,Buses,Branches)\n",
    "    @variable(model, W[i=1:2*length(Buses),j=1:2*length(Buses)])\n",
    "    s = x -> x+length(Buses)\n",
    "    for i=1:length(Buses)\n",
    "        for (j,l) in zip(From_nodes(i,Branches,Buses)...)\n",
    "            @constraint(model, [W[i,i]+W[s(i),s(i)]+W[j,j]+W[s(j),s(j)], 2*(W[i,j]+W[s(i),s(j)]), W[i,i]+W[s(i),s(i)]-W[j,j]-W[s(j),s(j)]] in SecondOrderCone())\n",
    "        end\n",
    "    end\n",
    "end"
   ]
  },
  {
   "cell_type": "markdown",
   "metadata": {},
   "source": [
    "# Modelo Completo"
   ]
  },
  {
   "cell_type": "code",
   "execution_count": 23,
   "metadata": {
    "ExecuteTime": {
     "end_time": "2020-07-13T18:37:04.134000-03:00",
     "start_time": "2020-07-13T21:37:03.955Z"
    },
    "code_folding": []
   },
   "outputs": [
    {
     "data": {
      "text/plain": [
       "build_problem (generic function with 1 method)"
      ]
     },
     "execution_count": 23,
     "metadata": {},
     "output_type": "execute_result"
    }
   ],
   "source": [
    "function build_problem(file::String, optimizer, relaxation::RELAXATION)\n",
    "    Buses, Generators, GeneratorCosts, Branches = read_matlab_file(file);\n",
    "    YR,YI,TR,TI,B,thermal_lim,ang_min,ang_max = add_constants(Branches)\n",
    "    model = Model(optimizer)\n",
    "    if relaxation == NL\n",
    "        add_global_variables!(model, Buses, Generators, Branches, thermal_lim, start = true)\n",
    "    else\n",
    "        add_global_variables!(model, Buses, Generators, Branches, thermal_lim)\n",
    "    end\n",
    "    add_objective!(model, GeneratorCosts)\n",
    "    \n",
    "    if relaxation == NL \n",
    "        add_voltage_variables!(model, Buses, start = true)\n",
    "    elseif relaxation == MC\n",
    "        add_voltage_variables!(model, Buses)\n",
    "    end\n",
    "    if relaxation == NL || relaxation == MC\n",
    "        add_reference_angle!(model, Buses)\n",
    "        VR = model[Symbol(\"VR\")]\n",
    "        VI = model[Symbol(\"VI\")]\n",
    "    end\n",
    "    \n",
    "    if relaxation == NL\n",
    "        sqrd_volt = VR.^2 .+ VI.^2\n",
    "    end\n",
    "    \n",
    "        \n",
    "    if relaxation == MC\n",
    "        MC_relaxation!(model,Buses,Branches)\n",
    "    end\n",
    "    if relaxation == SDP\n",
    "        SDP_relaxation!(model,Buses)\n",
    "    end\n",
    "    if relaxation == SOCP\n",
    "        SOCP_relaxation!(model,Buses,Branches)\n",
    "    end\n",
    "    \n",
    "    if relaxation == MC || relaxation == SDP || relaxation == SOCP\n",
    "        W = model[Symbol(\"W\")]\n",
    "        s = x -> x+length(Buses)\n",
    "        sqrd_volt = [W[i,i]+W[s(i),s(i)] for i=1:length(Buses)]\n",
    "    end\n",
    "    \n",
    "    for i=1:length(Buses)\n",
    "        constraint_power_balance!(model, Buses, Generators, Branches, sqrd_volt[i], i)\n",
    "        voltage_bounds_sqrd!(model, Buses, sqrd_volt[i], i)\n",
    "    end\n",
    "    \n",
    "    for i=1:length(Buses)\n",
    "        for (j,l) in zip(From_nodes(i,Branches,Buses)...)\n",
    "            if relaxation == NL\n",
    "                sum_product_voltages  = VR[i]*VR[j]+VI[i]*VI[j]\n",
    "                diff_product_voltages = VI[i]*VR[j]-VR[i]*VI[j]\n",
    "            elseif relaxation == MC || relaxation == SDP || relaxation == SOCP\n",
    "                sum_product_voltages  = W[i,j]+W[s(i),s(j)]\n",
    "                diff_product_voltages = W[s(j),i]-W[s(i),j]\n",
    "            end\n",
    "            constraint_line_balance!(model, YR[l], YI[l], B[l], sqrd_volt[i], sqrd_volt[j], sum_product_voltages,  diff_product_voltages, i, j, l)\n",
    "            constraint_phase_angle_diff!(model, ang_max, ang_min, sum_product_voltages, diff_product_voltages, i, j, l)\n",
    "            line_thermal_bounds_sqrd!(model,thermal_lim, i, j, l)\n",
    "        end\n",
    "    end\n",
    "    return model\n",
    "end"
   ]
  },
  {
   "cell_type": "markdown",
   "metadata": {},
   "source": [
    "# Testes"
   ]
  },
  {
   "cell_type": "markdown",
   "metadata": {},
   "source": [
    "## Caso 5 barras"
   ]
  },
  {
   "cell_type": "markdown",
   "metadata": {},
   "source": [
    "$|\\mathcal{B}| = 5 $\n",
    "\n",
    "$|\\mathcal{L}| = 6 $\n",
    "\n",
    "$|\\mathcal{G}| = 5 $"
   ]
  },
  {
   "cell_type": "code",
   "execution_count": 24,
   "metadata": {
    "ExecuteTime": {
     "end_time": "2020-07-13T18:37:05.617000-03:00",
     "start_time": "2020-07-13T21:37:05.107Z"
    }
   },
   "outputs": [
    {
     "data": {
      "text/plain": [
       "17552.0"
      ]
     },
     "execution_count": 24,
     "metadata": {},
     "output_type": "execute_result"
    }
   ],
   "source": [
    "optimal_value = 1.7552e4"
   ]
  },
  {
   "cell_type": "markdown",
   "metadata": {},
   "source": [
    "### Não linear - Ipopt"
   ]
  },
  {
   "cell_type": "code",
   "execution_count": 25,
   "metadata": {
    "ExecuteTime": {
     "end_time": "2020-07-13T18:37:18.997000-03:00",
     "start_time": "2020-07-13T21:37:05.715Z"
    }
   },
   "outputs": [],
   "source": [
    "file = full_data*tests[5]\n",
    "model_nl = build_problem(file,ipopt,NL);"
   ]
  },
  {
   "cell_type": "code",
   "execution_count": 26,
   "metadata": {
    "ExecuteTime": {
     "end_time": "2020-07-13T18:37:49.873000-03:00",
     "start_time": "2020-07-13T21:37:06.006Z"
    },
    "scrolled": true
   },
   "outputs": [
    {
     "name": "stdout",
     "output_type": "stream",
     "text": [
      "\n",
      "******************************************************************************\n",
      "This program contains Ipopt, a library for large-scale nonlinear optimization.\n",
      " Ipopt is released as open source code under the Eclipse Public License (EPL).\n",
      "         For more information visit http://projects.coin-or.org/Ipopt\n",
      "******************************************************************************\n",
      "\n",
      "This is Ipopt version 3.13.2, running with linear solver mumps.\n",
      "NOTE: Other linear solvers might be more efficient (see Ipopt documentation).\n",
      "\n",
      "Number of nonzeros in equality constraint Jacobian...:      299\n",
      "Number of nonzeros in inequality constraint Jacobian.:      140\n",
      "Number of nonzeros in Lagrangian Hessian.............:      236\n",
      "\n",
      "Total number of variables............................:       44\n",
      "                     variables with only lower bounds:        0\n",
      "                variables with lower and upper bounds:       44\n",
      "                     variables with only upper bounds:        0\n",
      "Total number of equality constraints.................:       35\n",
      "Total number of inequality constraints...............:       34\n",
      "        inequality constraints with only lower bounds:       11\n",
      "   inequality constraints with lower and upper bounds:        0\n",
      "        inequality constraints with only upper bounds:       23\n",
      "\n",
      "iter    objective    inf_pr   inf_du lg(mu)  ||d||  lg(rg) alpha_du alpha_pr  ls\n",
      "   0  1.0054400e+04 6.00e+00 1.81e+01  -1.0 0.00e+00    -  0.00e+00 0.00e+00   0\n",
      "   1  7.9820554e+03 5.53e+00 1.69e+01  -1.0 2.21e+01    -  7.26e-02 7.77e-02f  1\n",
      "   2  7.8760456e+03 5.32e+00 1.01e+01  -1.0 1.19e+01    -  1.51e-01 3.95e-02f  1\n",
      "   3  7.5792918e+03 4.17e+00 1.40e+01  -1.0 1.22e+01    -  9.53e-02 2.16e-01f  1\n",
      "   4  8.1161402e+03 3.69e+00 1.15e+01  -1.0 8.75e+00    -  2.95e-01 1.15e-01h  1\n",
      "   5  9.1645840e+03 3.09e+00 1.04e+01  -1.0 7.58e+00    -  1.74e-01 1.63e-01h  1\n",
      "   6  1.7623056e+04 5.57e-01 9.60e+01  -1.0 4.29e+00    -  6.73e-01 1.00e+00h  1\n",
      "   7  1.7572959e+04 4.04e-02 2.47e+01  -1.0 4.01e+00    -  2.90e-01 1.00e+00h  1\n",
      "   8  1.7587960e+04 1.16e-02 5.49e-01  -1.0 1.36e+00    -  1.00e+00 1.00e+00h  1\n",
      "   9  1.7562897e+04 3.59e-03 8.72e-02  -1.7 7.18e-01    -  1.00e+00 1.00e+00h  1\n",
      "iter    objective    inf_pr   inf_du lg(mu)  ||d||  lg(rg) alpha_du alpha_pr  ls\n",
      "  10  1.7552770e+04 3.78e-03 4.48e-01  -2.5 1.73e-01    -  9.98e-01 1.00e+00h  1\n",
      "  11  1.7552566e+04 7.21e-04 6.26e+00  -2.5 2.41e-02    -  1.00e+00 8.18e-01h  1\n",
      "  12  1.7552979e+04 6.80e-06 5.71e-03  -2.5 3.33e-03    -  1.00e+00 1.00e+00f  1\n",
      "  13  1.7552098e+04 7.83e-06 3.05e+00  -3.8 2.36e-02    -  1.00e+00 7.80e-01f  1\n",
      "  14  1.7551936e+04 4.04e-07 1.21e-02  -3.8 9.52e-03    -  1.00e+00 1.00e+00f  1\n",
      "  15  1.7551940e+04 2.45e-09 9.97e-04  -3.8 1.15e-03    -  1.00e+00 1.00e+00h  1\n",
      "  16  1.7551892e+04 1.72e-07 2.22e-01  -5.7 2.47e-03    -  1.00e+00 9.67e-01f  1\n",
      "  17  1.7551891e+04 9.61e-11 3.21e-05  -5.7 2.43e-04    -  1.00e+00 1.00e+00f  1\n",
      "  18  1.7551891e+04 2.01e-14 7.04e-10  -5.7 5.41e-07    -  1.00e+00 1.00e+00h  1\n",
      "  19  1.7551891e+04 5.97e-12 3.02e-07  -8.6 3.51e-05    -  1.00e+00 1.00e+00f  1\n",
      "iter    objective    inf_pr   inf_du lg(mu)  ||d||  lg(rg) alpha_du alpha_pr  ls\n",
      "  20  1.7551891e+04 1.63e-14 1.13e-12  -8.6 3.33e-08    -  1.00e+00 1.00e+00h  1\n",
      "\n",
      "Number of Iterations....: 20\n",
      "\n",
      "                                   (scaled)                 (unscaled)\n",
      "Objective...............:   4.3879727098644344e+02    1.7551890839457737e+04\n",
      "Dual infeasibility......:   1.1271576167575556e-12    4.5086304670302225e-11\n",
      "Constraint violation....:   1.5210055437364645e-14    1.6348034037605430e-14\n",
      "Complementarity.........:   2.5059076157892518e-09    1.0023630463157007e-07\n",
      "Overall NLP error.......:   2.5059076157892518e-09    1.0023630463157007e-07\n",
      "\n",
      "\n",
      "Number of objective function evaluations             = 21\n",
      "Number of objective gradient evaluations             = 21\n",
      "Number of equality constraint evaluations            = 21\n",
      "Number of inequality constraint evaluations          = 21\n",
      "Number of equality constraint Jacobian evaluations   = 21\n",
      "Number of inequality constraint Jacobian evaluations = 21\n",
      "Number of Lagrangian Hessian evaluations             = 20\n",
      "Total CPU secs in IPOPT (w/o function evaluations)   =      2.412\n",
      "Total CPU secs in NLP function evaluations           =      0.762\n",
      "\n",
      "EXIT: Optimal Solution Found.\n"
     ]
    }
   ],
   "source": [
    "optimize!(model_nl)"
   ]
  },
  {
   "cell_type": "code",
   "execution_count": 27,
   "metadata": {
    "ExecuteTime": {
     "end_time": "2020-07-13T18:37:50.175000-03:00",
     "start_time": "2020-07-13T21:37:06.680Z"
    }
   },
   "outputs": [
    {
     "data": {
      "text/plain": [
       "0.0006219265169926132"
      ]
     },
     "execution_count": 27,
     "metadata": {},
     "output_type": "execute_result"
    }
   ],
   "source": [
    "optimality_gap(model_nl,optimal_value)"
   ]
  },
  {
   "cell_type": "markdown",
   "metadata": {},
   "source": [
    "### Relaxação de McCormick - MOSEK"
   ]
  },
  {
   "cell_type": "code",
   "execution_count": 28,
   "metadata": {
    "ExecuteTime": {
     "end_time": "2020-07-13T18:37:53.856000-03:00",
     "start_time": "2020-07-13T21:37:07.288Z"
    }
   },
   "outputs": [],
   "source": [
    "file = full_data*tests[5]\n",
    "model_mc = build_problem(file,mosek,MC);"
   ]
  },
  {
   "cell_type": "code",
   "execution_count": 29,
   "metadata": {
    "ExecuteTime": {
     "end_time": "2020-07-13T18:38:02.332000-03:00",
     "start_time": "2020-07-13T21:37:07.656Z"
    },
    "scrolled": true
   },
   "outputs": [
    {
     "name": "stdout",
     "output_type": "stream",
     "text": [
      "Problem\n",
      "  Name                   :                 \n",
      "  Objective sense        : min             \n",
      "  Type                   : CONIC (conic optimization problem)\n",
      "  Constraints            : 286             \n",
      "  Cones                  : 13              \n",
      "  Scalar variables       : 147             \n",
      "  Matrix variables       : 0               \n",
      "  Integer variables      : 0               \n",
      "\n",
      "Optimizer started.\n",
      "Presolve started.\n",
      "Linear dependency checker started.\n",
      "Linear dependency checker terminated.\n",
      "Eliminator started.\n",
      "Freed constraints in eliminator : 16\n",
      "Eliminator terminated.\n",
      "Eliminator started.\n",
      "Freed constraints in eliminator : 0\n",
      "Eliminator terminated.\n",
      "Eliminator - tries                  : 2                 time                   : 0.00            \n",
      "Lin. dep.  - tries                  : 1                 time                   : 0.00            \n",
      "Lin. dep.  - number                 : 0               \n",
      "Presolve terminated. Time: 0.01    \n",
      "Problem\n",
      "  Name                   :                 \n",
      "  Objective sense        : min             \n",
      "  Type                   : CONIC (conic optimization problem)\n",
      "  Constraints            : 286             \n",
      "  Cones                  : 13              \n",
      "  Scalar variables       : 147             \n",
      "  Matrix variables       : 0               \n",
      "  Integer variables      : 0               \n",
      "\n",
      "Optimizer  - threads                : 2               \n",
      "Optimizer  - solved problem         : the dual        \n",
      "Optimizer  - Constraints            : 79\n",
      "Optimizer  - Cones                  : 13\n",
      "Optimizer  - Scalar variables       : 344               conic                  : 67              \n",
      "Optimizer  - Semi-definite variables: 0                 scalarized             : 0               \n",
      "Factor     - setup time             : 0.00              dense det. time        : 0.00            \n",
      "Factor     - ML order time          : 0.00              GP order time          : 0.00            \n",
      "Factor     - nonzeros before factor : 1121              after factor           : 1188            \n",
      "Factor     - dense dim.             : 0                 flops                  : 3.72e+04        \n",
      "ITE PFEAS    DFEAS    GFEAS    PRSTATUS   POBJ              DOBJ              MU       TIME  \n",
      "0   2.5e+03  2.0e+03  1.4e+02  0.00e+00   0.000000000e+00   -1.419168967e+02  1.0e+00  0.01  \n",
      "1   8.8e+02  7.1e+02  8.5e+01  -9.98e-01  -2.076064396e+03  -2.215748613e+03  3.6e-01  0.03  \n",
      "2   3.5e+02  2.8e+02  5.3e+01  -9.85e-01  -2.726060836e+03  -2.859128127e+03  1.4e-01  0.03  \n",
      "3   1.6e+02  1.3e+02  3.4e+01  -9.25e-01  -3.968333555e+03  -4.086745303e+03  6.4e-02  0.03  \n",
      "4   1.3e+02  1.1e+02  3.0e+01  -7.52e-01  -2.471897122e+03  -2.585179883e+03  5.4e-02  0.03  \n",
      "5   7.2e+01  5.8e+01  1.8e+01  -6.81e-01  -7.813001807e+02  -8.706909784e+02  2.9e-02  0.03  \n",
      "6   3.0e+01  2.4e+01  7.6e+00  -3.35e-01  2.473788055e+03   2.422172385e+03   1.2e-02  0.03  \n",
      "7   1.8e+01  1.4e+01  3.9e+00  2.28e-01   4.585714861e+03   4.550764921e+03   7.2e-03  0.03  \n",
      "8   1.2e+01  1.0e+01  2.4e+00  4.79e-01   5.844930862e+03   5.818831263e+03   5.0e-03  0.03  \n",
      "9   8.7e+00  7.1e+00  1.5e+00  5.81e-01   6.868887468e+03   6.849440316e+03   3.5e-03  0.05  \n",
      "10  5.0e+00  4.0e+00  6.8e-01  6.83e-01   8.042642501e+03   8.030921412e+03   2.0e-03  0.05  \n",
      "11  4.1e+00  3.3e+00  6.6e-01  3.52e-01   7.837420753e+03   7.826139887e+03   1.6e-03  0.05  \n",
      "12  3.0e+00  2.4e+00  3.8e-01  5.59e-01   8.855354019e+03   8.846750837e+03   1.2e-03  0.05  \n",
      "13  9.8e-01  7.9e-01  8.3e-02  6.10e-01   1.013120913e+04   1.012823069e+04   4.0e-04  0.05  \n",
      "14  1.5e-01  1.2e-01  5.1e-03  9.28e-01   1.076718280e+04   1.076672713e+04   6.0e-05  0.05  \n",
      "15  6.9e-02  5.6e-02  1.7e-03  9.45e-01   1.082253647e+04   1.082234312e+04   2.8e-05  0.05  \n",
      "16  1.7e-02  1.3e-02  2.2e-04  9.85e-01   1.086701264e+04   1.086697360e+04   6.7e-06  0.05  \n",
      "17  3.7e-03  3.0e-03  2.4e-05  9.93e-01   1.087936820e+04   1.087935993e+04   1.5e-06  0.05  \n",
      "18  8.8e-04  7.1e-04  2.9e-06  9.98e-01   1.088209943e+04   1.088209767e+04   3.5e-07  0.05  \n",
      "19  5.2e-05  4.2e-05  4.2e-08  9.97e-01   1.088293704e+04   1.088293694e+04   2.2e-08  0.05  \n",
      "20  1.9e-05  1.5e-05  9.0e-09  1.00e+00   1.088297086e+04   1.088297082e+04   7.8e-09  0.05  \n",
      "21  5.7e-06  4.6e-06  1.6e-09  1.00e+00   1.088298422e+04   1.088298421e+04   2.4e-09  0.05  \n",
      "22  3.1e-07  2.5e-07  1.9e-11  1.00e+00   1.088298988e+04   1.088298988e+04   1.3e-10  0.05  \n",
      "23  1.4e-09  2.8e-08  1.1e-13  1.00e+00   1.088299020e+04   1.088299020e+04   5.9e-13  0.05  \n",
      "Optimizer terminated. Time: 0.06    \n",
      "\n"
     ]
    }
   ],
   "source": [
    "optimize!(model_mc)"
   ]
  },
  {
   "cell_type": "code",
   "execution_count": 30,
   "metadata": {
    "ExecuteTime": {
     "end_time": "2020-07-13T18:38:02.878000-03:00",
     "start_time": "2020-07-13T21:37:08.007Z"
    }
   },
   "outputs": [
    {
     "data": {
      "text/plain": [
       "37.99572584555339"
      ]
     },
     "execution_count": 30,
     "metadata": {},
     "output_type": "execute_result"
    }
   ],
   "source": [
    "optimality_gap_mosek(model_mc,optimal_value,file)"
   ]
  },
  {
   "cell_type": "markdown",
   "metadata": {},
   "source": [
    "### Relaxação SDP - MOSEK"
   ]
  },
  {
   "cell_type": "code",
   "execution_count": 31,
   "metadata": {
    "ExecuteTime": {
     "end_time": "2020-07-13T18:38:03.300000-03:00",
     "start_time": "2020-07-13T21:37:08.744Z"
    }
   },
   "outputs": [],
   "source": [
    "file = full_data*tests[5]\n",
    "model_sdp = build_problem(file,mosek,SDP);"
   ]
  },
  {
   "cell_type": "code",
   "execution_count": 32,
   "metadata": {
    "ExecuteTime": {
     "end_time": "2020-07-13T18:38:04.778000-03:00",
     "start_time": "2020-07-13T21:37:09.108Z"
    }
   },
   "outputs": [
    {
     "name": "stdout",
     "output_type": "stream",
     "text": [
      "Problem\n",
      "  Name                   :                 \n",
      "  Objective sense        : min             \n",
      "  Type                   : CONIC (conic optimization problem)\n",
      "  Constraints            : 101             \n",
      "  Cones                  : 13              \n",
      "  Scalar variables       : 85              \n",
      "  Matrix variables       : 1               \n",
      "  Integer variables      : 0               \n",
      "\n",
      "Optimizer started.\n",
      "Presolve started.\n",
      "Linear dependency checker started.\n",
      "Linear dependency checker terminated.\n",
      "Eliminator started.\n",
      "Freed constraints in eliminator : 0\n",
      "Eliminator terminated.\n",
      "Eliminator - tries                  : 1                 time                   : 0.00            \n",
      "Lin. dep.  - tries                  : 1                 time                   : 0.00            \n",
      "Lin. dep.  - number                 : 0               \n",
      "Presolve terminated. Time: 0.00    \n",
      "Problem\n",
      "  Name                   :                 \n",
      "  Objective sense        : min             \n",
      "  Type                   : CONIC (conic optimization problem)\n",
      "  Constraints            : 101             \n",
      "  Cones                  : 13              \n",
      "  Scalar variables       : 85              \n",
      "  Matrix variables       : 1               \n",
      "  Integer variables      : 0               \n",
      "\n",
      "Optimizer  - threads                : 2               \n",
      "Optimizer  - solved problem         : the primal      \n",
      "Optimizer  - Constraints            : 51\n",
      "Optimizer  - Cones                  : 12\n",
      "Optimizer  - Scalar variables       : 74                conic                  : 48              \n",
      "Optimizer  - Semi-definite variables: 1                 scalarized             : 55              \n",
      "Factor     - setup time             : 0.00              dense det. time        : 0.00            \n",
      "Factor     - ML order time          : 0.00              GP order time          : 0.00            \n",
      "Factor     - nonzeros before factor : 924               after factor           : 924             \n",
      "Factor     - dense dim.             : 0                 flops                  : 5.02e+04        \n",
      "ITE PFEAS    DFEAS    GFEAS    PRSTATUS   POBJ              DOBJ              MU       TIME  \n",
      "0   1.3e+01  4.0e+03  1.4e+02  0.00e+00   2.500000000e+04   2.485808310e+04   1.0e+00  0.00  \n",
      "1   3.4e+00  1.1e+03  7.4e+01  -9.99e-01  2.388496036e+04   2.374606451e+04   2.7e-01  0.02  \n",
      "2   1.3e+00  4.2e+02  4.6e+01  -9.84e-01  2.194822633e+04   2.181778311e+04   1.1e-01  0.02  \n",
      "3   7.2e-01  2.3e+02  3.1e+01  -8.70e-01  2.112148925e+04   2.100801112e+04   5.7e-02  0.02  \n",
      "4   2.4e-01  7.7e+01  1.3e+01  -6.88e-01  1.753272659e+04   1.746334295e+04   1.9e-02  0.02  \n",
      "5   1.0e-01  3.3e+01  5.2e+00  -1.15e-01  1.445500564e+04   1.441688177e+04   8.3e-03  0.02  \n",
      "6   7.0e-02  2.2e+01  3.2e+00  3.00e-01   1.354517852e+04   1.351642414e+04   5.6e-03  0.02  \n",
      "7   2.9e-02  9.3e+00  1.2e+00  3.35e-01   1.232496976e+04   1.231146012e+04   2.3e-03  0.02  \n",
      "8   6.5e-03  2.1e+00  1.3e-01  6.95e-01   1.122989674e+04   1.122663619e+04   5.2e-04  0.02  \n",
      "9   3.9e-03  1.3e+00  7.2e-02  7.33e-01   1.113208334e+04   1.113014798e+04   3.1e-04  0.02  \n",
      "10  2.1e-03  6.8e-01  4.3e-02  4.50e-01   1.110674938e+04   1.110614246e+04   1.7e-04  0.02  \n",
      "11  8.2e-04  2.6e-01  2.7e-02  -3.57e-01  1.124727837e+04   1.125154625e+04   6.6e-05  0.02  \n",
      "12  5.7e-04  1.8e-01  2.1e-02  -6.11e-01  1.132636573e+04   1.133307267e+04   4.5e-05  0.02  \n",
      "13  4.5e-04  1.4e-01  1.4e-02  -3.11e-01  1.148792526e+04   1.149279613e+04   3.6e-05  0.02  \n",
      "14  2.0e-04  6.4e-02  7.4e-03  -3.26e-01  1.180337827e+04   1.181140461e+04   1.6e-05  0.02  \n",
      "15  1.1e-04  3.6e-02  5.3e-03  -5.04e-01  1.213549205e+04   1.215027605e+04   9.0e-06  0.02  \n",
      "16  5.1e-05  1.6e-02  2.6e-03  -4.49e-01  1.309142905e+04   1.310992484e+04   4.1e-06  0.02  \n",
      "17  3.4e-05  1.1e-02  1.7e-03  -2.17e-02  1.381255136e+04   1.382973423e+04   2.7e-06  0.02  \n",
      "18  1.7e-05  5.3e-03  5.9e-04  3.28e-01   1.494796800e+04   1.495725839e+04   1.3e-06  0.02  \n",
      "19  7.5e-06  2.4e-03  2.2e-04  5.96e-01   1.565324705e+04   1.565924790e+04   6.0e-07  0.02  \n",
      "20  3.2e-06  1.0e-03  7.3e-05  7.95e-01   1.606738619e+04   1.607113289e+04   2.6e-07  0.02  \n",
      "21  1.3e-06  4.0e-04  2.2e-05  6.85e-01   1.634260018e+04   1.634481428e+04   1.0e-07  0.02  \n",
      "22  6.9e-07  2.2e-04  1.0e-05  6.81e-01   1.645206212e+04   1.645360590e+04   5.5e-08  0.02  \n",
      "23  2.5e-07  8.0e-05  2.3e-06  8.73e-01   1.656216060e+04   1.656279915e+04   2.0e-08  0.02  \n",
      "24  3.6e-08  1.1e-05  1.4e-07  8.65e-01   1.662401042e+04   1.662413280e+04   2.8e-09  0.02  \n",
      "25  8.9e-10  2.8e-07  5.8e-10  9.94e-01   1.663547197e+04   1.663547522e+04   7.1e-11  0.02  \n",
      "26  3.5e-11  1.1e-08  4.5e-12  9.99e-01   1.663576922e+04   1.663576935e+04   2.8e-12  0.02  \n",
      "27  7.1e-13  8.6e-08  1.3e-14  1.00e+00   1.663578124e+04   1.663578125e+04   5.7e-14  0.03  \n",
      "Optimizer terminated. Time: 0.03    \n",
      "\n"
     ]
    }
   ],
   "source": [
    "optimize!(model_sdp)"
   ]
  },
  {
   "cell_type": "code",
   "execution_count": 33,
   "metadata": {
    "ExecuteTime": {
     "end_time": "2020-07-13T18:38:04.781000-03:00",
     "start_time": "2020-07-13T21:37:09.496Z"
    }
   },
   "outputs": [
    {
     "data": {
      "text/plain": [
       "5.220024821741412"
      ]
     },
     "execution_count": 33,
     "metadata": {},
     "output_type": "execute_result"
    }
   ],
   "source": [
    "optimality_gap_mosek(model_sdp,optimal_value,file)"
   ]
  },
  {
   "cell_type": "markdown",
   "metadata": {},
   "source": [
    "### Relaxação SOCP - MOSEK"
   ]
  },
  {
   "cell_type": "code",
   "execution_count": 34,
   "metadata": {
    "ExecuteTime": {
     "end_time": "2020-07-13T18:38:05.174000-03:00",
     "start_time": "2020-07-13T21:37:10.180Z"
    }
   },
   "outputs": [],
   "source": [
    "file = full_data*tests[5]\n",
    "model_socp = build_problem(file,mosek,SOCP);"
   ]
  },
  {
   "cell_type": "code",
   "execution_count": 35,
   "metadata": {
    "ExecuteTime": {
     "end_time": "2020-07-13T18:38:06.482000-03:00",
     "start_time": "2020-07-13T21:37:10.600Z"
    }
   },
   "outputs": [
    {
     "name": "stdout",
     "output_type": "stream",
     "text": [
      "Problem\n",
      "  Name                   :                 \n",
      "  Objective sense        : min             \n",
      "  Type                   : CONIC (conic optimization problem)\n",
      "  Constraints            : 119             \n",
      "  Cones                  : 19              \n",
      "  Scalar variables       : 137             \n",
      "  Matrix variables       : 0               \n",
      "  Integer variables      : 0               \n",
      "\n",
      "Optimizer started.\n",
      "Presolve started.\n",
      "Linear dependency checker started.\n",
      "Linear dependency checker terminated.\n",
      "Eliminator started.\n",
      "Freed constraints in eliminator : 17\n",
      "Eliminator terminated.\n",
      "Eliminator started.\n",
      "Freed constraints in eliminator : 0\n",
      "Eliminator terminated.\n",
      "Eliminator - tries                  : 2                 time                   : 0.00            \n",
      "Lin. dep.  - tries                  : 1                 time                   : 0.00            \n",
      "Lin. dep.  - number                 : 0               \n",
      "Presolve terminated. Time: 0.01    \n",
      "Problem\n",
      "  Name                   :                 \n",
      "  Objective sense        : min             \n",
      "  Type                   : CONIC (conic optimization problem)\n",
      "  Constraints            : 119             \n",
      "  Cones                  : 19              \n",
      "  Scalar variables       : 137             \n",
      "  Matrix variables       : 0               \n",
      "  Integer variables      : 0               \n",
      "\n",
      "Optimizer  - threads                : 2               \n",
      "Optimizer  - solved problem         : the primal      \n",
      "Optimizer  - Constraints            : 52\n",
      "Optimizer  - Cones                  : 18\n",
      "Optimizer  - Scalar variables       : 92                conic                  : 66              \n",
      "Optimizer  - Semi-definite variables: 0                 scalarized             : 0               \n",
      "Factor     - setup time             : 0.00              dense det. time        : 0.00            \n",
      "Factor     - ML order time          : 0.00              GP order time          : 0.00            \n",
      "Factor     - nonzeros before factor : 375               after factor           : 487             \n",
      "Factor     - dense dim.             : 0                 flops                  : 7.13e+03        \n",
      "ITE PFEAS    DFEAS    GFEAS    PRSTATUS   POBJ              DOBJ              MU       TIME  \n",
      "0   1.3e+01  4.0e+03  1.4e+02  0.00e+00   2.500000000e+04   2.485808310e+04   1.0e+00  0.03  \n",
      "1   3.3e+00  1.1e+03  7.3e+01  -9.99e-01  2.385566715e+04   2.371685713e+04   2.6e-01  0.08  \n",
      "2   1.3e+00  4.2e+02  4.5e+01  -9.84e-01  2.194116458e+04   2.181087004e+04   1.0e-01  0.08  \n",
      "3   7.0e-01  2.2e+02  3.0e+01  -8.70e-01  2.109957639e+04   2.098679628e+04   5.6e-02  0.09  \n",
      "4   2.3e-01  7.3e+01  1.3e+01  -6.84e-01  1.746993381e+04   1.740225292e+04   1.8e-02  0.11  \n",
      "5   1.0e-01  3.2e+01  5.0e+00  -1.07e-01  1.441784171e+04   1.438066106e+04   8.0e-03  0.11  \n",
      "6   6.8e-02  2.2e+01  3.1e+00  3.13e-01   1.351442586e+04   1.348641719e+04   5.4e-03  0.11  \n",
      "7   3.0e-02  9.5e+00  1.2e+00  3.44e-01   1.239660206e+04   1.238268461e+04   2.4e-03  0.11  \n",
      "8   1.2e-02  3.9e+00  3.5e-01  6.74e-01   1.157527440e+04   1.156925231e+04   9.8e-04  0.11  \n",
      "9   9.2e-03  2.9e+00  2.6e-01  6.07e-01   1.148815136e+04   1.148363846e+04   7.3e-04  0.13  \n",
      "10  5.2e-03  1.6e+00  1.9e-01  1.94e-01   1.162291601e+04   1.162214803e+04   4.1e-04  0.13  \n",
      "11  3.3e-03  1.0e+00  1.3e-01  -3.48e-01  1.176256405e+04   1.176536002e+04   2.6e-04  0.13  \n",
      "12  2.0e-03  6.3e-01  7.0e-02  1.19e-01   1.193835637e+04   1.194125872e+04   1.6e-04  0.13  \n",
      "13  1.6e-03  5.2e-01  6.6e-02  -2.67e-01  1.196615950e+04   1.197153669e+04   1.3e-04  0.13  \n",
      "14  7.3e-04  2.3e-01  3.1e-02  -2.62e-01  1.252071330e+04   1.252923082e+04   5.8e-05  0.13  \n",
      "15  4.2e-04  1.3e-01  1.3e-02  5.02e-01   1.293896963e+04   1.294375946e+04   3.3e-05  0.13  \n",
      "16  4.0e-04  1.3e-01  1.4e-02  4.02e-02   1.298084190e+04   1.298765935e+04   3.2e-05  0.13  \n",
      "17  2.9e-04  9.1e-02  1.1e-02  5.57e-02   1.329002486e+04   1.329793047e+04   2.3e-05  0.14  \n",
      "18  1.3e-04  4.2e-02  3.9e-03  3.23e-01   1.398826993e+04   1.399332736e+04   1.1e-05  0.14  \n",
      "19  2.3e-05  7.4e-03  3.2e-04  7.35e-01   1.464233738e+04   1.464346062e+04   1.9e-06  0.14  \n",
      "20  4.8e-06  1.5e-03  3.1e-05  9.69e-01   1.477677625e+04   1.477702603e+04   3.8e-07  0.14  \n",
      "21  1.5e-06  4.8e-04  5.7e-06  9.94e-01   1.480067019e+04   1.480075813e+04   1.2e-07  0.14  \n",
      "22  3.5e-07  1.1e-04  6.4e-07  9.98e-01   1.481045900e+04   1.481048081e+04   2.8e-08  0.16  \n",
      "23  8.2e-08  2.6e-05  7.4e-08  1.00e+00   1.481258677e+04   1.481259200e+04   6.5e-09  0.16  \n",
      "24  1.7e-08  5.4e-06  7.6e-09  1.00e+00   1.481310139e+04   1.481310268e+04   1.4e-09  0.16  \n",
      "25  2.6e-09  8.2e-07  4.4e-10  1.00e+00   1.481322366e+04   1.481322386e+04   2.0e-10  0.16  \n",
      "26  8.2e-10  2.6e-07  8.1e-11  1.00e+00   1.481323859e+04   1.481323865e+04   6.5e-11  0.16  \n",
      "27  5.3e-11  1.7e-08  1.5e-12  1.00e+00   1.481324512e+04   1.481324513e+04   4.2e-12  0.17  \n",
      "Optimizer terminated. Time: 0.17    \n",
      "\n"
     ]
    }
   ],
   "source": [
    "optimize!(model_socp)"
   ]
  },
  {
   "cell_type": "code",
   "execution_count": 36,
   "metadata": {
    "ExecuteTime": {
     "end_time": "2020-07-13T18:38:06.494000-03:00",
     "start_time": "2020-07-13T21:37:10.968Z"
    }
   },
   "outputs": [
    {
     "data": {
      "text/plain": [
       "15.603662703174829"
      ]
     },
     "execution_count": 36,
     "metadata": {},
     "output_type": "execute_result"
    }
   ],
   "source": [
    "optimality_gap_mosek(model_socp,optimal_value,file)"
   ]
  },
  {
   "cell_type": "markdown",
   "metadata": {},
   "source": [
    "### Avaliação dos Resultados"
   ]
  },
  {
   "cell_type": "code",
   "execution_count": 37,
   "metadata": {
    "ExecuteTime": {
     "end_time": "2020-07-13T18:38:06.544000-03:00",
     "start_time": "2020-07-13T21:37:11.655Z"
    }
   },
   "outputs": [],
   "source": [
    "models = [model_nl,model_mc,model_sdp,model_socp];"
   ]
  },
  {
   "cell_type": "code",
   "execution_count": 38,
   "metadata": {
    "ExecuteTime": {
     "end_time": "2020-07-13T18:38:06.717000-03:00",
     "start_time": "2020-07-13T21:37:12.025Z"
    },
    "code_folding": []
   },
   "outputs": [
    {
     "data": {
      "text/plain": [
       "plot_var (generic function with 1 method)"
      ]
     },
     "execution_count": 38,
     "metadata": {},
     "output_type": "execute_result"
    }
   ],
   "source": [
    "function plot_var(models,variable,title,y_label)\n",
    "    fig = figure(1)\n",
    "    ax = fig.add_subplot(1,1,1)\n",
    "    vars = [value.(model[Symbol(variable)]) for model in models]\n",
    "    var_length = length(vars[1])\n",
    "    models_type = [\"NL\",\"MC\",\"SDP\",\"SOCP\"]\n",
    "    width = 0.15\n",
    "    G_labels = [\"G\"*string(i) for i = 1:var_length]\n",
    "    xs = 1:var_length\n",
    "    for (i,var) in enumerate(vars)\n",
    "        ax.bar(xs.+(i-2.5)*width,var,width,label = models_type[i])\n",
    "    end\n",
    "    ax.set_title(title)\n",
    "    ax.set_ylabel(y_label)\n",
    "    ax.set_xticks(xs)\n",
    "    ax.set_xticklabels(G_labels)\n",
    "    ax.legend()\n",
    "    return fig\n",
    "end"
   ]
  },
  {
   "cell_type": "code",
   "execution_count": 39,
   "metadata": {
    "ExecuteTime": {
     "end_time": "2020-07-13T18:38:12.309000-03:00",
     "start_time": "2020-07-13T21:37:12.536Z"
    }
   },
   "outputs": [
    {
     "data": {
      "image/png": "[encoded data removed]",
      "text/plain": [
       "Figure(PyObject <Figure size 640x480 with 1 Axes>)"
      ]
     },
     "metadata": {},
     "output_type": "display_data"
    }
   ],
   "source": [
    "plot_var(models,\"p_g\",\"Geração Ativa\",\"Geração (MW)\");"
   ]
  },
  {
   "cell_type": "code",
   "execution_count": 40,
   "metadata": {
    "ExecuteTime": {
     "end_time": "2020-07-13T18:38:12.610000-03:00",
     "start_time": "2020-07-13T21:37:13.012Z"
    }
   },
   "outputs": [
    {
     "data": {
      "image/png": "[encoded data removed]",
      "text/plain": [
       "Figure(PyObject <Figure size 640x480 with 1 Axes>)"
      ]
     },
     "metadata": {},
     "output_type": "display_data"
    }
   ],
   "source": [
    "plot_var(models,\"q_g\",\"Geração Reativa\",\"Geração (MW)\");"
   ]
  },
  {
   "cell_type": "markdown",
   "metadata": {},
   "source": [
    "## Caso 39 barras"
   ]
  },
  {
   "cell_type": "markdown",
   "metadata": {
    "ExecuteTime": {
     "end_time": "2020-07-07T17:26:56.242000-03:00",
     "start_time": "2020-07-07T20:26:56.235Z"
    }
   },
   "source": [
    "$|\\mathcal{B}| = 39 $\n",
    "\n",
    "$|\\mathcal{L}| = 46 $\n",
    "\n",
    "$|\\mathcal{G}| = 10 $"
   ]
  },
  {
   "cell_type": "code",
   "execution_count": 41,
   "metadata": {
    "ExecuteTime": {
     "end_time": "2020-07-13T18:38:12.613000-03:00",
     "start_time": "2020-07-13T21:37:14.264Z"
    }
   },
   "outputs": [
    {
     "data": {
      "text/plain": [
       "138420.0"
      ]
     },
     "execution_count": 41,
     "metadata": {},
     "output_type": "execute_result"
    }
   ],
   "source": [
    "optimal_value = 1.3842e5"
   ]
  },
  {
   "cell_type": "markdown",
   "metadata": {},
   "source": [
    "### Não linear - Ipopt"
   ]
  },
  {
   "cell_type": "code",
   "execution_count": 42,
   "metadata": {
    "ExecuteTime": {
     "end_time": "2020-07-13T18:38:12.642000-03:00",
     "start_time": "2020-07-13T21:37:15.030Z"
    }
   },
   "outputs": [],
   "source": [
    "file = full_data*tests[39]\n",
    "model_nl = build_problem(file,ipopt,NL);"
   ]
  },
  {
   "cell_type": "code",
   "execution_count": 43,
   "metadata": {
    "ExecuteTime": {
     "end_time": "2020-07-13T18:38:12.806000-03:00",
     "start_time": "2020-07-13T21:37:15.416Z"
    },
    "scrolled": true
   },
   "outputs": [
    {
     "name": "stdout",
     "output_type": "stream",
     "text": [
      "This is Ipopt version 3.13.2, running with linear solver mumps.\n",
      "NOTE: Other linear solvers might be more efficient (see Ipopt documentation).\n",
      "\n",
      "Number of nonzeros in equality constraint Jacobian...:     2149\n",
      "Number of nonzeros in inequality constraint Jacobian.:     1076\n",
      "Number of nonzeros in Lagrangian Hessian.............:     1764\n",
      "\n",
      "Total number of variables............................:      282\n",
      "                     variables with only lower bounds:        0\n",
      "                variables with lower and upper bounds:      282\n",
      "                     variables with only upper bounds:        0\n",
      "Total number of equality constraints.................:      263\n",
      "Total number of inequality constraints...............:      262\n",
      "        inequality constraints with only lower bounds:       85\n",
      "   inequality constraints with lower and upper bounds:        0\n",
      "        inequality constraints with only upper bounds:      177\n",
      "\n",
      "iter    objective    inf_pr   inf_du lg(mu)  ||d||  lg(rg) alpha_du alpha_pr  ls\n",
      "   0  2.3768653e+04 1.20e+01 7.11e+00  -1.0 0.00e+00    -  0.00e+00 0.00e+00   0\n",
      "   1  3.4704925e+04 1.06e+01 9.97e+00  -1.0 3.47e+01    -  5.97e-02 1.17e-01h  1\n",
      "   2  3.6127244e+04 1.04e+01 9.89e+00  -1.0 7.14e+01    -  2.80e-02 1.93e-02h  1\n",
      "   3  6.9654760e+04 5.74e+00 7.87e+01  -1.0 7.60e+01    -  7.10e-02 4.49e-01H  1\n",
      "   4  7.2270987e+04 5.46e+00 7.34e+01  -1.0 7.09e+01    -  4.03e-01 4.83e-02h  1\n",
      "   5  8.2246766e+04 4.57e+00 6.08e+01  -1.0 5.26e+01    -  2.50e-01 1.62e-01h  1\n",
      "   6  1.0285854e+05 2.80e+00 3.75e+01  -1.0 5.01e+01    -  3.53e-01 3.87e-01h  1\n",
      "   7  1.1044524e+05 2.16e+00 3.83e+01  -1.0 5.19e+01    -  3.74e-01 2.31e-01h  1\n",
      "   8  1.2017939e+05 1.32e+00 1.96e+01  -1.0 5.00e+01    -  7.27e-01 3.88e-01h  1\n",
      "   9  1.2239118e+05 1.15e+00 2.27e+01  -1.0 2.89e+01    -  5.00e-01 1.27e-01h  1\n",
      "iter    objective    inf_pr   inf_du lg(mu)  ||d||  lg(rg) alpha_du alpha_pr  ls\n",
      "  10  1.3019825e+05 5.70e-01 1.18e+01  -1.0 3.22e+01    -  3.44e-01 5.05e-01h  1\n",
      "  11  1.3163571e+05 4.61e-01 9.50e+00  -1.0 3.70e+01    -  6.65e-01 1.90e-01h  1\n",
      "  12  1.3329708e+05 6.98e-01 7.57e+00  -1.0 2.55e+01    -  1.95e-01 2.62e-01h  1\n",
      "  13  1.3728428e+05 1.72e-01 2.57e+00  -1.0 3.97e+00    -  1.00e+00 7.62e-01h  1\n",
      "  14  1.3855132e+05 1.89e-03 4.91e-01  -1.0 2.54e+00    -  8.88e-01 1.00e+00h  1\n",
      "  15  1.3848951e+05 4.55e-03 1.41e-01  -1.7 6.45e-01    -  9.18e-01 9.77e-01f  1\n",
      "  16  1.3847336e+05 1.87e-03 4.50e-01  -2.5 1.11e+00    -  6.07e-01 5.02e-01f  1\n",
      "  17  1.3846305e+05 2.75e-03 4.88e-01  -2.5 9.81e-01    -  9.49e-01 8.18e-01h  1\n",
      "  18  1.3846220e+05 2.25e-04 8.36e-03  -2.5 2.20e-01    -  1.00e+00 9.91e-01h  1\n",
      "  19  1.3846110e+05 9.27e-05 3.12e-01  -3.8 1.03e-01    -  1.00e+00 6.83e-01h  1\n",
      "iter    objective    inf_pr   inf_du lg(mu)  ||d||  lg(rg) alpha_du alpha_pr  ls\n",
      "  20  1.3846070e+05 7.54e-06 4.36e-03  -3.8 3.57e-02    -  1.00e+00 9.94e-01h  1\n",
      "  21  1.3846071e+05 1.52e-07 4.86e-05  -3.8 5.16e-03    -  1.00e+00 1.00e+00f  1\n",
      "  22  1.3846062e+05 1.19e-07 1.61e-02  -5.7 6.06e-03    -  1.00e+00 9.31e-01h  1\n",
      "  23  1.3846061e+05 6.16e-10 6.82e-08  -5.7 3.20e-04    -  1.00e+00 1.00e+00f  1\n",
      "  24  1.3846061e+05 2.05e-11 5.54e-06  -8.6 6.87e-05    -  1.00e+00 9.99e-01h  1\n",
      "  25  1.3846061e+05 1.11e-13 8.03e-12  -8.6 7.25e-08    -  1.00e+00 1.00e+00f  1\n",
      "\n",
      "Number of Iterations....: 25\n",
      "\n",
      "                                   (scaled)                 (unscaled)\n",
      "Objective...............:   3.9736556004818976e+03    1.3846061080374234e+05\n",
      "Dual infeasibility......:   8.0276852658429743e-12    2.7972182720465854e-10\n",
      "Constraint violation....:   2.3203661214665772e-14    1.1091128016005315e-13\n",
      "Complementarity.........:   2.5059233782615597e-09    8.7318005500877997e-08\n",
      "Overall NLP error.......:   2.5059233782615597e-09    8.7318005500877997e-08\n",
      "\n",
      "\n",
      "Number of objective function evaluations             = 28\n",
      "Number of objective gradient evaluations             = 26\n",
      "Number of equality constraint evaluations            = 28\n",
      "Number of inequality constraint evaluations          = 28\n",
      "Number of equality constraint Jacobian evaluations   = 26\n",
      "Number of inequality constraint Jacobian evaluations = 26\n",
      "Number of Lagrangian Hessian evaluations             = 25\n",
      "Total CPU secs in IPOPT (w/o function evaluations)   =      0.153\n",
      "Total CPU secs in NLP function evaluations           =      0.000\n",
      "\n",
      "EXIT: Optimal Solution Found.\n"
     ]
    }
   ],
   "source": [
    "optimize!(model_nl)"
   ]
  },
  {
   "cell_type": "code",
   "execution_count": 44,
   "metadata": {
    "ExecuteTime": {
     "end_time": "2020-07-13T18:38:12.809000-03:00",
     "start_time": "2020-07-13T21:37:16.440Z"
    }
   },
   "outputs": [
    {
     "data": {
      "text/plain": [
       "-0.02933882657299528"
      ]
     },
     "execution_count": 44,
     "metadata": {},
     "output_type": "execute_result"
    }
   ],
   "source": [
    "optimality_gap(model_nl,optimal_value)"
   ]
  },
  {
   "cell_type": "markdown",
   "metadata": {},
   "source": [
    "### Relaxação de McCormick - MOSEK"
   ]
  },
  {
   "cell_type": "code",
   "execution_count": 45,
   "metadata": {
    "ExecuteTime": {
     "end_time": "2020-07-13T18:38:12.843000-03:00",
     "start_time": "2020-07-13T21:37:17.556Z"
    }
   },
   "outputs": [],
   "source": [
    "file = full_data*tests[39]\n",
    "model_mc = build_problem(file,mosek,MC);"
   ]
  },
  {
   "cell_type": "code",
   "execution_count": 46,
   "metadata": {
    "ExecuteTime": {
     "end_time": "2020-07-13T18:38:12.984000-03:00",
     "start_time": "2020-07-13T21:37:17.816Z"
    },
    "scrolled": true
   },
   "outputs": [
    {
     "name": "stdout",
     "output_type": "stream",
     "text": [
      "Problem\n",
      "  Name                   :                 \n",
      "  Objective sense        : min             \n",
      "  Type                   : CONIC (conic optimization problem)\n",
      "  Constraints            : 2180            \n",
      "  Cones                  : 93              \n",
      "  Scalar variables       : 1053            \n",
      "  Matrix variables       : 0               \n",
      "  Integer variables      : 0               \n",
      "\n",
      "Optimizer started.\n",
      "Presolve started.\n",
      "Linear dependency checker started.\n",
      "Linear dependency checker terminated.\n",
      "Eliminator started.\n",
      "Freed constraints in eliminator : 132\n",
      "Eliminator terminated.\n",
      "Eliminator started.\n",
      "Freed constraints in eliminator : 9\n",
      "Eliminator terminated.\n",
      "Eliminator - tries                  : 2                 time                   : 0.00            \n",
      "Lin. dep.  - tries                  : 1                 time                   : 0.00            \n",
      "Lin. dep.  - number                 : 0               \n",
      "Presolve terminated. Time: 0.00    \n",
      "Problem\n",
      "  Name                   :                 \n",
      "  Objective sense        : min             \n",
      "  Type                   : CONIC (conic optimization problem)\n",
      "  Constraints            : 2180            \n",
      "  Cones                  : 93              \n",
      "  Scalar variables       : 1053            \n",
      "  Matrix variables       : 0               \n",
      "  Integer variables      : 0               \n",
      "\n",
      "Optimizer  - threads                : 2               \n",
      "Optimizer  - solved problem         : the dual        \n",
      "Optimizer  - Constraints            : 540\n",
      "Optimizer  - Cones                  : 93\n",
      "Optimizer  - Scalar variables       : 2469              conic                  : 490             \n",
      "Optimizer  - Semi-definite variables: 0                 scalarized             : 0               \n",
      "Factor     - setup time             : 0.00              dense det. time        : 0.00            \n",
      "Factor     - ML order time          : 0.00              GP order time          : 0.00            \n",
      "Factor     - nonzeros before factor : 3529              after factor           : 6040            \n",
      "Factor     - dense dim.             : 2                 flops                  : 1.29e+05        \n",
      "ITE PFEAS    DFEAS    GFEAS    PRSTATUS   POBJ              DOBJ              MU       TIME  \n",
      "0   9.2e+03  1.7e+03  4.0e+03  0.00e+00   1.353101500e+02   -3.838686529e+03  1.0e+00  0.00  \n",
      "1   4.7e+03  8.9e+02  2.8e+03  -9.99e-01  -2.166230047e+03  -6.134203116e+03  5.1e-01  0.06  \n",
      "2   2.0e+03  3.9e+02  1.9e+03  -9.94e-01  -5.955107537e+03  -9.895899048e+03  2.2e-01  0.06  \n",
      "3   9.1e+02  1.7e+02  1.2e+03  -9.72e-01  -7.136519277e+03  -1.097251132e+04  9.9e-02  0.06  \n",
      "4   5.9e+02  1.1e+02  9.3e+02  -8.91e-01  -6.891040540e+03  -1.056523762e+04  6.4e-02  0.06  \n",
      "5   5.5e+02  1.0e+02  8.8e+02  -7.82e-01  -5.272158228e+03  -8.914309417e+03  5.9e-02  0.06  \n",
      "6   4.1e+02  7.8e+01  7.3e+02  -7.65e-01  -2.190078359e+03  -5.664694589e+03  4.5e-02  0.06  \n",
      "7   3.2e+02  6.1e+01  6.0e+02  -6.53e-01  2.279243412e+03   -1.005939055e+03  3.5e-02  0.06  \n",
      "8   2.4e+02  4.6e+01  4.7e+02  -5.47e-01  1.026981545e+04   7.253650768e+03   2.6e-02  0.08  \n",
      "9   1.2e+02  2.3e+01  2.4e+02  -3.66e-01  3.254922147e+04   3.033228540e+04   1.3e-02  0.08  \n",
      "10  1.0e+02  1.9e+01  1.9e+02  6.30e-02   3.975249420e+04   3.778173749e+04   1.1e-02  0.08  \n",
      "11  8.5e+01  1.6e+01  1.5e+02  1.78e-01   4.565142047e+04   4.387521622e+04   9.3e-03  0.08  \n",
      "12  4.4e+01  8.4e+00  6.6e+01  2.75e-01   6.575658552e+04   6.464915746e+04   4.8e-03  0.08  \n",
      "13  3.0e+01  5.6e+00  3.9e+01  5.56e-01   7.523072592e+04   7.442626338e+04   3.2e-03  0.08  \n",
      "14  1.8e+01  3.4e+00  2.0e+01  6.70e-01   8.427383943e+04   8.375083121e+04   2.0e-03  0.08  \n",
      "15  1.1e+01  2.1e+00  1.0e+01  7.88e-01   9.031120338e+04   8.997482973e+04   1.2e-03  0.08  \n",
      "16  8.3e+00  1.6e+00  6.8e+00  8.39e-01   9.283943591e+04   9.257815468e+04   9.1e-04  0.08  \n",
      "17  4.4e+00  8.4e-01  2.8e+00  8.73e-01   9.683266771e+04   9.668865357e+04   4.8e-04  0.08  \n",
      "18  3.0e+00  5.6e-01  1.6e+00  9.18e-01   9.841652382e+04   9.831796623e+04   3.2e-04  0.08  \n",
      "19  1.7e+00  3.2e-01  7.0e-01  9.39e-01   9.987417416e+04   9.981676806e+04   1.9e-04  0.09  \n",
      "20  3.5e-01  6.7e-02  7.1e-02  9.73e-01   1.014893726e+05   1.014775022e+05   3.8e-05  0.09  \n",
      "21  1.6e-01  3.0e-02  2.1e-02  9.93e-01   1.017325212e+05   1.017272044e+05   1.7e-05  0.09  \n",
      "22  1.5e-01  2.8e-02  2.0e-02  9.87e-01   1.017445760e+05   1.017395801e+05   1.6e-05  0.09  \n",
      "23  4.2e-02  7.9e-03  3.0e-03  9.96e-01   1.018782556e+05   1.018768455e+05   4.5e-06  0.09  \n",
      "24  4.2e-03  7.9e-04  9.6e-05  9.98e-01   1.019261605e+05   1.019260190e+05   4.5e-07  0.09  \n",
      "25  2.4e-04  4.5e-05  1.3e-06  1.00e+00   1.019312220e+05   1.019312139e+05   2.6e-08  0.09  \n",
      "26  1.1e-05  8.0e-06  1.3e-08  1.00e+00   1.019315163e+05   1.019315159e+05   1.2e-09  0.09  \n",
      "27  1.2e-06  9.0e-07  4.7e-10  1.00e+00   1.019315286e+05   1.019315285e+05   1.3e-10  0.09  \n",
      "28  7.0e-08  3.0e-07  8.8e-13  1.00e+00   1.019315300e+05   1.019315300e+05   7.6e-12  0.11  \n",
      "Optimizer terminated. Time: 0.13    \n",
      "\n"
     ]
    }
   ],
   "source": [
    "optimize!(model_mc)"
   ]
  },
  {
   "cell_type": "code",
   "execution_count": 47,
   "metadata": {
    "ExecuteTime": {
     "end_time": "2020-07-13T18:38:12.990000-03:00",
     "start_time": "2020-07-13T21:37:18.089Z"
    }
   },
   "outputs": [
    {
     "data": {
      "text/plain": [
       "26.36069206631333"
      ]
     },
     "execution_count": 47,
     "metadata": {},
     "output_type": "execute_result"
    }
   ],
   "source": [
    "optimality_gap_mosek(model_mc,optimal_value,file)"
   ]
  },
  {
   "cell_type": "markdown",
   "metadata": {},
   "source": [
    "### Relaxação SDP - MOSEK"
   ]
  },
  {
   "cell_type": "code",
   "execution_count": 48,
   "metadata": {
    "ExecuteTime": {
     "end_time": "2020-07-13T18:38:13.007000-03:00",
     "start_time": "2020-07-13T21:37:18.596Z"
    }
   },
   "outputs": [],
   "source": [
    "file = full_data*tests[39]\n",
    "model_sdp = build_problem(file,mosek,SDP);"
   ]
  },
  {
   "cell_type": "code",
   "execution_count": 49,
   "metadata": {
    "ExecuteTime": {
     "end_time": "2020-07-13T18:38:13.364000-03:00",
     "start_time": "2020-07-13T21:37:18.840Z"
    },
    "scrolled": true
   },
   "outputs": [
    {
     "name": "stdout",
     "output_type": "stream",
     "text": [
      "Problem\n",
      "  Name                   :                 \n",
      "  Objective sense        : min             \n",
      "  Type                   : CONIC (conic optimization problem)\n",
      "  Constraints            : 763             \n",
      "  Cones                  : 93              \n",
      "  Scalar variables       : 575             \n",
      "  Matrix variables       : 1               \n",
      "  Integer variables      : 0               \n",
      "\n",
      "Optimizer started.\n",
      "Presolve started.\n",
      "Linear dependency checker started.\n",
      "Linear dependency checker terminated.\n",
      "Eliminator started.\n",
      "Freed constraints in eliminator : 9\n",
      "Eliminator terminated.\n",
      "Eliminator - tries                  : 1                 time                   : 0.00            \n",
      "Lin. dep.  - tries                  : 1                 time                   : 0.00            \n",
      "Lin. dep.  - number                 : 0               \n",
      "Presolve terminated. Time: 0.00    \n",
      "Problem\n",
      "  Name                   :                 \n",
      "  Objective sense        : min             \n",
      "  Type                   : CONIC (conic optimization problem)\n",
      "  Constraints            : 763             \n",
      "  Cones                  : 93              \n",
      "  Scalar variables       : 575             \n",
      "  Matrix variables       : 1               \n",
      "  Integer variables      : 0               \n",
      "\n",
      "Optimizer  - threads                : 2               \n",
      "Optimizer  - solved problem         : the primal      \n",
      "Optimizer  - Constraints            : 375\n",
      "Optimizer  - Cones                  : 84\n",
      "Optimizer  - Scalar variables       : 485               conic                  : 336             \n",
      "Optimizer  - Semi-definite variables: 1                 scalarized             : 3081            \n",
      "Factor     - setup time             : 0.00              dense det. time        : 0.00            \n",
      "Factor     - ML order time          : 0.00              GP order time          : 0.00            \n",
      "Factor     - nonzeros before factor : 5.02e+04          after factor           : 5.02e+04        \n",
      "Factor     - dense dim.             : 0                 flops                  : 1.19e+07        \n",
      "ITE PFEAS    DFEAS    GFEAS    PRSTATUS   POBJ              DOBJ              MU       TIME  \n",
      "0   2.3e+02  2.2e+05  3.3e+03  0.00e+00   3.042293633e+04   2.712917637e+04   1.0e+00  0.01  \n",
      "1   6.3e+01  6.1e+04  1.7e+03  -1.00e+00  1.432447183e+04   1.103419783e+04   2.7e-01  0.01  \n",
      "2   3.4e+01  3.3e+04  1.3e+03  -9.97e-01  5.106004375e+02   -2.769091266e+03  1.5e-01  0.01  \n",
      "3   2.2e+01  2.2e+04  1.0e+03  -9.82e-01  3.158218536e+03   -7.957939858e+01  9.8e-02  0.03  \n",
      "4   9.7e+00  9.5e+03  6.3e+02  -9.39e-01  5.739889237e+03   2.719888693e+03   4.3e-02  0.03  \n",
      "5   4.8e+00  4.7e+03  3.9e+02  -7.58e-01  1.283299032e+04   1.021510198e+04   2.1e-02  0.03  \n",
      "6   2.7e+00  2.6e+03  2.3e+02  -4.97e-01  2.093449603e+04   1.879904256e+04   1.2e-02  0.03  \n",
      "7   1.9e+00  1.8e+03  1.6e+02  -2.00e-01  2.747244849e+04   2.564146994e+04   8.3e-03  0.08  \n",
      "8   1.1e+00  1.0e+03  8.2e+01  -2.91e-02  4.007207573e+04   3.875890913e+04   4.6e-03  0.08  \n",
      "9   6.0e-01  5.8e+02  4.1e+01  2.68e-01   5.094689002e+04   5.005585190e+04   2.6e-03  0.09  \n",
      "10  5.7e-01  5.6e+02  4.5e+01  1.10e-01   4.904259419e+04   4.803587148e+04   2.5e-03  0.09  \n",
      "11  5.1e-01  5.0e+02  4.0e+01  -1.70e-01  5.130616412e+04   5.034903231e+04   2.2e-03  0.11  \n",
      "12  4.3e-01  4.2e+02  3.2e+01  1.09e-01   5.550131601e+04   5.465082956e+04   1.9e-03  0.11  \n",
      "13  3.0e-01  3.0e+02  2.1e+01  2.59e-01   6.225985531e+04   6.158463114e+04   1.3e-03  0.13  \n",
      "14  2.0e-01  2.0e+02  1.3e+01  4.02e-01   6.886768214e+04   6.835985019e+04   8.9e-04  0.13  \n",
      "15  1.2e-01  1.2e+02  6.9e+00  4.99e-01   7.537993943e+04   7.502635353e+04   5.3e-04  0.13  \n",
      "16  1.1e-01  1.0e+02  6.7e+00  2.50e-03   7.538319498e+04   7.501193022e+04   4.7e-04  0.14  \n",
      "17  9.6e-02  9.3e+01  5.4e+00  7.61e-02   7.780905959e+04   7.748655458e+04   4.2e-04  0.14  \n",
      "18  7.8e-02  7.6e+01  4.9e+00  -2.00e-02  7.902997940e+04   7.870816853e+04   3.4e-04  0.16  \n",
      "19  6.4e-02  6.2e+01  3.7e+00  8.16e-02   8.217369194e+04   8.190247607e+04   2.8e-04  0.16  \n",
      "20  4.5e-02  4.4e+01  2.5e+00  1.74e-01   8.604692441e+04   8.582489186e+04   2.0e-04  0.16  \n",
      "21  2.9e-02  2.9e+01  1.5e+00  3.44e-01   9.049821458e+04   9.033381985e+04   1.3e-04  0.17  \n",
      "22  2.3e-02  2.2e+01  1.1e+00  4.87e-01   9.286168015e+04   9.272627462e+04   9.9e-05  0.17  \n",
      "23  1.7e-02  1.7e+01  8.0e-01  5.16e-01   9.486047543e+04   9.474839820e+04   7.6e-05  0.17  \n",
      "24  1.0e-02  9.9e+00  4.5e-01  4.97e-01   9.795938710e+04   9.788030787e+04   4.4e-05  0.19  \n",
      "25  8.3e-03  8.1e+00  5.0e-01  -6.26e-01  9.770626362e+04   9.761076331e+04   3.6e-05  0.19  \n",
      "26  6.4e-03  6.2e+00  4.3e-01  -4.78e-01  9.917224991e+04   9.908265517e+04   2.8e-05  0.19  \n",
      "27  5.9e-03  5.8e+00  3.9e-01  -2.89e-01  1.005202802e+05   1.004370504e+05   2.6e-05  0.20  \n",
      "28  4.2e-03  4.1e+00  2.4e-01  -6.16e-02  1.049766965e+05   1.049140605e+05   1.8e-05  0.20  \n",
      "29  2.8e-03  2.7e+00  1.6e-01  1.03e-02   1.085842918e+05   1.085378518e+05   1.2e-05  0.20  \n",
      "30  1.8e-03  1.8e+00  9.8e-02  2.26e-01   1.123582060e+05   1.123245365e+05   7.9e-06  0.22  \n",
      "31  1.4e-03  1.4e+00  7.8e-02  2.19e-01   1.142310848e+05   1.142024535e+05   6.3e-06  0.22  \n",
      "32  1.1e-03  1.1e+00  5.8e-02  3.19e-01   1.164599028e+05   1.164366352e+05   4.9e-06  0.22  \n",
      "33  8.4e-04  8.2e-01  4.2e-02  3.88e-01   1.186321238e+05   1.186140757e+05   3.7e-06  0.23  \n",
      "34  6.4e-04  6.3e-01  3.2e-02  3.62e-01   1.203019901e+05   1.202877643e+05   2.8e-06  0.23  \n",
      "35  5.8e-04  5.7e-01  2.9e-02  2.28e-01   1.208296225e+05   1.208166127e+05   2.5e-06  0.23  \n",
      "36  4.4e-04  4.2e-01  2.2e-02  2.31e-01   1.225613023e+05   1.225516335e+05   1.9e-06  0.25  \n",
      "37  3.0e-04  2.9e-01  1.4e-02  2.47e-01   1.250961767e+05   1.250900722e+05   1.3e-06  0.25  \n",
      "38  2.5e-04  2.4e-01  1.3e-02  2.41e-01   1.254632054e+05   1.254587097e+05   1.1e-06  0.27  \n",
      "39  1.4e-04  1.4e-01  6.8e-03  2.22e-01   1.285911109e+05   1.285904325e+05   6.2e-07  0.27  \n",
      "40  1.0e-04  9.8e-02  4.1e-03  4.27e-01   1.312752057e+05   1.312746130e+05   4.4e-07  0.27  \n",
      "41  7.3e-05  7.1e-02  2.6e-03  6.58e-01   1.328090226e+05   1.328089763e+05   3.2e-07  0.28  \n",
      "42  3.3e-05  3.2e-02  9.2e-04  6.51e-01   1.355235142e+05   1.355242419e+05   1.4e-07  0.30  \n",
      "43  2.0e-05  2.0e-02  4.8e-04  8.76e-01   1.365080958e+05   1.365087107e+05   8.9e-08  0.30  \n",
      "44  8.0e-06  7.8e-03  1.3e-04  9.14e-01   1.376132446e+05   1.376136335e+05   3.5e-08  0.30  \n",
      "45  1.3e-06  1.3e-03  9.3e-06  9.61e-01   1.382944636e+05   1.382945586e+05   5.9e-09  0.31  \n",
      "46  1.6e-07  1.6e-04  4.0e-07  9.93e-01   1.384276806e+05   1.384276926e+05   7.1e-10  0.31  \n",
      "47  1.8e-08  1.8e-05  1.5e-08  9.99e-01   1.384441322e+05   1.384441336e+05   8.1e-11  0.33  \n",
      "48  1.5e-09  1.5e-06  3.5e-10  1.00e+00   1.384460890e+05   1.384460891e+05   6.5e-12  0.33  \n",
      "49  1.9e-10  1.8e-07  1.6e-11  1.00e+00   1.384462417e+05   1.384462417e+05   8.1e-13  0.34  \n",
      "Optimizer terminated. Time: 0.34    \n",
      "\n"
     ]
    }
   ],
   "source": [
    "optimize!(model_sdp)"
   ]
  },
  {
   "cell_type": "code",
   "execution_count": 50,
   "metadata": {
    "ExecuteTime": {
     "end_time": "2020-07-13T18:38:13.374000-03:00",
     "start_time": "2020-07-13T21:37:19.135Z"
    }
   },
   "outputs": [
    {
     "data": {
      "text/plain": [
       "0.018958022811812986"
      ]
     },
     "execution_count": 50,
     "metadata": {},
     "output_type": "execute_result"
    }
   ],
   "source": [
    "optimality_gap_mosek(model_sdp,optimal_value,file)"
   ]
  },
  {
   "cell_type": "markdown",
   "metadata": {},
   "source": [
    "### Relaxação SOCP - MOSEK"
   ]
  },
  {
   "cell_type": "code",
   "execution_count": 51,
   "metadata": {
    "ExecuteTime": {
     "end_time": "2020-07-13T18:38:13.424000-03:00",
     "start_time": "2020-07-13T21:37:19.672Z"
    }
   },
   "outputs": [],
   "source": [
    "file = full_data*tests[39]\n",
    "model_socp = build_problem(file,mosek,SOCP);"
   ]
  },
  {
   "cell_type": "code",
   "execution_count": 52,
   "metadata": {
    "ExecuteTime": {
     "end_time": "2020-07-13T18:38:13.533000-03:00",
     "start_time": "2020-07-13T21:37:20.006Z"
    },
    "scrolled": true
   },
   "outputs": [
    {
     "name": "stdout",
     "output_type": "stream",
     "text": [
      "Problem\n",
      "  Name                   :                 \n",
      "  Objective sense        : min             \n",
      "  Type                   : CONIC (conic optimization problem)\n",
      "  Constraints            : 901             \n",
      "  Cones                  : 139             \n",
      "  Scalar variables       : 975             \n",
      "  Matrix variables       : 0               \n",
      "  Integer variables      : 0               \n",
      "\n",
      "Optimizer started.\n",
      "Presolve started.\n",
      "Linear dependency checker started.\n",
      "Linear dependency checker terminated.\n",
      "Eliminator started.\n",
      "Freed constraints in eliminator : 177\n",
      "Eliminator terminated.\n",
      "Eliminator started.\n",
      "Freed constraints in eliminator : 5\n",
      "Eliminator terminated.\n",
      "Eliminator - tries                  : 2                 time                   : 0.00            \n",
      "Lin. dep.  - tries                  : 1                 time                   : 0.00            \n",
      "Lin. dep.  - number                 : 131             \n",
      "Presolve terminated. Time: 0.00    \n",
      "Problem\n",
      "  Name                   :                 \n",
      "  Objective sense        : min             \n",
      "  Type                   : CONIC (conic optimization problem)\n",
      "  Constraints            : 901             \n",
      "  Cones                  : 139             \n",
      "  Scalar variables       : 975             \n",
      "  Matrix variables       : 0               \n",
      "  Integer variables      : 0               \n",
      "\n",
      "Optimizer  - threads                : 2               \n",
      "Optimizer  - solved problem         : the dual        \n",
      "Optimizer  - Constraints            : 153\n",
      "Optimizer  - Cones                  : 139\n",
      "Optimizer  - Scalar variables       : 1018              conic                  : 587             \n",
      "Optimizer  - Semi-definite variables: 0                 scalarized             : 0               \n",
      "Factor     - setup time             : 0.00              dense det. time        : 0.00            \n",
      "Factor     - ML order time          : 0.00              GP order time          : 0.00            \n",
      "Factor     - nonzeros before factor : 1.05e+04          after factor           : 1.05e+04        \n",
      "Factor     - dense dim.             : 0                 flops                  : 1.03e+06        \n",
      "ITE PFEAS    DFEAS    GFEAS    PRSTATUS   POBJ              DOBJ              MU       TIME  \n",
      "0   5.8e+02  3.5e+03  4.0e+03  0.00e+00   1.353101500e+02   -3.838686529e+03  1.0e+00  0.00  \n",
      "1   3.0e+02  1.8e+03  2.8e+03  -9.96e-01  -7.160971685e+03  -1.112074905e+04  5.2e-01  0.01  \n",
      "2   2.3e+02  1.4e+03  2.5e+03  -9.78e-01  -6.112068714e+03  -1.004225785e+04  4.0e-01  0.01  \n",
      "3   1.2e+02  7.0e+02  1.7e+03  -9.58e-01  -7.423892824e+03  -1.123403809e+04  2.0e-01  0.01  \n",
      "4   9.6e+01  5.8e+02  1.5e+03  -8.75e-01  -5.344924595e+03  -9.111854024e+03  1.7e-01  0.01  \n",
      "5   5.5e+01  3.3e+02  1.1e+03  -8.49e-01  -3.314821218e+02  -3.870638766e+03  9.5e-02  0.01  \n",
      "6   3.5e+01  2.1e+02  7.9e+02  -7.37e-01  5.483309603e+03   2.177184822e+03   6.1e-02  0.01  \n",
      "7   1.8e+01  1.1e+02  4.8e+02  -6.27e-01  1.839222770e+04   1.558455853e+04   3.2e-02  0.01  \n",
      "8   9.0e+00  5.5e+01  2.5e+02  -3.74e-01  3.624068420e+04   3.410472148e+04   1.6e-02  0.01  \n",
      "9   7.1e+00  4.3e+01  2.0e+02  -9.44e-02  4.231780889e+04   4.038352487e+04   1.2e-02  0.03  \n",
      "10  3.1e+00  1.9e+01  7.5e+01  1.18e-02   6.500333867e+04   6.384287660e+04   5.3e-03  0.03  \n",
      "11  2.0e+00  1.2e+01  4.4e+01  3.29e-01   7.366612387e+04   7.278311993e+04   3.4e-03  0.03  \n",
      "12  1.4e+00  8.6e+00  3.0e+01  2.41e-01   7.944182137e+04   7.873541367e+04   2.5e-03  0.03  \n",
      "13  9.3e-01  5.6e+00  1.7e+01  3.57e-01   8.550238806e+04   8.497769720e+04   1.6e-03  0.03  \n",
      "14  6.8e-01  4.1e+00  1.3e+01  4.57e-01   8.849940752e+04   8.805836717e+04   1.2e-03  0.03  \n",
      "15  5.6e-01  3.4e+00  1.1e+01  1.71e-01   8.923057689e+04   8.880235471e+04   9.8e-04  0.03  \n",
      "16  3.3e-01  2.0e+00  7.6e+00  -2.75e-01  9.184158539e+04   9.145976615e+04   5.7e-04  0.03  \n",
      "17  1.7e-01  1.0e+00  5.1e+00  -8.89e-01  9.574534610e+04   9.540923209e+04   2.9e-04  0.03  \n",
      "18  1.3e-01  7.7e-01  3.8e+00  -2.10e-01  9.959124134e+04   9.930502344e+04   2.2e-04  0.03  \n",
      "19  7.3e-02  4.4e-01  2.0e+00  1.61e-01   1.067286256e+05   1.065287350e+05   1.3e-04  0.03  \n",
      "20  5.9e-02  3.6e-01  1.6e+00  2.78e-01   1.090313100e+05   1.088542749e+05   1.0e-04  0.03  \n",
      "21  3.7e-02  2.2e-01  8.8e-01  3.69e-01   1.140369665e+05   1.139100319e+05   6.4e-05  0.03  \n",
      "22  2.8e-02  1.7e-01  6.5e-01  3.84e-01   1.161324632e+05   1.160243313e+05   4.8e-05  0.03  \n",
      "23  2.4e-02  1.4e-01  5.8e-01  7.32e-02   1.168674476e+05   1.167639297e+05   4.1e-05  0.03  \n",
      "24  1.8e-02  1.1e-01  4.3e-01  2.87e-01   1.189417709e+05   1.188545220e+05   3.1e-05  0.03  \n",
      "25  1.5e-02  9.0e-02  3.5e-01  2.11e-01   1.201765940e+05   1.200978468e+05   2.6e-05  0.03  \n",
      "26  1.1e-02  6.8e-02  2.6e-01  2.74e-01   1.221768876e+05   1.221114664e+05   2.0e-05  0.03  \n",
      "27  8.6e-03  5.2e-02  1.8e-01  3.59e-01   1.239804092e+05   1.239266191e+05   1.5e-05  0.03  \n",
      "28  7.5e-03  4.5e-02  1.7e-01  2.17e-01   1.242998947e+05   1.242485257e+05   1.3e-05  0.03  \n",
      "29  4.2e-03  2.5e-02  8.6e-02  2.74e-01   1.274844587e+05   1.274503828e+05   7.3e-06  0.05  \n",
      "30  2.9e-03  1.8e-02  5.3e-02  5.12e-01   1.295734428e+05   1.295486146e+05   5.1e-06  0.05  \n",
      "31  1.6e-03  9.8e-03  2.4e-02  6.92e-01   1.319974348e+05   1.319829937e+05   2.8e-06  0.05  \n",
      "32  6.7e-04  4.1e-03  7.1e-03  7.79e-01   1.342370021e+05   1.342309832e+05   1.2e-06  0.05  \n",
      "33  1.4e-04  8.5e-04  7.9e-04  8.98e-01   1.357090123e+05   1.357078622e+05   2.4e-07  0.05  \n",
      "34  2.0e-05  1.2e-04  4.4e-05  9.85e-01   1.361095742e+05   1.361094142e+05   3.5e-08  0.05  \n",
      "35  5.4e-06  3.2e-05  6.3e-06  9.98e-01   1.361603337e+05   1.361602935e+05   9.3e-09  0.05  \n",
      "36  1.1e-06  6.8e-06  6.1e-07  9.99e-01   1.361750733e+05   1.361750647e+05   2.0e-09  0.05  \n",
      "37  1.7e-07  1.0e-06  3.7e-08  9.98e-01   1.361783910e+05   1.361783899e+05   2.9e-10  0.06  \n",
      "38  3.6e-08  2.2e-07  3.6e-09  1.00e+00   1.361788741e+05   1.361788738e+05   6.2e-11  0.06  \n",
      "39  3.6e-08  2.2e-07  3.7e-09  1.27e+00   1.361788735e+05   1.361788733e+05   6.2e-11  0.06  \n",
      "40  2.8e-08  1.7e-07  2.5e-09  1.00e+00   1.361789014e+05   1.361789012e+05   4.9e-11  0.06  \n",
      "41  3.1e-09  8.9e-08  9.3e-11  1.00e+00   1.361789916e+05   1.361789916e+05   5.4e-12  0.06  \n",
      "42  3.1e-09  8.9e-08  9.3e-11  1.00e+00   1.361789916e+05   1.361789916e+05   5.4e-12  0.06  \n",
      "43  1.1e-09  7.1e-08  1.8e-11  1.00e+00   1.361789990e+05   1.361789990e+05   1.9e-12  0.06  \n",
      "44  1.1e-09  7.1e-08  1.8e-11  1.00e+00   1.361789990e+05   1.361789990e+05   1.9e-12  0.06  \n",
      "Optimizer terminated. Time: 0.08    \n",
      "\n"
     ]
    }
   ],
   "source": [
    "optimize!(model_socp)"
   ]
  },
  {
   "cell_type": "code",
   "execution_count": 53,
   "metadata": {
    "ExecuteTime": {
     "end_time": "2020-07-13T18:38:13.541000-03:00",
     "start_time": "2020-07-13T21:37:20.264Z"
    }
   },
   "outputs": [
    {
     "data": {
      "text/plain": [
       "1.618986312063419"
      ]
     },
     "execution_count": 53,
     "metadata": {},
     "output_type": "execute_result"
    }
   ],
   "source": [
    "optimality_gap_mosek(model_socp,optimal_value,file)"
   ]
  },
  {
   "cell_type": "markdown",
   "metadata": {},
   "source": [
    "### Avaliação dos Resultados"
   ]
  },
  {
   "cell_type": "code",
   "execution_count": 54,
   "metadata": {
    "ExecuteTime": {
     "end_time": "2020-07-13T18:38:13.543000-03:00",
     "start_time": "2020-07-13T21:37:20.708Z"
    }
   },
   "outputs": [],
   "source": [
    "models = [model_nl,model_mc,model_sdp,model_socp];"
   ]
  },
  {
   "cell_type": "code",
   "execution_count": 55,
   "metadata": {
    "ExecuteTime": {
     "end_time": "2020-07-13T18:38:13.908000-03:00",
     "start_time": "2020-07-13T21:37:20.920Z"
    },
    "scrolled": false
   },
   "outputs": [
    {
     "data": {
      "image/png": "[encoded data removed]",
      "text/plain": [
       "Figure(PyObject <Figure size 640x480 with 1 Axes>)"
      ]
     },
     "metadata": {},
     "output_type": "display_data"
    }
   ],
   "source": [
    "plot_var(models,\"p_g\",\"Geração Ativa\",\"Geração (MW)\");"
   ]
  },
  {
   "cell_type": "code",
   "execution_count": 56,
   "metadata": {
    "ExecuteTime": {
     "end_time": "2020-07-13T18:38:14.148000-03:00",
     "start_time": "2020-07-13T21:37:21.128Z"
    }
   },
   "outputs": [
    {
     "data": {
      "image/png": "[encoded data removed]",
      "text/plain": [
       "Figure(PyObject <Figure size 640x480 with 1 Axes>)"
      ]
     },
     "metadata": {},
     "output_type": "display_data"
    }
   ],
   "source": [
    "plot_var(models,\"q_g\",\"Geração Reativa\",\"Geração (MW)\");"
   ]
  },
  {
   "cell_type": "markdown",
   "metadata": {},
   "source": [
    "## Caso 162 barras"
   ]
  },
  {
   "cell_type": "markdown",
   "metadata": {},
   "source": [
    "$|\\mathcal{B}| = 162 $\n",
    "\n",
    "$|\\mathcal{L}| = 284 $\n",
    "\n",
    "$|\\mathcal{G}| = 12 $"
   ]
  },
  {
   "cell_type": "code",
   "execution_count": 57,
   "metadata": {
    "ExecuteTime": {
     "end_time": "2020-07-13T18:38:14.150000-03:00",
     "start_time": "2020-07-13T21:37:21.751Z"
    }
   },
   "outputs": [
    {
     "data": {
      "text/plain": [
       "108080.0"
      ]
     },
     "execution_count": 57,
     "metadata": {},
     "output_type": "execute_result"
    }
   ],
   "source": [
    "optimal_value = 1.0808e5"
   ]
  },
  {
   "cell_type": "markdown",
   "metadata": {},
   "source": [
    "### Não linear - Ipopt"
   ]
  },
  {
   "cell_type": "code",
   "execution_count": 58,
   "metadata": {
    "ExecuteTime": {
     "end_time": "2020-07-13T18:38:14.294000-03:00",
     "start_time": "2020-07-13T21:37:22.168Z"
    }
   },
   "outputs": [],
   "source": [
    "file = full_data*tests[162]\n",
    "model_nl = build_problem(file,ipopt,NL);"
   ]
  },
  {
   "cell_type": "code",
   "execution_count": 59,
   "metadata": {
    "ExecuteTime": {
     "end_time": "2020-07-13T18:38:16.984000-03:00",
     "start_time": "2020-07-13T21:37:22.376Z"
    },
    "scrolled": true
   },
   "outputs": [
    {
     "name": "stdout",
     "output_type": "stream",
     "text": [
      "This is Ipopt version 3.13.2, running with linear solver mumps.\n",
      "NOTE: Other linear solvers might be more efficient (see Ipopt documentation).\n",
      "\n",
      "Number of nonzeros in equality constraint Jacobian...:    13065\n",
      "Number of nonzeros in inequality constraint Jacobian.:     6328\n",
      "Number of nonzeros in Lagrangian Hessian.............:    10544\n",
      "\n",
      "Total number of variables............................:     1484\n",
      "                     variables with only lower bounds:        0\n",
      "                variables with lower and upper bounds:     1484\n",
      "                     variables with only upper bounds:        0\n",
      "Total number of equality constraints.................:     1461\n",
      "Total number of inequality constraints...............:     1460\n",
      "        inequality constraints with only lower bounds:      446\n",
      "   inequality constraints with lower and upper bounds:        0\n",
      "        inequality constraints with only upper bounds:     1014\n",
      "\n",
      "iter    objective    inf_pr   inf_du lg(mu)  ||d||  lg(rg) alpha_du alpha_pr  ls\n",
      "   0  2.4429173e+04 2.56e+01 9.14e+00  -1.0 0.00e+00    -  0.00e+00 0.00e+00   0\n",
      "   1  2.9356507e+04 2.36e+01 3.13e+01  -1.0 2.77e+01    -  2.32e-03 7.57e-02h  1\n",
      "   2  3.0527008e+04 2.33e+01 3.95e+01  -1.0 2.24e+01   2.0 9.38e-03 1.30e-02h  1\n",
      "   3  3.0561912e+04 2.33e+01 2.20e+02  -1.0 2.24e+01   1.5 3.47e-02 3.89e-04h  1\n",
      "   4  3.2399173e+04 2.28e+01 2.22e+02  -1.0 2.33e+01   1.0 2.75e-02 2.19e-02h  1\n",
      "   5  3.2420981e+04 2.28e+01 3.01e+02  -1.0 2.28e+01   1.5 7.94e-03 2.57e-04h  1\n",
      "   6  3.2792093e+04 2.27e+01 4.23e+02  -1.0 2.06e+01   1.0 3.25e-05 3.63e-03h  1\n",
      "   7  3.3294156e+04 2.26e+01 5.99e+02  -1.0 2.23e+01   1.4 3.46e-03 5.89e-03h  1\n",
      "   8  3.3886679e+04 2.24e+01 5.91e+02  -1.0 2.03e+01   0.9 9.66e-03 6.98e-03h  1\n",
      "   9  3.4535986e+04 2.22e+01 1.09e+03  -1.0 2.12e+01   1.4 2.30e-02 7.88e-03h  1\n",
      "iter    objective    inf_pr   inf_du lg(mu)  ||d||  lg(rg) alpha_du alpha_pr  ls\n",
      "  10  3.6934138e+04 2.16e+01 1.74e+03  -1.0 2.08e+01   0.9 5.73e-02 2.93e-02h  1\n",
      "  11  3.8737556e+04 2.11e+01 4.06e+02  -1.0 2.15e+01   1.3 2.16e-03 2.36e-02h  1\n",
      "  12  4.0034818e+04 2.07e+01 4.18e+02  -1.0 2.13e+01   0.8 2.48e-02 1.72e-02h  1\n",
      "  13  4.1576722e+04 2.03e+01 3.89e+02  -1.0 2.49e+01   0.4 8.80e-02 2.06e-02h  1\n",
      "  14  4.3276982e+04 1.98e+01 1.92e+03  -1.0 2.18e+01   0.8 8.35e-02 2.41e-02h  1\n",
      "  15  4.5459865e+04 1.92e+01 1.14e+03  -1.0 2.16e+01   0.3 1.27e-02 3.10e-02h  1\n",
      "  16  4.6417032e+04 1.89e+01 1.10e+03  -1.0 3.79e+01  -0.2 2.38e-02 1.44e-02h  1\n",
      "  17  4.9139575e+04 1.81e+01 1.08e+03  -1.0 2.09e+01   0.3 1.74e-02 4.19e-02h  1\n",
      "  18  5.0181064e+04 1.78e+01 1.08e+03  -1.0 3.00e+01  -0.2 1.18e-02 1.59e-02h  1\n",
      "  19  5.0361876e+04 1.78e+01 1.14e+03  -1.0 2.26e+01   0.2 6.80e-03 3.13e-03h  1\n",
      "iter    objective    inf_pr   inf_du lg(mu)  ||d||  lg(rg) alpha_du alpha_pr  ls\n",
      "  20  5.2343132e+04 1.72e+01 1.03e+03  -1.0 4.20e+01  -0.3 3.78e-02 3.10e-02h  1\n",
      "  21  5.4948126e+04 1.67e+01 7.94e+02  -1.0 1.69e+02  -0.7 5.86e-02 2.86e-02h  1\n",
      "  22  5.5556781e+04 1.65e+01 7.75e+02  -1.0 3.85e+01  -0.3 1.34e-02 1.21e-02h  1\n",
      "  23  5.6709568e+04 1.62e+01 1.00e+03  -1.0 8.81e+01  -0.8 4.20e-04 2.12e-02h  1\n",
      "  24  5.6823828e+04 1.61e+01 1.59e+03  -1.0 3.41e+01  -0.4 2.71e-02 2.27e-03h  1\n",
      "  25  5.7425361e+04 1.60e+01 1.31e+03  -1.0 1.12e+02  -0.8 1.17e-03 1.21e-02h  1\n",
      "  26  5.8479061e+04 1.56e+01 9.66e+02  -1.0 3.62e+01  -0.4 4.28e-02 2.07e-02h  1\n",
      "  27  5.8702090e+04 1.56e+01 9.62e+02  -1.0 3.98e+01  -0.9 4.05e-02 4.33e-03h  1\n",
      "  28  5.9496867e+04 1.53e+01 9.48e+02  -1.0 6.61e+01  -1.4 2.95e-02 1.49e-02h  1\n",
      "  29  6.0460578e+04 1.51e+01 9.83e+02  -1.0 4.65e+01    -  4.31e-02 1.76e-02h  1\n",
      "iter    objective    inf_pr   inf_du lg(mu)  ||d||  lg(rg) alpha_du alpha_pr  ls\n",
      "  30  6.0528594e+04 1.50e+01 9.31e+02  -1.0 2.05e+02    -  1.86e-02 1.38e-03h  1\n",
      "  31  6.1858404e+04 1.46e+01 9.08e+02  -1.0 7.55e+01    -  1.58e-02 2.71e-02h  1\n",
      "  32  6.3705294e+04 1.40e+01 1.49e+03  -1.0 7.52e+01    -  1.51e-02 4.50e-02h  1\n",
      "  33  6.4673078e+04 1.36e+01 1.43e+03  -1.0 5.83e+01    -  2.18e-02 2.55e-02h  1\n",
      "  34  6.6255160e+04 1.32e+01 1.48e+03  -1.0 9.08e+01    -  9.94e-04 2.78e-02h  1\n",
      "  35  6.6477059e+04 1.32e+01 1.38e+03  -1.0 1.00e+02    -  1.45e-02 4.02e-03h  1\n",
      "  36  6.8226413e+04 1.28e+01 1.34e+03  -1.0 1.14e+02    -  3.00e-02 3.08e-02h  1\n",
      "  37  6.8290316e+04 1.28e+01 1.34e+03  -1.0 2.94e+01    -  5.58e-03 1.52e-03h  1\n",
      "  38  7.0831029e+04 1.21e+01 1.27e+03  -1.0 1.12e+02    -  2.29e-03 4.90e-02h  1\n",
      "  39  7.4312749e+04 1.13e+01 1.19e+03  -1.0 1.88e+02    -  8.71e-03 6.69e-02h  1\n",
      "iter    objective    inf_pr   inf_du lg(mu)  ||d||  lg(rg) alpha_du alpha_pr  ls\n",
      "  40  7.5453758e+04 1.10e+01 1.16e+03  -1.0 2.16e+02    -  2.84e-02 2.53e-02h  1\n",
      "  41  7.5495862e+04 1.10e+01 1.16e+03  -1.0 8.30e+01    -  2.07e-02 1.26e-03h  1\n",
      "  42  7.5834603e+04 1.09e+01 1.15e+03  -1.0 2.13e+02    -  2.54e-03 7.99e-03h  1\n",
      "  43  7.5982060e+04 1.09e+01 1.14e+03  -1.0 1.61e+02    -  7.90e-03 4.59e-03h  1\n",
      "  44  7.8525022e+04 1.02e+01 1.08e+03  -1.0 2.45e+02    -  3.56e-03 5.93e-02h  1\n",
      "  45  7.8549096e+04 1.02e+01 1.12e+03  -1.0 3.51e+01    -  2.77e-02 6.68e-04h  1\n",
      "  46  7.9093740e+04 1.01e+01 1.06e+03  -1.0 5.11e+01    -  1.24e-03 1.48e-02h  1\n",
      "  47  8.0569587e+04 9.66e+00 1.02e+03  -1.0 5.23e+01    -  2.85e-02 4.13e-02h  1\n",
      "  48  8.5229398e+04 8.24e+00 1.32e+03  -1.0 3.40e+01    -  1.70e-03 1.46e-01h  1\n",
      "  49  8.5277546e+04 8.23e+00 1.31e+03  -1.0 3.22e+01    -  8.22e-02 1.91e-03h  1\n",
      "iter    objective    inf_pr   inf_du lg(mu)  ||d||  lg(rg) alpha_du alpha_pr  ls\n",
      "  50  8.7335652e+04 7.57e+00 1.21e+03  -1.0 3.67e+01    -  4.93e-02 8.02e-02h  1\n",
      "  51  8.7602135e+04 7.49e+00 1.20e+03  -1.0 4.45e+01    -  4.91e-02 1.05e-02h  1\n",
      "  52  8.8578683e+04 7.16e+00 1.15e+03  -1.0 3.52e+01    -  2.57e-02 4.36e-02h  1\n",
      "  53  9.1078759e+04 6.31e+00 1.01e+03  -1.0 3.41e+01    -  1.88e-01 1.19e-01h  1\n",
      "  54  9.3642594e+04 5.31e+00 8.55e+02  -1.0 2.84e+01    -  2.08e-02 1.59e-01h  1\n",
      "  55  9.4112716e+04 5.10e+00 8.21e+02  -1.0 2.86e+01    -  8.63e-02 3.93e-02h  1\n",
      "  56  9.4253552e+04 5.04e+00 8.11e+02  -1.0 3.29e+01    -  1.26e-02 1.19e-02h  1\n",
      "  57  9.6513507e+04 3.94e+00 6.37e+02  -1.0 3.11e+01    -  1.24e-01 2.19e-01h  1\n",
      "  58  9.6549134e+04 3.92e+00 8.45e+02  -1.0 2.71e+01    -  4.66e-02 4.91e-03h  1\n",
      "  59  9.6937098e+04 3.69e+00 8.90e+02  -1.0 3.14e+01    -  1.49e-01 5.94e-02h  1\n",
      "iter    objective    inf_pr   inf_du lg(mu)  ||d||  lg(rg) alpha_du alpha_pr  ls\n",
      "  60  9.7073805e+04 3.62e+00 8.72e+02  -1.0 3.36e+01    -  3.79e-02 1.83e-02h  1\n",
      "  61  9.7930451e+04 2.97e+00 7.82e+02  -1.0 3.40e+01    -  2.29e-02 1.78e-01h  1\n",
      "  62  9.8275212e+04 2.63e+00 6.94e+02  -1.0 5.45e+01    -  1.36e-01 1.15e-01h  1\n",
      "  63  9.8366555e+04 2.56e+00 6.76e+02  -1.0 7.32e+01    -  1.38e-01 2.62e-02h  1\n",
      "  64  9.8393165e+04 2.55e+00 9.91e+02  -1.0 6.94e+01    -  2.46e-02 4.45e-03h  1\n",
      "  65  9.9853146e+04 1.83e+00 5.66e+02  -1.0 7.58e+01    -  8.37e-03 2.82e-01h  1\n",
      "  66  9.9959915e+04 1.79e+00 5.73e+02  -1.0 8.56e+01    -  5.65e-02 2.30e-02h  1\n",
      "  67  1.0406407e+05 7.76e-01 3.60e+02  -1.0 5.41e+01    -  2.38e-01 5.66e-01h  1\n",
      "  68  1.0452681e+05 6.18e-01 1.67e+02  -1.0 5.19e+01    -  4.25e-01 2.04e-01h  1\n",
      "  69  1.0488314e+05 4.85e-01 1.44e+02  -1.0 5.37e+01    -  1.62e-01 2.15e-01h  1\n",
      "iter    objective    inf_pr   inf_du lg(mu)  ||d||  lg(rg) alpha_du alpha_pr  ls\n",
      "  70  1.0544660e+05 3.05e-01 8.88e+01  -1.0 4.21e+01    -  5.15e-01 3.71e-01h  1\n",
      "  71  1.0547412e+05 3.00e-01 3.73e+02  -1.0 4.16e+00    -  1.81e-01 1.90e-02h  1\n",
      "  72  1.0569199e+05 2.58e-01 8.73e+02  -1.0 2.83e+01    -  3.77e-02 1.40e-01h  1\n",
      "  73  1.0676811e+05 8.27e-02 2.57e+02  -1.0 1.08e+01    -  4.78e-01 6.79e-01h  1\n",
      "  74  1.0702644e+05 4.61e-02 6.72e+02  -1.0 2.92e+00    -  1.38e-01 4.43e-01h  1\n",
      "  75  1.0706982e+05 3.94e-02 7.75e+02  -1.0 4.56e+00    -  1.00e+00 1.45e-01h  1\n",
      "  76  1.0725020e+05 1.32e-02 6.87e+02  -1.0 2.64e+00    -  1.00e+00 6.65e-01h  1\n",
      "  77  1.0733638e+05 5.24e-03 4.19e+02  -1.0 2.46e+00    -  7.14e-01 6.03e-01h  1\n",
      "  78  1.0742107e+05 1.63e-03 1.48e+00  -1.0 2.26e+00    -  1.00e+00 1.00e+00h  1\n",
      "  79  1.0741629e+05 5.70e-05 1.07e-01  -1.0 3.03e-01    -  1.00e+00 1.00e+00h  1\n",
      "iter    objective    inf_pr   inf_du lg(mu)  ||d||  lg(rg) alpha_du alpha_pr  ls\n",
      "  80  1.0734087e+05 8.14e-04 2.41e+02  -2.5 2.95e+00    -  5.56e-01 8.44e-01f  1\n",
      "  81  1.0732220e+05 1.97e-03 2.21e+01  -2.5 1.53e+00    -  9.27e-01 9.09e-01f  1\n",
      "  82  1.0732135e+05 5.12e-04 2.26e+01  -2.5 1.98e-01    -  1.00e+00 8.19e-01h  1\n",
      "  83  1.0732154e+05 5.23e-06 1.70e-03  -2.5 3.18e-02    -  1.00e+00 1.00e+00f  1\n",
      "  84  1.0731930e+05 4.96e-06 8.39e-01  -3.8 1.10e-01    -  1.00e+00 9.43e-01f  1\n",
      "  85  1.0731921e+05 2.03e-07 5.56e-05  -3.8 6.56e-03    -  1.00e+00 1.00e+00f  1\n",
      "  86  1.0731908e+05 2.86e-08 1.03e-05  -5.7 5.47e-03    -  1.00e+00 1.00e+00h  1\n",
      "  87  1.0731908e+05 1.50e-11 4.11e-09  -8.6 6.23e-05    -  1.00e+00 1.00e+00h  1\n",
      "\n",
      "Number of Iterations....: 87\n",
      "\n",
      "                                   (scaled)                 (unscaled)\n",
      "Objective...............:   2.7882345107876954e+03    1.0731908219082466e+05\n",
      "Dual infeasibility......:   4.1106366928882431e-09    1.5821831176462457e-07\n",
      "Constraint violation....:   1.5037360245884202e-11    1.5037360245884202e-11\n",
      "Complementarity.........:   3.7987843918374038e-09    1.4621512386978066e-07\n",
      "Overall NLP error.......:   4.1106366928882431e-09    1.5821831176462457e-07\n",
      "\n",
      "\n",
      "Number of objective function evaluations             = 88\n",
      "Number of objective gradient evaluations             = 88\n",
      "Number of equality constraint evaluations            = 88\n",
      "Number of inequality constraint evaluations          = 88\n",
      "Number of equality constraint Jacobian evaluations   = 88\n",
      "Number of inequality constraint Jacobian evaluations = 88\n",
      "Number of Lagrangian Hessian evaluations             = 87\n",
      "Total CPU secs in IPOPT (w/o function evaluations)   =      2.647\n",
      "Total CPU secs in NLP function evaluations           =      0.023\n",
      "\n",
      "EXIT: Optimal Solution Found.\n"
     ]
    }
   ],
   "source": [
    "optimize!(model_nl)"
   ]
  },
  {
   "cell_type": "code",
   "execution_count": 60,
   "metadata": {
    "ExecuteTime": {
     "end_time": "2020-07-13T18:38:16.984000-03:00",
     "start_time": "2020-07-13T21:37:22.599Z"
    }
   },
   "outputs": [
    {
     "data": {
      "text/plain": [
       "0.7040320218128626"
      ]
     },
     "execution_count": 60,
     "metadata": {},
     "output_type": "execute_result"
    }
   ],
   "source": [
    "optimality_gap(model_nl,optimal_value)"
   ]
  },
  {
   "cell_type": "markdown",
   "metadata": {},
   "source": [
    "### Relaxação de McCormick - MOSEK"
   ]
  },
  {
   "cell_type": "code",
   "execution_count": 61,
   "metadata": {
    "ExecuteTime": {
     "end_time": "2020-07-13T18:38:17.283000-03:00",
     "start_time": "2020-07-13T21:37:23.032Z"
    }
   },
   "outputs": [],
   "source": [
    "file = full_data*tests[162]\n",
    "model_mc = build_problem(file,mosek,MC);"
   ]
  },
  {
   "cell_type": "code",
   "execution_count": 62,
   "metadata": {
    "ExecuteTime": {
     "end_time": "2020-07-13T18:38:18.084000-03:00",
     "start_time": "2020-07-13T21:37:23.256Z"
    },
    "scrolled": true
   },
   "outputs": [
    {
     "name": "stdout",
     "output_type": "stream",
     "text": [
      "Problem\n",
      "  Name                   :                 \n",
      "  Objective sense        : min             \n",
      "  Type                   : CONIC (conic optimization problem)\n",
      "  Constraints            : 12577           \n",
      "  Cones                  : 569             \n",
      "  Scalar variables       : 6043            \n",
      "  Matrix variables       : 0               \n",
      "  Integer variables      : 0               \n",
      "\n",
      "Optimizer started.\n",
      "Presolve started.\n",
      "Linear dependency checker started.\n",
      "Linear dependency checker terminated.\n",
      "Eliminator started.\n",
      "Freed constraints in eliminator : 704\n",
      "Eliminator terminated.\n",
      "Eliminator started.\n",
      "Freed constraints in eliminator : 28\n",
      "Eliminator terminated.\n",
      "Eliminator - tries                  : 2                 time                   : 0.00            \n",
      "Lin. dep.  - tries                  : 1                 time                   : 0.00            \n",
      "Lin. dep.  - number                 : 0               \n",
      "Presolve terminated. Time: 0.05    \n",
      "Problem\n",
      "  Name                   :                 \n",
      "  Objective sense        : min             \n",
      "  Type                   : CONIC (conic optimization problem)\n",
      "  Constraints            : 12577           \n",
      "  Cones                  : 569             \n",
      "  Scalar variables       : 6043            \n",
      "  Matrix variables       : 0               \n",
      "  Integer variables      : 0               \n",
      "\n",
      "Optimizer  - threads                : 2               \n",
      "Optimizer  - solved problem         : the dual        \n",
      "Optimizer  - Constraints            : 3032\n",
      "Optimizer  - Cones                  : 569\n",
      "Optimizer  - Scalar variables       : 14216             conic                  : 2998            \n",
      "Optimizer  - Semi-definite variables: 0                 scalarized             : 0               \n",
      "Factor     - setup time             : 0.06              dense det. time        : 0.03            \n",
      "Factor     - ML order time          : 0.02              GP order time          : 0.00            \n",
      "Factor     - nonzeros before factor : 2.35e+04          after factor           : 7.25e+04        \n",
      "Factor     - dense dim.             : 67                flops                  : 4.91e+06        \n",
      "ITE PFEAS    DFEAS    GFEAS    PRSTATUS   POBJ              DOBJ              MU       TIME  \n",
      "0   9.2e+03  1.9e+03  4.8e+03  0.00e+00   1.077207280e+04   5.974206779e+03   1.0e+00  0.11  \n",
      "1   6.0e+03  1.2e+03  3.9e+03  -9.98e-01  8.491715072e+03   3.700430066e+03   6.5e-01  0.14  \n",
      "2   3.0e+03  6.2e+02  2.7e+03  -9.92e-01  9.951981079e+02   -3.745281440e+03  3.2e-01  0.16  \n",
      "3   2.3e+03  4.7e+02  2.3e+03  -9.29e-01  2.557191193e+03   -2.061844294e+03  2.5e-01  0.16  \n",
      "4   1.2e+03  2.5e+02  1.4e+03  -8.34e-01  1.518401772e+03   -2.523298272e+03  1.3e-01  0.17  \n",
      "5   9.8e+02  2.1e+02  1.2e+03  -4.30e-01  2.919020329e+03   -8.460436587e+02  1.1e-01  0.17  \n",
      "6   6.6e+02  1.4e+02  7.9e+02  -3.09e-01  4.088064668e+03   9.638600435e+02   7.2e-02  0.19  \n",
      "7   5.0e+02  1.1e+02  5.7e+02  -3.62e-02  6.289331435e+03   3.613806471e+03   5.5e-02  0.20  \n",
      "8   3.1e+02  6.4e+01  3.1e+02  1.50e-01   9.403637237e+03   7.481263763e+03   3.3e-02  0.22  \n",
      "9   1.6e+02  3.3e+01  1.3e+02  4.28e-01   1.323741942e+04   1.208488632e+04   1.7e-02  0.23  \n",
      "10  1.2e+02  2.5e+01  8.9e+01  6.63e-01   1.442030584e+04   1.350265156e+04   1.3e-02  0.25  \n",
      "11  9.1e+01  1.9e+01  5.9e+01  7.27e-01   1.549009875e+04   1.477937270e+04   9.8e-03  0.25  \n",
      "12  6.3e+01  1.3e+01  3.6e+01  7.81e-01   1.648610729e+04   1.596900395e+04   6.9e-03  0.27  \n",
      "13  4.8e+01  1.0e+01  2.4e+01  8.28e-01   1.715366449e+04   1.675385438e+04   5.2e-03  0.27  \n",
      "14  3.1e+01  6.5e+00  1.3e+01  8.61e-01   1.795607091e+04   1.768924279e+04   3.4e-03  0.28  \n",
      "15  2.8e+01  5.8e+00  1.1e+01  8.97e-01   1.813408467e+04   1.789152812e+04   3.0e-03  0.28  \n",
      "16  1.6e+01  3.4e+00  5.3e+00  9.05e-01   1.882559520e+04   1.868083063e+04   1.8e-03  0.30  \n",
      "17  9.2e+00  1.9e+00  2.3e+00  9.42e-01   1.930355633e+04   1.922038426e+04   1.0e-03  0.30  \n",
      "18  7.9e+00  1.7e+00  1.9e+00  9.57e-01   1.939915254e+04   1.932760299e+04   8.6e-04  0.31  \n",
      "19  3.7e+00  7.7e-01  6.2e-01  9.63e-01   1.971611411e+04   1.968212978e+04   4.0e-04  0.33  \n",
      "20  1.8e+00  3.8e-01  2.2e-01  9.72e-01   1.987028778e+04   1.985342374e+04   2.0e-04  0.33  \n",
      "21  1.3e+00  2.7e-01  1.3e-01  9.83e-01   1.991709065e+04   1.990512830e+04   1.4e-04  0.34  \n",
      "22  4.1e-01  8.5e-02  2.4e-02  9.88e-01   1.999738349e+04   1.999360608e+04   4.4e-05  0.34  \n",
      "23  1.5e-01  3.2e-02  5.5e-03  9.94e-01   2.002171512e+04   2.002030476e+04   1.6e-05  0.36  \n",
      "24  5.0e-02  1.0e-02  1.1e-03  9.97e-01   2.003182351e+04   2.003135818e+04   5.4e-06  0.36  \n",
      "25  1.9e-02  3.9e-03  2.4e-04  9.98e-01   2.003503249e+04   2.003485848e+04   2.0e-06  0.38  \n",
      "26  4.3e-03  9.1e-04  2.8e-05  9.98e-01   2.003652736e+04   2.003648676e+04   4.7e-07  0.38  \n",
      "27  7.3e-04  1.5e-04  1.9e-06  1.00e+00   2.003691501e+04   2.003690818e+04   7.9e-08  0.39  \n",
      "28  2.9e-05  6.0e-06  1.5e-08  1.00e+00   2.003699175e+04   2.003699148e+04   3.1e-09  0.41  \n",
      "29  2.7e-06  5.6e-07  4.3e-10  1.00e+00   2.003699460e+04   2.003699458e+04   2.9e-10  0.44  \n",
      "Optimizer terminated. Time: 0.47    \n",
      "\n"
     ]
    }
   ],
   "source": [
    "optimize!(model_mc)"
   ]
  },
  {
   "cell_type": "code",
   "execution_count": 63,
   "metadata": {
    "ExecuteTime": {
     "end_time": "2020-07-13T18:38:18.094000-03:00",
     "start_time": "2020-07-13T21:37:23.463Z"
    }
   },
   "outputs": [
    {
     "data": {
      "text/plain": [
       "81.46095982277905"
      ]
     },
     "execution_count": 63,
     "metadata": {},
     "output_type": "execute_result"
    }
   ],
   "source": [
    "optimality_gap_mosek(model_mc,optimal_value,file)"
   ]
  },
  {
   "cell_type": "markdown",
   "metadata": {},
   "source": [
    "### Relaxação SDP - MOSEK"
   ]
  },
  {
   "cell_type": "code",
   "execution_count": 64,
   "metadata": {
    "ExecuteTime": {
     "end_time": "2020-07-13T18:38:18.272000-03:00",
     "start_time": "2020-07-13T21:37:23.895Z"
    }
   },
   "outputs": [],
   "source": [
    "file = full_data*tests[162]\n",
    "model_sdp = build_problem(file,mosek,SDP);"
   ]
  },
  {
   "cell_type": "code",
   "execution_count": 65,
   "metadata": {
    "ExecuteTime": {
     "end_time": "2020-07-13T18:38:35.900000-03:00",
     "start_time": "2020-07-13T21:37:24.104Z"
    },
    "scrolled": true
   },
   "outputs": [
    {
     "name": "stdout",
     "output_type": "stream",
     "text": [
      "Problem\n",
      "  Name                   :                 \n",
      "  Objective sense        : min             \n",
      "  Type                   : CONIC (conic optimization problem)\n",
      "  Constraints            : 4464            \n",
      "  Cones                  : 569             \n",
      "  Scalar variables       : 3435            \n",
      "  Matrix variables       : 1               \n",
      "  Integer variables      : 0               \n",
      "\n",
      "Optimizer started.\n",
      "Presolve started.\n",
      "Linear dependency checker started.\n",
      "Linear dependency checker terminated.\n",
      "Eliminator started.\n",
      "Freed constraints in eliminator : 11\n",
      "Eliminator terminated.\n",
      "Eliminator - tries                  : 1                 time                   : 0.00            \n",
      "Lin. dep.  - tries                  : 1                 time                   : 0.00            \n",
      "Lin. dep.  - number                 : 0               \n",
      "Presolve terminated. Time: 0.03    \n",
      "Problem\n",
      "  Name                   :                 \n",
      "  Objective sense        : min             \n",
      "  Type                   : CONIC (conic optimization problem)\n",
      "  Constraints            : 4464            \n",
      "  Cones                  : 569             \n",
      "  Scalar variables       : 3435            \n",
      "  Matrix variables       : 1               \n",
      "  Integer variables      : 0               \n",
      "\n",
      "Optimizer  - threads                : 2               \n",
      "Optimizer  - solved problem         : the primal      \n",
      "Optimizer  - Constraints            : 2166\n",
      "Optimizer  - Cones                  : 567\n",
      "Optimizer  - Scalar variables       : 2996              conic                  : 2264            \n",
      "Optimizer  - Semi-definite variables: 1                 scalarized             : 52650           \n",
      "Factor     - setup time             : 0.22              dense det. time        : 0.00            \n",
      "Factor     - ML order time          : 0.09              GP order time          : 0.00            \n",
      "Factor     - nonzeros before factor : 1.81e+06          after factor           : 1.81e+06        \n",
      "Factor     - dense dim.             : 0                 flops                  : 2.34e+09        \n",
      "ITE PFEAS    DFEAS    GFEAS    PRSTATUS   POBJ              DOBJ              MU       TIME  \n",
      "0   2.2e+02  2.7e+03  4.8e+03  0.00e+00   1.862440513e+04   1.382905641e+04   1.0e+00  0.25  \n",
      "1   1.2e+02  1.5e+03  3.5e+03  -9.88e-01  1.306177404e+04   8.313760852e+03   5.5e-01  0.52  \n",
      "2   7.1e+01  8.9e+02  2.6e+03  -9.44e-01  8.727150697e+03   4.151046816e+03   3.3e-01  0.73  \n",
      "3   5.7e+01  7.1e+02  2.2e+03  -8.00e-01  9.315651482e+03   4.929058072e+03   2.6e-01  0.97  \n",
      "4   4.7e+01  5.9e+02  1.9e+03  -6.82e-01  9.781801469e+03   5.601993251e+03   2.2e-01  1.22  \n",
      "5   2.0e+01  2.5e+02  9.2e+02  -5.70e-01  1.016148674e+04   7.097046983e+03   9.3e-02  1.47  \n",
      "6   9.4e+00  1.2e+02  3.7e+02  -3.82e-02  1.221160082e+04   1.028907949e+04   4.3e-02  1.83  \n",
      "7   4.8e+00  6.0e+01  1.5e+02  3.68e-01   1.471164023e+04   1.353718077e+04   2.2e-02  2.06  \n",
      "8   3.4e+00  4.3e+01  1.0e+02  5.10e-01   1.589065226e+04   1.495613092e+04   1.6e-02  2.31  \n",
      "9   3.1e+00  3.9e+01  9.4e+01  3.97e-01   1.618182442e+04   1.527557964e+04   1.4e-02  2.53  \n",
      "10  2.6e+00  3.2e+01  7.7e+01  4.05e-01   1.681147174e+04   1.598937287e+04   1.2e-02  2.83  \n",
      "11  1.9e+00  2.4e+01  5.5e+01  3.98e-01   1.780962675e+04   1.711490280e+04   8.8e-03  3.05  \n",
      "12  1.7e+00  2.2e+01  5.0e+01  2.58e-01   1.816217756e+04   1.749717575e+04   7.9e-03  3.28  \n",
      "13  1.3e+00  1.7e+01  3.9e+01  2.35e-01   1.897742605e+04   1.837995959e+04   6.2e-03  3.53  \n",
      "14  1.1e+00  1.4e+01  3.2e+01  1.71e-01   1.963109596e+04   1.907582850e+04   5.1e-03  3.75  \n",
      "15  8.2e-01  1.0e+01  2.3e+01  1.37e-01   2.080526248e+04   2.032665524e+04   3.7e-03  3.97  \n",
      "16  7.9e-01  9.9e+00  2.4e+01  -1.51e-01  2.034684017e+04   1.984089446e+04   3.6e-03  4.19  \n",
      "17  6.1e-01  7.6e+00  2.0e+01  -1.68e-01  2.110360036e+04   2.063051851e+04   2.8e-03  4.41  \n",
      "18  4.9e-01  6.1e+00  1.5e+01  1.22e-01   2.235831836e+04   2.194032459e+04   2.2e-03  4.66  \n",
      "19  4.8e-01  5.9e+00  1.5e+01  -4.30e-02  2.239680855e+04   2.198005070e+04   2.2e-03  4.89  \n",
      "20  3.8e-01  4.7e+00  1.2e+01  6.81e-03   2.357972131e+04   2.320278665e+04   1.7e-03  5.11  \n",
      "21  3.2e-01  3.9e+00  1.0e+01  3.20e-02   2.446371625e+04   2.411472428e+04   1.4e-03  5.34  \n",
      "22  2.4e-01  3.0e+00  7.8e+00  1.91e-02   2.581655020e+04   2.550655981e+04   1.1e-03  5.59  \n",
      "23  1.8e-01  2.2e+00  6.0e+00  -1.62e-02  2.716050790e+04   2.688196225e+04   8.1e-04  5.83  \n",
      "24  1.2e-01  1.6e+00  4.6e+00  -1.57e-01  2.839278461e+04   2.813977858e+04   5.7e-04  6.03  \n",
      "25  1.0e-01  1.3e+00  3.8e+00  -3.03e-01  2.952501503e+04   2.928881702e+04   4.6e-04  6.27  \n",
      "26  9.6e-02  1.2e+00  3.7e+00  -3.99e-03  2.974657628e+04   2.951306385e+04   4.4e-04  6.50  \n",
      "27  7.6e-02  9.5e-01  3.0e+00  2.20e-03   3.148128041e+04   3.126929164e+04   3.5e-04  6.72  \n",
      "28  5.8e-02  7.3e-01  2.3e+00  -3.95e-02  3.338493895e+04   3.319329776e+04   2.7e-04  6.99  \n",
      "29  4.1e-02  5.1e-01  1.7e+00  -1.10e-01  3.561901133e+04   3.544859061e+04   1.9e-04  7.27  \n",
      "30  3.2e-02  4.0e-01  1.4e+00  -2.46e-01  3.721467402e+04   3.705555447e+04   1.5e-04  7.59  \n",
      "31  2.7e-02  3.4e-01  1.2e+00  -4.07e-02  4.000223367e+04   3.986219782e+04   1.2e-04  7.88  \n",
      "32  1.9e-02  2.4e-01  8.1e-01  -3.45e-02  4.379593863e+04   4.367803356e+04   8.7e-05  8.17  \n",
      "33  1.7e-02  2.1e-01  7.4e-01  6.62e-03   4.489951452e+04   4.478725174e+04   7.8e-05  8.47  \n",
      "34  1.3e-02  1.6e-01  5.5e-01  4.12e-02   4.794072571e+04   4.784368133e+04   5.9e-05  8.73  \n",
      "35  9.9e-03  1.2e-01  4.4e-01  -5.09e-03  5.059450201e+04   5.050758764e+04   4.5e-05  9.00  \n",
      "36  7.2e-03  9.0e-02  3.2e-01  7.44e-02   5.416856193e+04   5.409496275e+04   3.3e-05  9.33  \n",
      "37  5.8e-03  7.3e-02  2.6e-01  1.10e-01   5.653359065e+04   5.646757243e+04   2.7e-05  9.56  \n",
      "38  5.3e-03  6.6e-02  2.3e-01  1.14e-01   5.771104071e+04   5.764820775e+04   2.4e-05  9.84  \n",
      "39  4.0e-03  5.1e-02  1.8e-01  1.79e-01   6.090262763e+04   6.084936204e+04   1.9e-05  10.14 \n",
      "40  3.0e-03  3.8e-02  1.3e-01  2.22e-01   6.428540273e+04   6.424105977e+04   1.4e-05  10.38 \n",
      "41  2.3e-03  2.8e-02  9.7e-02  1.88e-01   6.725073385e+04   6.721227887e+04   1.0e-05  10.61 \n",
      "42  1.8e-03  2.3e-02  8.0e-02  1.33e-01   6.945933029e+04   6.942466842e+04   8.4e-06  10.84 \n",
      "43  1.6e-03  2.0e-02  6.9e-02  2.13e-01   7.111800259e+04   7.108631189e+04   7.5e-06  11.09 \n",
      "44  1.3e-03  1.6e-02  5.4e-02  2.66e-01   7.359852233e+04   7.357117506e+04   6.0e-06  11.38 \n",
      "45  1.1e-03  1.3e-02  4.6e-02  1.88e-01   7.459094184e+04   7.456565231e+04   4.9e-06  11.66 \n",
      "46  1.0e-03  1.3e-02  4.3e-02  1.65e-01   7.562247692e+04   7.559822187e+04   4.8e-06  11.95 \n",
      "47  9.9e-04  1.2e-02  4.2e-02  2.03e-01   7.598593696e+04   7.596223067e+04   4.6e-06  12.19 \n",
      "48  8.1e-04  1.0e-02  3.3e-02  2.02e-01   7.804378356e+04   7.802294773e+04   3.7e-06  12.42 \n",
      "49  5.7e-04  7.2e-03  2.1e-02  4.20e-01   8.284143038e+04   8.282609731e+04   2.6e-06  12.66 \n",
      "50  4.8e-04  6.0e-03  1.7e-02  4.07e-01   8.453632162e+04   8.452293007e+04   2.2e-06  12.88 \n",
      "51  2.6e-04  3.3e-03  8.3e-03  4.74e-01   8.949376973e+04   8.948542708e+04   1.2e-06  13.09 \n",
      "52  2.4e-04  2.9e-03  7.7e-03  3.92e-01   8.993987126e+04   8.993189638e+04   1.1e-06  13.34 \n",
      "53  2.0e-04  2.5e-03  6.9e-03  1.19e-01   9.063952395e+04   9.063199584e+04   9.2e-07  13.56 \n",
      "54  1.9e-04  2.3e-03  6.4e-03  2.30e-01   9.120229910e+04   9.119515880e+04   8.6e-07  13.83 \n",
      "55  1.3e-04  1.6e-03  4.1e-03  2.13e-01   9.418871429e+04   9.418347031e+04   5.9e-07  14.05 \n",
      "56  9.7e-05  1.2e-03  2.9e-03  4.97e-01   9.611357580e+04   9.610949636e+04   4.4e-07  14.28 \n",
      "57  7.5e-05  9.4e-04  2.1e-03  5.66e-01   9.760973371e+04   9.760645730e+04   3.5e-07  14.53 \n",
      "58  7.1e-05  8.8e-04  2.0e-03  4.96e-01   9.783479230e+04   9.783167525e+04   3.2e-07  14.75 \n",
      "59  4.9e-05  6.1e-04  1.2e-03  5.77e-01   9.996750595e+04   9.996533429e+04   2.2e-07  14.95 \n",
      "60  2.3e-05  2.9e-04  4.5e-04  6.83e-01   1.027265913e+05   1.027255833e+05   1.1e-07  15.17 \n",
      "61  1.9e-05  2.3e-04  3.5e-04  7.21e-01   1.032256664e+05   1.032248467e+05   8.6e-08  15.48 \n",
      "62  1.1e-05  1.4e-04  1.8e-04  7.50e-01   1.043856170e+05   1.043851306e+05   5.2e-08  15.72 \n",
      "63  3.8e-06  4.8e-05  3.9e-05  8.40e-01   1.057871027e+05   1.057869690e+05   1.7e-08  15.95 \n",
      "64  1.1e-06  1.4e-05  6.5e-06  9.33e-01   1.063946266e+05   1.063945983e+05   5.0e-09  16.20 \n"
     ]
    },
    {
     "name": "stdout",
     "output_type": "stream",
     "text": [
      "65  4.8e-07  6.0e-06  1.9e-06  9.76e-01   1.065533110e+05   1.065532995e+05   2.2e-09  16.45 \n",
      "66  3.6e-07  4.6e-06  1.3e-06  9.74e-01   1.065829477e+05   1.065829395e+05   1.7e-09  16.69 \n",
      "67  2.7e-08  3.4e-07  2.8e-08  9.89e-01   1.066759361e+05   1.066759358e+05   1.2e-10  16.95 \n",
      "68  2.2e-09  2.8e-08  6.7e-10  9.99e-01   1.066833414e+05   1.066833414e+05   1.0e-11  17.27 \n",
      "69  3.0e-11  1.2e-06  1.1e-12  1.00e+00   1.066840006e+05   1.066840006e+05   1.4e-13  17.52 \n",
      "Optimizer terminated. Time: 17.55   \n",
      "\n"
     ]
    }
   ],
   "source": [
    "optimize!(model_sdp)"
   ]
  },
  {
   "cell_type": "code",
   "execution_count": 66,
   "metadata": {
    "ExecuteTime": {
     "end_time": "2020-07-13T18:38:35.921000-03:00",
     "start_time": "2020-07-13T21:37:24.329Z"
    }
   },
   "outputs": [
    {
     "data": {
      "text/plain": [
       "1.291635243539082"
      ]
     },
     "execution_count": 66,
     "metadata": {},
     "output_type": "execute_result"
    }
   ],
   "source": [
    "optimality_gap_mosek(model_sdp,optimal_value,file)"
   ]
  },
  {
   "cell_type": "markdown",
   "metadata": {},
   "source": [
    "### Relaxação SOCP - MOSEK"
   ]
  },
  {
   "cell_type": "code",
   "execution_count": 67,
   "metadata": {
    "ExecuteTime": {
     "end_time": "2020-07-13T18:38:36.085000-03:00",
     "start_time": "2020-07-13T21:37:24.759Z"
    }
   },
   "outputs": [],
   "source": [
    "file = full_data*tests[162]\n",
    "model_socp = build_problem(file,mosek,SOCP);"
   ]
  },
  {
   "cell_type": "code",
   "execution_count": 68,
   "metadata": {
    "ExecuteTime": {
     "end_time": "2020-07-13T18:38:36.874000-03:00",
     "start_time": "2020-07-13T21:37:24.982Z"
    },
    "scrolled": true
   },
   "outputs": [
    {
     "name": "stdout",
     "output_type": "stream",
     "text": [
      "Problem\n",
      "  Name                   :                 \n",
      "  Objective sense        : min             \n",
      "  Type                   : CONIC (conic optimization problem)\n",
      "  Constraints            : 5316            \n",
      "  Cones                  : 853             \n",
      "  Scalar variables       : 5731            \n",
      "  Matrix variables       : 0               \n",
      "  Integer variables      : 0               \n",
      "\n",
      "Optimizer started.\n",
      "Presolve started.\n",
      "Linear dependency checker started.\n",
      "Linear dependency checker terminated.\n",
      "Eliminator started.\n",
      "Freed constraints in eliminator : 1041\n",
      "Eliminator terminated.\n",
      "Eliminator started.\n",
      "Freed constraints in eliminator : 70\n",
      "Eliminator terminated.\n",
      "Eliminator - tries                  : 2                 time                   : 0.00            \n",
      "Lin. dep.  - tries                  : 1                 time                   : 0.00            \n",
      "Lin. dep.  - number                 : 722             \n",
      "Presolve terminated. Time: 0.01    \n",
      "Problem\n",
      "  Name                   :                 \n",
      "  Objective sense        : min             \n",
      "  Type                   : CONIC (conic optimization problem)\n",
      "  Constraints            : 5316            \n",
      "  Cones                  : 853             \n",
      "  Scalar variables       : 5731            \n",
      "  Matrix variables       : 0               \n",
      "  Integer variables      : 0               \n",
      "\n",
      "Optimizer  - threads                : 2               \n",
      "Optimizer  - solved problem         : the dual        \n",
      "Optimizer  - Constraints            : 768\n",
      "Optimizer  - Cones                  : 853\n",
      "Optimizer  - Scalar variables       : 6202              conic                  : 3471            \n",
      "Optimizer  - Semi-definite variables: 0                 scalarized             : 0               \n",
      "Factor     - setup time             : 0.02              dense det. time        : 0.00            \n",
      "Factor     - ML order time          : 0.00              GP order time          : 0.00            \n",
      "Factor     - nonzeros before factor : 6842              after factor           : 1.56e+04        \n",
      "Factor     - dense dim.             : 32                flops                  : 5.15e+05        \n",
      "ITE PFEAS    DFEAS    GFEAS    PRSTATUS   POBJ              DOBJ              MU       TIME  \n",
      "0   2.3e+03  1.9e+03  4.8e+03  0.00e+00   0.000000000e+00   -4.797866023e+03  1.0e+00  0.03  \n",
      "1   1.5e+03  1.3e+03  3.9e+03  -9.94e-01  -6.704217887e+03  -1.148536365e+04  6.5e-01  0.05  \n",
      "2   1.1e+03  9.5e+02  3.3e+03  -9.69e-01  -6.512033134e+03  -1.122851935e+04  4.9e-01  0.06  \n",
      "3   7.7e+02  6.4e+02  2.6e+03  -9.17e-01  -6.163427557e+03  -1.071183889e+04  3.3e-01  0.06  \n",
      "4   4.9e+02  4.1e+02  1.9e+03  -8.01e-01  -5.011290445e+03  -9.206230087e+03  2.1e-01  0.06  \n",
      "5   3.9e+02  3.3e+02  1.6e+03  -6.28e-01  -4.311221323e+03  -8.317737807e+03  1.7e-01  0.06  \n",
      "6   2.4e+02  2.0e+02  1.1e+03  -5.50e-01  -2.730557534e+03  -6.203053579e+03  1.0e-01  0.08  \n",
      "7   1.7e+02  1.4e+02  7.6e+02  -3.28e-01  -3.938590831e+02  -3.427329364e+03  7.2e-02  0.08  \n",
      "8   1.2e+02  1.0e+02  5.4e+02  -1.35e-01  2.002411685e+03   -6.039938007e+02  5.3e-02  0.08  \n",
      "9   8.7e+01  7.3e+01  3.7e+02  1.80e-02   4.706614611e+03   2.525257259e+03   3.8e-02  0.08  \n",
      "10  7.1e+01  6.0e+01  2.9e+02  1.74e-01   6.520320077e+03   4.572591249e+03   3.1e-02  0.08  \n",
      "11  5.5e+01  4.6e+01  2.2e+02  2.27e-01   8.941459058e+03   7.262326816e+03   2.4e-02  0.09  \n",
      "12  4.7e+01  3.9e+01  1.8e+02  2.71e-01   1.048744853e+04   8.956660664e+03   2.0e-02  0.09  \n",
      "13  4.0e+01  3.3e+01  1.5e+02  3.11e-01   1.196029491e+04   1.056877067e+04   1.7e-02  0.09  \n",
      "14  3.5e+01  2.9e+01  1.3e+02  3.45e-01   1.322077067e+04   1.194084478e+04   1.5e-02  0.09  \n",
      "15  2.7e+01  2.2e+01  9.6e+01  3.52e-01   1.536113288e+04   1.426060654e+04   1.2e-02  0.09  \n",
      "16  2.4e+01  2.0e+01  9.1e+01  2.75e-01   1.513583418e+04   1.403054901e+04   1.1e-02  0.11  \n",
      "17  2.0e+01  1.7e+01  7.8e+01  9.02e-02   1.594299409e+04   1.488587659e+04   8.7e-03  0.11  \n",
      "18  1.7e+01  1.5e+01  6.4e+01  2.04e-01   1.826106667e+04   1.731794696e+04   7.6e-03  0.11  \n",
      "19  1.7e+01  1.4e+01  6.3e+01  1.12e-01   1.827211932e+04   1.733001280e+04   7.4e-03  0.13  \n",
      "20  1.4e+01  1.2e+01  5.2e+01  1.06e-01   2.013657784e+04   1.927403406e+04   6.0e-03  0.13  \n",
      "21  1.2e+01  9.9e+00  4.4e+01  9.76e-02   2.162012673e+04   2.081650127e+04   5.1e-03  0.13  \n",
      "22  1.0e+01  8.4e+00  3.8e+01  9.67e-02   2.303447879e+04   2.228316111e+04   4.4e-03  0.14  \n",
      "23  9.1e+00  7.6e+00  3.5e+01  2.41e-02   2.351118092e+04   2.277676525e+04   3.9e-03  0.16  \n",
      "24  6.6e+00  5.5e+00  2.8e+01  -9.36e-02  2.501626813e+04   2.432904958e+04   2.9e-03  0.16  \n",
      "25  6.2e+00  5.2e+00  2.5e+01  2.38e-02   2.707666730e+04   2.644533039e+04   2.7e-03  0.16  \n",
      "26  6.1e+00  5.1e+00  2.4e+01  -3.13e-02  2.728835697e+04   2.666249921e+04   2.6e-03  0.17  \n",
      "27  4.9e+00  4.1e+00  1.9e+01  -1.56e-02  2.981175083e+04   2.924859370e+04   2.1e-03  0.17  \n",
      "28  4.3e+00  3.6e+00  1.7e+01  6.55e-02   3.096980141e+04   3.043604846e+04   1.9e-03  0.17  \n",
      "29  3.4e+00  2.8e+00  1.4e+01  2.80e-02   3.339677689e+04   3.291660600e+04   1.5e-03  0.19  \n",
      "30  3.0e+00  2.5e+00  1.3e+01  -2.12e-01  3.221171305e+04   3.171287555e+04   1.3e-03  0.19  \n",
      "31  2.6e+00  2.2e+00  1.0e+01  -3.93e-02  3.663749993e+04   3.621581165e+04   1.1e-03  0.20  \n",
      "32  2.4e+00  2.0e+00  9.3e+00  6.39e-02   3.784939209e+04   3.744996438e+04   1.0e-03  0.20  \n",
      "33  2.1e+00  1.7e+00  8.1e+00  7.73e-02   3.952737785e+04   3.915231800e+04   8.9e-04  0.20  \n",
      "34  1.6e+00  1.4e+00  6.4e+00  1.08e-01   4.228158969e+04   4.195033664e+04   7.1e-04  0.20  \n",
      "35  1.5e+00  1.2e+00  5.8e+00  1.36e-01   4.342892949e+04   4.311256591e+04   6.4e-04  0.22  \n",
      "36  1.3e+00  1.1e+00  5.1e+00  1.02e-01   4.493581772e+04   4.463679377e+04   5.5e-04  0.23  \n",
      "37  1.0e+00  8.5e-01  4.1e+00  8.33e-02   4.751281432e+04   4.724361682e+04   4.4e-04  0.23  \n",
      "38  9.4e-01  7.9e-01  3.9e+00  4.04e-02   4.828021073e+04   4.801696040e+04   4.1e-04  0.23  \n",
      "39  8.0e-01  6.7e-01  3.2e+00  1.10e-01   5.045302334e+04   5.021358656e+04   3.5e-04  0.25  \n",
      "40  6.1e-01  5.1e-01  2.4e+00  1.63e-01   5.395493258e+04   5.374902930e+04   2.7e-04  0.25  \n",
      "41  4.6e-01  3.8e-01  1.8e+00  2.50e-01   5.714071843e+04   5.696656612e+04   2.0e-04  0.25  \n",
      "42  4.3e-01  3.6e-01  1.7e+00  8.50e-02   5.806810688e+04   5.790037663e+04   1.8e-04  0.27  \n",
      "43  3.8e-01  3.2e-01  1.5e+00  1.14e-01   5.847120283e+04   5.830667511e+04   1.6e-04  0.27  \n",
      "44  3.1e-01  2.6e-01  1.2e+00  2.44e-01   6.164929876e+04   6.150505862e+04   1.4e-04  0.27  \n",
      "45  2.8e-01  2.4e-01  1.1e+00  1.47e-01   6.273839429e+04   6.259919361e+04   1.2e-04  0.27  \n",
      "46  2.3e-01  2.0e-01  8.9e-01  2.13e-01   6.557851569e+04   6.545809873e+04   1.0e-04  0.28  \n",
      "47  2.1e-01  1.7e-01  7.6e-01  3.58e-01   6.727085784e+04   6.716072806e+04   8.9e-05  0.28  \n",
      "48  2.0e-01  1.6e-01  7.3e-01  3.39e-01   6.774106674e+04   6.763348859e+04   8.5e-05  0.28  \n",
      "49  1.8e-01  1.5e-01  6.5e-01  3.21e-01   6.895299294e+04   6.885159205e+04   7.6e-05  0.28  \n",
      "50  1.4e-01  1.1e-01  4.8e-01  3.37e-01   7.190590445e+04   7.182151067e+04   5.9e-05  0.28  \n",
      "51  1.0e-01  8.6e-02  3.7e-01  3.52e-01   7.385392867e+04   7.378011456e+04   4.5e-05  0.30  \n",
      "52  9.8e-02  8.2e-02  3.6e-01  9.53e-02   7.400999838e+04   7.393705373e+04   4.2e-05  0.31  \n",
      "53  9.6e-02  8.1e-02  3.4e-01  4.09e-01   7.465566563e+04   7.458509012e+04   4.2e-05  0.33  \n",
      "54  8.6e-02  7.2e-02  2.9e-01  3.39e-01   7.622177694e+04   7.615748090e+04   3.7e-05  0.33  \n",
      "55  8.1e-02  6.8e-02  2.9e-01  3.15e-01   7.596881798e+04   7.590450224e+04   3.5e-05  0.34  \n",
      "56  7.8e-02  6.5e-02  2.5e-01  2.44e-01   7.823408660e+04   7.817717488e+04   3.4e-05  0.36  \n",
      "57  7.2e-02  6.0e-02  2.3e-01  4.64e-01   7.884246204e+04   7.878786127e+04   3.1e-05  0.36  \n",
      "58  5.4e-02  4.5e-02  1.6e-01  4.61e-01   8.133231357e+04   8.128795258e+04   2.3e-05  0.38  \n",
      "59  5.3e-02  4.4e-02  1.6e-01  1.93e-01   8.115335724e+04   8.110745443e+04   2.3e-05  0.38  \n",
      "60  4.9e-02  4.1e-02  1.6e-01  6.92e-02   8.136885993e+04   8.132240929e+04   2.1e-05  0.38  \n",
      "61  4.4e-02  3.7e-02  1.5e-01  2.34e-02   8.211968533e+04   8.207478368e+04   1.9e-05  0.39  \n",
      "62  4.0e-02  3.3e-02  1.2e-01  3.58e-01   8.361741069e+04   8.357738643e+04   1.7e-05  0.41  \n",
      "63  3.0e-02  2.5e-02  8.7e-02  4.15e-01   8.633073805e+04   8.629890652e+04   1.3e-05  0.41  \n",
      "64  1.9e-02  1.6e-02  4.8e-02  6.02e-01   8.981649805e+04   8.979506540e+04   8.3e-06  0.41  \n"
     ]
    },
    {
     "name": "stdout",
     "output_type": "stream",
     "text": [
      "65  1.1e-02  9.6e-03  2.4e-02  7.46e-01   9.262649117e+04   9.261316164e+04   5.0e-06  0.42  \n",
      "66  5.2e-03  4.3e-03  8.2e-03  8.52e-01   9.517594190e+04   9.516977948e+04   2.3e-06  0.44  \n",
      "67  2.8e-03  2.4e-03  3.4e-03  9.44e-01   9.631878515e+04   9.631542201e+04   1.2e-06  0.44  \n",
      "68  1.1e-03  8.9e-04  8.5e-04  9.74e-01   9.722228377e+04   9.722102070e+04   4.6e-07  0.44  \n",
      "69  2.8e-04  2.4e-04  1.2e-04  9.93e-01   9.764964939e+04   9.764931657e+04   1.2e-07  0.44  \n",
      "70  1.3e-04  1.1e-04  3.8e-05  9.99e-01   9.773552035e+04   9.773536925e+04   5.6e-08  0.44  \n",
      "71  4.0e-05  3.4e-05  6.8e-06  9.99e-01   9.778577240e+04   9.778572564e+04   1.7e-08  0.45  \n",
      "72  1.8e-05  1.5e-05  2.0e-06  9.99e-01   9.779878491e+04   9.779876414e+04   7.8e-09  0.45  \n",
      "73  5.7e-06  4.7e-06  3.7e-07  9.99e-01   9.780594759e+04   9.780594100e+04   2.5e-09  0.47  \n",
      "74  2.6e-06  2.2e-06  1.2e-07  1.00e+00   9.780778053e+04   9.780777752e+04   1.1e-09  0.47  \n",
      "75  6.8e-07  6.1e-07  1.6e-08  1.00e+00   9.780892872e+04   9.780892793e+04   3.0e-10  0.47  \n",
      "76  1.9e-07  1.7e-07  2.2e-09  9.99e-01   9.780922861e+04   9.780922840e+04   8.1e-11  0.48  \n",
      "77  4.3e-08  3.9e-08  2.5e-10  9.99e-01   9.780931523e+04   9.780931518e+04   1.9e-11  0.50  \n",
      "78  4.3e-08  3.9e-08  2.5e-10  1.00e+00   9.780931523e+04   9.780931518e+04   1.9e-11  0.52  \n",
      "79  4.3e-08  3.9e-08  2.5e-10  1.00e+00   9.780931523e+04   9.780931518e+04   1.9e-11  0.53  \n",
      "80  4.3e-08  3.6e-08  2.5e-10  1.00e+00   9.780931527e+04   9.780931522e+04   1.9e-11  0.53  \n",
      "81  4.3e-08  3.6e-08  2.5e-10  1.00e+00   9.780931529e+04   9.780931524e+04   1.9e-11  0.55  \n",
      "82  4.3e-08  3.6e-08  2.5e-10  1.00e+00   9.780931529e+04   9.780931524e+04   1.9e-11  0.61  \n",
      "83  4.3e-08  3.6e-08  2.5e-10  1.00e+00   9.780931530e+04   9.780931525e+04   1.9e-11  0.61  \n",
      "84  4.3e-08  3.6e-08  2.5e-10  1.00e+00   9.780931530e+04   9.780931525e+04   1.9e-11  0.63  \n",
      "Optimizer terminated. Time: 0.64    \n",
      "\n"
     ]
    }
   ],
   "source": [
    "optimize!(model_socp)"
   ]
  },
  {
   "cell_type": "code",
   "execution_count": 69,
   "metadata": {
    "ExecuteTime": {
     "end_time": "2020-07-13T18:38:36.896000-03:00",
     "start_time": "2020-07-13T21:37:25.223Z"
    }
   },
   "outputs": [
    {
     "data": {
      "text/plain": [
       "9.502853927527452"
      ]
     },
     "execution_count": 69,
     "metadata": {},
     "output_type": "execute_result"
    }
   ],
   "source": [
    "optimality_gap_mosek(model_socp,optimal_value,file)"
   ]
  },
  {
   "cell_type": "markdown",
   "metadata": {},
   "source": [
    "### Avaliação dos Resultados"
   ]
  },
  {
   "cell_type": "code",
   "execution_count": 70,
   "metadata": {
    "ExecuteTime": {
     "end_time": "2020-07-13T18:38:36.896000-03:00",
     "start_time": "2020-07-13T21:37:25.703Z"
    }
   },
   "outputs": [],
   "source": [
    "models = [model_nl,model_mc,model_sdp,model_socp];"
   ]
  },
  {
   "cell_type": "code",
   "execution_count": 71,
   "metadata": {
    "ExecuteTime": {
     "end_time": "2020-07-13T18:38:37.197000-03:00",
     "start_time": "2020-07-13T21:37:25.926Z"
    }
   },
   "outputs": [
    {
     "data": {
      "image/png": "[encoded data removed]",
      "text/plain": [
       "Figure(PyObject <Figure size 640x480 with 1 Axes>)"
      ]
     },
     "metadata": {},
     "output_type": "display_data"
    }
   ],
   "source": [
    "plot_var(models,\"p_g\",\"Geração Ativa\",\"Geração (MW)\");"
   ]
  },
  {
   "cell_type": "code",
   "execution_count": 72,
   "metadata": {
    "ExecuteTime": {
     "end_time": "2020-07-13T18:38:37.444000-03:00",
     "start_time": "2020-07-13T21:37:26.183Z"
    }
   },
   "outputs": [
    {
     "data": {
      "image/png": "[encoded data removed]",
      "text/plain": [
       "Figure(PyObject <Figure size 640x480 with 1 Axes>)"
      ]
     },
     "metadata": {},
     "output_type": "display_data"
    }
   ],
   "source": [
    "plot_var(models,\"q_g\",\"Geração Reativa\",\"Geração (MW)\");"
   ]
  },
  {
   "cell_type": "markdown",
   "metadata": {},
   "source": [
    "# Tabela de Resultados"
   ]
  },
  {
   "cell_type": "markdown",
   "metadata": {},
   "source": [
    "## $|\\mathcal{B}| \\leq 500 $"
   ]
  },
  {
   "cell_type": "code",
   "execution_count": 73,
   "metadata": {
    "ExecuteTime": {
     "end_time": "2020-07-13T18:47:46.123000-03:00",
     "start_time": "2020-07-13T21:37:26.918Z"
    },
    "scrolled": true
   },
   "outputs": [],
   "source": [
    "files = [tests[i] for i in [3,5,14,24,30,39,57,73,89,118,162,179,240,300,500]]\n",
    "cases = benchmark(files,tests);"
   ]
  },
  {
   "cell_type": "code",
   "execution_count": 74,
   "metadata": {
    "ExecuteTime": {
     "end_time": "2020-07-13T18:47:46.924000-03:00",
     "start_time": "2020-07-13T21:37:27.160Z"
    }
   },
   "outputs": [
    {
     "name": "stdout",
     "output_type": "stream",
     "text": [
      "                  Tabela de estimativa de erro em percentual\n",
      "\n",
      "               Nome do Arquivo |      NL |      MC |     SDP |    SOCP |\n",
      "        pglib_opf_case3_lmbd.m |   0.001 |  39.649 |   0.390 |   2.987 |\n",
      "         pglib_opf_case5_pjm.m |   0.001 |  37.996 |   5.220 |  15.604 |\n",
      "       pglib_opf_case14_ieee.m |   0.027 | 100.000 |   0.027 |   5.433 |\n",
      "   pglib_opf_case24_ieee_rts.m |   0.002 |  25.282 |   0.002 |   3.639 |\n",
      "       pglib_opf_case30_ieee.m |   0.193 | 100.000 |   0.193 |  30.315 |\n",
      "       pglib_opf_case39_epri.m |   0.029 |  26.361 |   0.019 |   1.619 |\n",
      "       pglib_opf_case57_ieee.m |   3.517 | 100.000 | 100.000 |   7.275 |\n",
      "   pglib_opf_case73_ieee_rts.m |   0.004 |  28.183 |   0.004 |   3.488 |\n",
      "     pglib_opf_case89_pegase.m |   0.058 |  54.010 |   0.428 |   2.701 |\n",
      "      pglib_opf_case118_ieee.m |   0.011 |  95.029 |   0.066 |   4.227 |\n",
      "  pglib_opf_case162_ieee_dtc.m |   0.704 |  81.461 |   1.292 |   9.503 |\n",
      "       pglib_opf_case179_goc.m |   0.014 |   5.737 |   0.086 |   0.404 |\n",
      "     pglib_opf_case240_pserc.m |   0.001 |  56.267 |   1.430 |   4.529 |\n",
      "      pglib_opf_case300_ieee.m |  25.055 |  94.607 |  20.655 |  10.476 |\n",
      "      pglib_opf_case500_tamu.m |  20.539 |   9.558 |  20.539 |  19.382 |\n",
      "\n",
      "                       Tabela de tempo em segundos\n",
      "\n",
      "               Nome do Arquivo |      NL |      MC |     SDP |    SOCP |\n",
      "        pglib_opf_case3_lmbd.m |   0.038 |   0.004 |   0.006 |   0.003 |\n",
      "         pglib_opf_case5_pjm.m |   0.029 |   0.008 |   0.011 |   0.008 |\n",
      "       pglib_opf_case14_ieee.m |   0.052 |   0.016 |   0.032 |   0.011 |\n",
      "   pglib_opf_case24_ieee_rts.m |   0.099 |   0.043 |   0.154 |   0.036 |\n",
      "       pglib_opf_case30_ieee.m |   0.116 |   0.035 |   0.119 |   0.024 |\n",
      "       pglib_opf_case39_epri.m |   0.112 |   0.058 |   0.260 |   0.074 |\n",
      "       pglib_opf_case57_ieee.m |   1.476 |   0.112 |   0.797 |   0.090 |\n",
      "   pglib_opf_case73_ieee_rts.m |   0.293 |   0.172 |   1.220 |   0.111 |\n",
      "     pglib_opf_case89_pegase.m |   0.517 |   0.233 |   4.412 |   0.182 |\n",
      "      pglib_opf_case118_ieee.m |   0.430 |   0.282 |   5.373 |   0.319 |\n",
      "  pglib_opf_case162_ieee_dtc.m |   2.406 |   0.773 |  16.743 |   0.520 |\n",
      "       pglib_opf_case179_goc.m |   1.031 |   0.350 |  14.689 |   0.350 |\n",
      "     pglib_opf_case240_pserc.m |   3.034 |   0.902 |  50.318 |   0.868 |\n",
      "      pglib_opf_case300_ieee.m |  55.224 |   1.186 | 112.902 |   0.767 |\n",
      "      pglib_opf_case500_tamu.m |   2.232 |   1.845 | 250.601 |   1.628 |\n"
     ]
    }
   ],
   "source": [
    "print_cases_table(cases)"
   ]
  },
  {
   "cell_type": "code",
   "execution_count": 76,
   "metadata": {
    "ExecuteTime": {
     "end_time": "2020-07-13T18:48:23.937000-03:00",
     "start_time": "2020-07-13T21:48:23.256Z"
    }
   },
   "outputs": [
    {
     "data": {
      "image/png": "[encoded data removed]",
      "text/plain": [
       "Figure(PyObject <Figure size 640x480 with 1 Axes>)"
      ]
     },
     "metadata": {},
     "output_type": "display_data"
    },
    {
     "name": "stderr",
     "output_type": "stream",
     "text": [
      "sys:1: UserWarning: Matplotlib is currently using agg, which is a non-GUI backend, so cannot show the figure.\r\n"
     ]
    }
   ],
   "source": [
    "graph_dispersion(cases)"
   ]
  },
  {
   "cell_type": "markdown",
   "metadata": {},
   "source": [
    "## $1354 \\leq |\\mathcal{B}| \\leq 3375 $"
   ]
  },
  {
   "cell_type": "code",
   "execution_count": 375,
   "metadata": {
    "ExecuteTime": {
     "end_time": "2020-07-07T20:47:39.915000-03:00",
     "start_time": "2020-07-07T20:59:48.649Z"
    }
   },
   "outputs": [],
   "source": [
    "files = [tests[i] for i in [1354,1888, 1951, 2000, 2316,2736,3012,3375]]\n",
    "cases_no_sdp = benchmark_no_sdp(files,tests);"
   ]
  },
  {
   "cell_type": "code",
   "execution_count": 378,
   "metadata": {
    "ExecuteTime": {
     "end_time": "2020-07-07T20:50:17.791000-03:00",
     "start_time": "2020-07-07T23:50:17.107Z"
    }
   },
   "outputs": [
    {
     "name": "stdout",
     "output_type": "stream",
     "text": [
      "             Tabela de estimativa de erro em percentual\n",
      "\n",
      "               Nome do Arquivo |       NL |       MC |     SOCP |\n",
      "   pglib_opf_case1354_pegase.m |    0.127 |   61.633 |    4.535 |\n",
      "      pglib_opf_case1888_rte.m |   20.670 |   51.178 |    4.766 |\n",
      "      pglib_opf_case1951_rte.m |   25.710 |   58.784 |    2.808 |\n",
      "     pglib_opf_case2000_tamu.m |    5.404 |   33.885 |    3.228 |\n",
      "     pglib_opf_case2316_sdet.m |    1.262 |   37.722 |    3.492 |\n",
      "      pglib_opf_case2736sp_k.m |    8.609 |    8.609 |    8.609 |\n",
      "      pglib_opf_case3012wp_k.m |    1.825 |   35.034 |   11.224 |\n",
      "      pglib_opf_case3375wp_k.m |    3.261 |   11.697 |    4.429 |\n",
      "\n",
      "                  Tabela de tempo em segundos\n",
      "\n",
      "               Nome do Arquivo |       NL |       MC |     SOCP |\n",
      "   pglib_opf_case1354_pegase.m |    8.820 |   17.487 |   13.791 |\n",
      "      pglib_opf_case1888_rte.m |  764.359 |  214.032 |  139.068 |\n",
      "      pglib_opf_case1951_rte.m |  143.384 |   44.693 |  106.025 |\n",
      "     pglib_opf_case2000_tamu.m |   41.532 |   82.775 |  111.466 |\n",
      "     pglib_opf_case2316_sdet.m |  114.695 |  226.593 |  231.731 |\n",
      "      pglib_opf_case2736sp_k.m |   69.687 |  223.896 |  301.661 |\n",
      "      pglib_opf_case3012wp_k.m |  315.213 | 1483.946 | 1515.351 |\n",
      "      pglib_opf_case3375wp_k.m |  342.724 |  762.396 |  675.530 |\n"
     ]
    }
   ],
   "source": [
    "print_cases_no_sdp_table(cases_no_sdp)"
   ]
  },
  {
   "cell_type": "code",
   "execution_count": 385,
   "metadata": {
    "ExecuteTime": {
     "end_time": "2020-07-07T21:03:02.002000-03:00",
     "start_time": "2020-07-08T00:03:01.041Z"
    }
   },
   "outputs": [
    {
     "data": {
      "image/png": "[encoded data removed]",
      "text/plain": [
       "Figure(PyObject <Figure size 640x480 with 1 Axes>)"
      ]
     },
     "metadata": {},
     "output_type": "display_data"
    },
    {
     "name": "stderr",
     "output_type": "stream",
     "text": [
      "sys:1: UserWarning: Matplotlib is currently using agg, which is a non-GUI backend, so cannot show the figure.\r\n"
     ]
    }
   ],
   "source": [
    "graph_dispersion(cases_no_sdp,sdp=false)"
   ]
  }
 ],
 "metadata": {
  "kernelspec": {
   "display_name": "Julia 1.3.1",
   "language": "julia",
   "name": "julia-1.3"
  },
  "language_info": {
   "file_extension": ".jl",
   "mimetype": "application/julia",
   "name": "julia",
   "version": "1.3.1"
  },
  "toc": {
   "base_numbering": 1,
   "nav_menu": {},
   "number_sections": true,
   "sideBar": true,
   "skip_h1_title": false,
   "title_cell": "Table of Contents",
   "title_sidebar": "Contents",
   "toc_cell": false,
   "toc_position": {
    "height": "calc(100% - 180px)",
    "left": "10px",
    "top": "150px",
    "width": "278.675px"
   },
   "toc_section_display": true,
   "toc_window_display": true
  }
 },
 "nbformat": 4,
 "nbformat_minor": 4
}
