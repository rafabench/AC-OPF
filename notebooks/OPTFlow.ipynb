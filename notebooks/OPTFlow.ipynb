{
 "cells": [
  {
   "cell_type": "code",
   "execution_count": 1,
   "metadata": {
    "ExecuteTime": {
     "end_time": "2021-12-27T15:59:47.538000-03:00",
     "start_time": "2021-12-27T18:59:46.636Z"
    }
   },
   "outputs": [
    {
     "name": "stderr",
     "output_type": "stream",
     "text": [
      "\u001b[32m\u001b[1m  Activating\u001b[22m\u001b[39m environment at `E:\\Projects\\AC-OPF\\Project.toml`\n"
     ]
    }
   ],
   "source": [
    "using Pkg\n",
    "Pkg.activate(\"..\")"
   ]
  },
  {
   "cell_type": "markdown",
   "metadata": {},
   "source": [
    "## Library downloads"
   ]
  },
  {
   "cell_type": "code",
   "execution_count": 2,
   "metadata": {
    "ExecuteTime": {
     "end_time": "2021-12-27T15:59:56.133000-03:00",
     "start_time": "2021-12-27T18:59:46.639Z"
    }
   },
   "outputs": [
    {
     "data": {
      "text/plain": [
       "#3 (generic function with 1 method)"
      ]
     },
     "execution_count": 2,
     "metadata": {},
     "output_type": "execute_result"
    }
   ],
   "source": [
    "using JuMP,Ipopt,MosekTools, PyPlot\n",
    "ipopt = () -> Ipopt.Optimizer()\n",
    "mosek = () -> Mosek.Optimizer()"
   ]
  },
  {
   "cell_type": "markdown",
   "metadata": {},
   "source": [
    "## Data Structure and auxiliary functions"
   ]
  },
  {
   "cell_type": "code",
   "execution_count": 3,
   "metadata": {
    "ExecuteTime": {
     "end_time": "2021-12-27T15:59:56.578000-03:00",
     "start_time": "2021-12-27T18:59:46.642Z"
    }
   },
   "outputs": [
    {
     "data": {
      "text/plain": [
       "graph_dispersion (generic function with 1 method)"
      ]
     },
     "execution_count": 3,
     "metadata": {},
     "output_type": "execute_result"
    }
   ],
   "source": [
    "include(\"../src/structs.jl\")\n",
    "include(\"../src/data_read.jl\")\n",
    "include(\"../src/utils.jl\")"
   ]
  },
  {
   "cell_type": "markdown",
   "metadata": {},
   "source": [
    "## Data Download"
   ]
  },
  {
   "cell_type": "markdown",
   "metadata": {
    "ExecuteTime": {
     "end_time": "2020-07-13T18:34:37.692000-03:00",
     "start_time": "2020-07-13T21:34:35.642Z"
    }
   },
   "source": [
    "Data library: [pglib-opf-master](https://github.com/power-grid-lib/pglib-opf)"
   ]
  },
  {
   "cell_type": "code",
   "execution_count": 4,
   "metadata": {
    "ExecuteTime": {
     "end_time": "2021-12-27T15:59:56.813000-03:00",
     "start_time": "2021-12-27T18:59:46.646Z"
    }
   },
   "outputs": [
    {
     "data": {
      "text/plain": [
       "\"..\\\\data\\\\pglib-opf\""
      ]
     },
     "execution_count": 4,
     "metadata": {},
     "output_type": "execute_result"
    }
   ],
   "source": [
    "full_data = raw\"..\\data\\pglib-opf\""
   ]
  },
  {
   "cell_type": "markdown",
   "metadata": {},
   "source": [
    "# Model build"
   ]
  },
  {
   "cell_type": "markdown",
   "metadata": {},
   "source": [
    "## Functions related to electrical grid graph"
   ]
  },
  {
   "cell_type": "markdown",
   "metadata": {},
   "source": [
    "Consider a non-directed graph with $\\mathcal{N} = (\\mathcal{B},\\mathcal{L})$, where $\\mathcal{B}$ is the set of buses and $\\mathcal{L}$ the set of transmission lines. The set of Generators $\\mathcal{G}$ is a subset of $\\mathcal{B}$."
   ]
  },
  {
   "cell_type": "code",
   "execution_count": 5,
   "metadata": {
    "ExecuteTime": {
     "end_time": "2021-12-27T15:59:56.892000-03:00",
     "start_time": "2021-12-27T18:59:46.650Z"
    }
   },
   "outputs": [
    {
     "data": {
      "text/plain": [
       "bus_id (generic function with 1 method)"
      ]
     },
     "execution_count": 5,
     "metadata": {},
     "output_type": "execute_result"
    }
   ],
   "source": [
    "function bus_id(Buses)\n",
    "    count = 1\n",
    "    dict_buses = Dict()\n",
    "    for bus in Buses\n",
    "        dict_buses[bus.bus_i] = count\n",
    "        count += 1\n",
    "    end\n",
    "    dict_buses\n",
    "end"
   ]
  },
  {
   "cell_type": "markdown",
   "metadata": {},
   "source": [
    "The function $\\delta$ receive a bus as attribute and returns all lines connected to it."
   ]
  },
  {
   "cell_type": "code",
   "execution_count": 6,
   "metadata": {
    "ExecuteTime": {
     "end_time": "2021-12-27T15:59:56.979000-03:00",
     "start_time": "2021-12-27T18:59:46.653Z"
    }
   },
   "outputs": [
    {
     "data": {
      "text/plain": [
       "δ (generic function with 1 method)"
      ]
     },
     "execution_count": 6,
     "metadata": {},
     "output_type": "execute_result"
    }
   ],
   "source": [
    "function δ(i,Branches,Buses)\n",
    "    tbuses = []\n",
    "    dict_buses = bus_id(Buses)\n",
    "    count = 1\n",
    "    ls = []\n",
    "    for branch in Branches\n",
    "        if dict_buses[branch.fbus] == i\n",
    "            push!(tbuses,dict_buses[branch.tbus])\n",
    "            push!(ls,count)\n",
    "        end\n",
    "        if dict_buses[branch.tbus] == i\n",
    "            push!(tbuses,dict_buses[branch.fbus])\n",
    "            push!(ls,count)\n",
    "        end\n",
    "        count += 1\n",
    "    end\n",
    "    (tbuses,ls)\n",
    "end"
   ]
  },
  {
   "cell_type": "code",
   "execution_count": 7,
   "metadata": {
    "ExecuteTime": {
     "end_time": "2021-12-27T15:59:57.065000-03:00",
     "start_time": "2021-12-27T18:59:46.655Z"
    }
   },
   "outputs": [
    {
     "data": {
      "text/plain": [
       "To_nodes (generic function with 1 method)"
      ]
     },
     "execution_count": 7,
     "metadata": {},
     "output_type": "execute_result"
    }
   ],
   "source": [
    "function From_nodes(i,Branches,Buses)\n",
    "    tbuses = []\n",
    "    ls = []\n",
    "    count = 1\n",
    "    dict_buses = bus_id(Buses)\n",
    "    for branch in Branches\n",
    "        if dict_buses[branch.fbus] == i\n",
    "            push!(tbuses,dict_buses[branch.tbus])\n",
    "            push!(ls,count)\n",
    "        end\n",
    "        count += 1\n",
    "    end\n",
    "    (tbuses,ls)\n",
    "end\n",
    "\n",
    "function To_nodes(i,Branches,Buses)\n",
    "    tbuses = []\n",
    "    ls = []\n",
    "    count = 1\n",
    "    dict_buses = bus_id(Buses)\n",
    "    for branch in Branches\n",
    "        if dict_buses[branch.tbus] == i\n",
    "            push!(tbuses,dict_buses[branch.fbus])\n",
    "            push!(ls,count)\n",
    "        end\n",
    "        count += 1\n",
    "    end\n",
    "    (tbuses,ls)\n",
    "end"
   ]
  },
  {
   "cell_type": "code",
   "execution_count": 8,
   "metadata": {
    "ExecuteTime": {
     "end_time": "2021-12-27T15:59:57.154000-03:00",
     "start_time": "2021-12-27T18:59:46.658Z"
    }
   },
   "outputs": [
    {
     "data": {
      "text/plain": [
       "G (generic function with 1 method)"
      ]
     },
     "execution_count": 8,
     "metadata": {},
     "output_type": "execute_result"
    }
   ],
   "source": [
    "function G(i,Generators,Buses)\n",
    "    G_i = []\n",
    "    count = 1\n",
    "    dict_buses = bus_id(Buses)\n",
    "    for gen in Generators\n",
    "        if dict_buses[gen.bus] == i\n",
    "            push!(G_i,count)\n",
    "        end\n",
    "        count += 1\n",
    "    end\n",
    "    G_i\n",
    "end"
   ]
  },
  {
   "cell_type": "markdown",
   "metadata": {},
   "source": [
    "## Constants"
   ]
  },
  {
   "cell_type": "markdown",
   "metadata": {},
   "source": [
    "- $Y_l^{Re}$: Series admittance (real)\n",
    "- $Y_l^{Im}$: Series admittance (imaginary)\n",
    "- $T_l^{Re}$: Transformer parameters (real)\n",
    "- $T_l^{Im}$: Transformer parameters (imaginary)\n",
    "- $b_l$: Line charge\n",
    "- $s_l^u$: Thermal limits\n",
    "- $\\theta_{min}$,$\\theta_{max}$: Branch voltage angle difference range"
   ]
  },
  {
   "cell_type": "code",
   "execution_count": 9,
   "metadata": {
    "ExecuteTime": {
     "end_time": "2021-12-27T15:59:57.237000-03:00",
     "start_time": "2021-12-27T18:59:46.661Z"
    }
   },
   "outputs": [
    {
     "data": {
      "text/plain": [
       "add_constants (generic function with 1 method)"
      ]
     },
     "execution_count": 9,
     "metadata": {},
     "output_type": "execute_result"
    }
   ],
   "source": [
    "function add_constants(Branches)\n",
    "    YR = zeros(length(Branches))\n",
    "    YI = zeros(length(Branches))\n",
    "    TR = zeros(length(Branches))\n",
    "    TI = zeros(length(Branches))\n",
    "    B = zeros(length(Branches))\n",
    "    thermal_lim = zeros(length(Branches))\n",
    "    ang_min = zeros(length(Branches))\n",
    "    ang_max = zeros(length(Branches))\n",
    "    for l=1:length(Branches)\n",
    "        YR[l] = Branches[l].r/(Branches[l].r^2+Branches[l].x^2)\n",
    "        YI[l] = -Branches[l].x/(Branches[l].r^2+Branches[l].x^2)\n",
    "        TR[l] = Branches[l].ratio*cos(Branches[l].angle)\n",
    "        TI[l] = Branches[l].ratio*sin(Branches[l].angle)\n",
    "        B[l] = Branches[l].b\n",
    "        thermal_lim[l] = Branches[l].rateA/100.0\n",
    "        ang_min[l] = Branches[l].angmin*pi/180\n",
    "        ang_max[l] = Branches[l].angmax*pi/180\n",
    "    end\n",
    "    return YR,YI,TR,TI,B,thermal_lim,ang_min,ang_max\n",
    "end"
   ]
  },
  {
   "cell_type": "markdown",
   "metadata": {},
   "source": [
    "## Unrelaxed variables"
   ]
  },
  {
   "cell_type": "markdown",
   "metadata": {},
   "source": [
    "- $p_g^i \\hspace{0.2cm} \\forall i \\in \\mathcal{B}$: Power Output (active)\n",
    "- $q_g^i \\hspace{0.2cm} \\forall i \\in \\mathcal{B}$: Power Output (reactive)\n",
    "- $S^{Re}_{i,j,l} \\hspace{0.2cm} \\forall (i,j,l) \\in \\mathcal{L}$: Power flow on line (active)\n",
    "- $S^{Im}_{i,j,l} \\hspace{0.2cm} \\forall (i,j,l) \\in \\mathcal{L}$: Power flow on line (reactive)"
   ]
  },
  {
   "cell_type": "code",
   "execution_count": 10,
   "metadata": {
    "ExecuteTime": {
     "end_time": "2021-12-27T15:59:58.166000-03:00",
     "start_time": "2021-12-27T18:59:46.664Z"
    }
   },
   "outputs": [
    {
     "data": {
      "text/plain": [
       "add_global_variables! (generic function with 1 method)"
      ]
     },
     "execution_count": 10,
     "metadata": {},
     "output_type": "execute_result"
    }
   ],
   "source": [
    "function add_global_variables!(model, Buses, Generators, Branches, thermal_lim; start=false)\n",
    "    if start\n",
    "        arr1 = ones(length(Buses))\n",
    "        arr2 = ones(length(Generators))\n",
    "        arr3 = ones(length(Branches))\n",
    "        @variable(model, Generators[i].Pmin/100.0 <= p_g[i=1:length(Generators)] <= Generators[i].Pmax/100.0, start = arr2[i])\n",
    "        @variable(model, Generators[i].Qmin/100.0 <= q_g[i=1:length(Generators)] <= Generators[i].Qmax/100.0, start = arr2[i])\n",
    "        SR = @variable(model,[(i,j,l) in [(i,j,l) for i = 1:length(Buses) for (j,l) in zip(δ(i,Branches,Buses)...)]], base_name = \"SR\",lower_bound = -thermal_lim[l], upper_bound = thermal_lim[l], start = arr3[l])\n",
    "        SI = @variable(model,[(i,j,l) in [(i,j,l) for i = 1:length(Buses) for (j,l) in zip(δ(i,Branches,Buses)...)]], base_name = \"SI\",lower_bound = -thermal_lim[l], upper_bound = thermal_lim[l], start = arr3[l])\n",
    "    else\n",
    "        @variable(model, Generators[i].Pmin/100.0 <= p_g[i=1:length(Generators)] <= Generators[i].Pmax/100.0)\n",
    "        @variable(model, Generators[i].Qmin/100.0 <= q_g[i=1:length(Generators)] <= Generators[i].Qmax/100.0)\n",
    "        SR = @variable(model,[(i,j,l) in [(i,j,l) for i = 1:length(Buses) for (j,l) in zip(δ(i,Branches,Buses)...)]], base_name = \"SR\",lower_bound = -thermal_lim[l], upper_bound = thermal_lim[l])\n",
    "        SI = @variable(model,[(i,j,l) in [(i,j,l) for i = 1:length(Buses) for (j,l) in zip(δ(i,Branches,Buses)...)]], base_name = \"SI\",lower_bound = -thermal_lim[l], upper_bound = thermal_lim[l])\n",
    "    end\n",
    "    model[:SR] = SR\n",
    "    model[:SI] = SI\n",
    "end"
   ]
  },
  {
   "cell_type": "markdown",
   "metadata": {},
   "source": [
    "## Voltage Variables"
   ]
  },
  {
   "cell_type": "markdown",
   "metadata": {},
   "source": [
    "- $V_i^{Re} \\hspace{0.2cm} \\forall i \\in \\mathcal{B}$: Bus Voltage (active)\n",
    "- $V_i^{Im} \\hspace{0.2cm} \\forall i \\in \\mathcal{B}$: Bus Voltage (reactive)"
   ]
  },
  {
   "cell_type": "code",
   "execution_count": 11,
   "metadata": {
    "ExecuteTime": {
     "end_time": "2021-12-27T15:59:58.250000-03:00",
     "start_time": "2021-12-27T18:59:46.668Z"
    }
   },
   "outputs": [
    {
     "data": {
      "text/plain": [
       "add_voltage_variables! (generic function with 1 method)"
      ]
     },
     "execution_count": 11,
     "metadata": {},
     "output_type": "execute_result"
    }
   ],
   "source": [
    "function add_voltage_variables!(model, Buses; start = false)\n",
    "    if start\n",
    "        arr1 = ones(length(Buses))\n",
    "        @variable(model, - Buses[i].Vmax <= VR[i=1:length(Buses)] <= Buses[i].Vmax , start = arr1[i])\n",
    "        @variable(model, - Buses[i].Vmax <= VI[i=1:length(Buses)] <= Buses[i].Vmax , start = arr1[i])\n",
    "    else\n",
    "        @variable(model, - Buses[i].Vmax <= VR[i=1:length(Buses)] <= Buses[i].Vmax)\n",
    "        @variable(model, - Buses[i].Vmax <= VI[i=1:length(Buses)] <= Buses[i].Vmax)\n",
    "    end\n",
    "end"
   ]
  },
  {
   "cell_type": "markdown",
   "metadata": {},
   "source": [
    "## Constraints"
   ]
  },
  {
   "cell_type": "markdown",
   "metadata": {},
   "source": [
    "### Reference angle\n",
    "- Constraint:\n",
    "    - $\\angle V_I(1) = 0$"
   ]
  },
  {
   "cell_type": "code",
   "execution_count": 12,
   "metadata": {
    "ExecuteTime": {
     "end_time": "2021-12-27T15:59:59.522000-03:00",
     "start_time": "2021-12-27T18:59:46.672Z"
    }
   },
   "outputs": [
    {
     "data": {
      "text/plain": [
       "add_reference_angle! (generic function with 1 method)"
      ]
     },
     "execution_count": 12,
     "metadata": {},
     "output_type": "execute_result"
    }
   ],
   "source": [
    "function add_reference_angle!(model, Buses)\n",
    "    VI = variable_by_name(model, \"VI[1]\")\n",
    "    @constraint(model, VI == 0)\n",
    "end"
   ]
  },
  {
   "cell_type": "markdown",
   "metadata": {},
   "source": [
    "### Power Balance\n",
    "- Real and Imaginary part of a complex number: $\\Re(\\cdot),\\Im(\\cdot)$ \n",
    "- Constant Power Demand on bus i (active)  : $P^d_i$\n",
    "- Constant Power Demand on bus i (reactive): $Q^d_i$\n",
    "- Bus Shunt Admittance: $Y^s_i$\n",
    "- Constraints:\n",
    "    - $\\sum_{i \\in G(i)} p_g^i - P^d_i + \\Re(Y^s_i) |V_i|^2 = \\sum_{(l,j) \\in \\delta(i)} S_{lij}^{Re} \\hspace{0.2cm}  \\forall i \\in \\mathcal{B}$ (active)\n",
    "    - $\\sum_{i \\in G(i)} q_g^i - Q^d_i + \\Im(Y^s_i) |V_i|^2 = \\sum_{(l,j) \\in \\delta(i)} S_{lij}^{Re} \\hspace{0.2cm}  \\forall i \\in \\mathcal{B}$ (reactive)"
   ]
  },
  {
   "cell_type": "code",
   "execution_count": 13,
   "metadata": {
    "ExecuteTime": {
     "end_time": "2021-12-27T15:59:59.777000-03:00",
     "start_time": "2021-12-27T18:59:46.676Z"
    }
   },
   "outputs": [
    {
     "data": {
      "text/plain": [
       "constraint_power_balance! (generic function with 1 method)"
      ]
     },
     "execution_count": 13,
     "metadata": {},
     "output_type": "execute_result"
    }
   ],
   "source": [
    "function constraint_power_balance!(model, Buses, Generators, Branches, sqrd_volt, i)\n",
    "    p_g = model[Symbol(\"p_g\")]\n",
    "    q_g = model[Symbol(\"q_g\")]\n",
    "    SR = model[Symbol(\"SR\")]\n",
    "    SI = model[Symbol(\"SI\")]\n",
    "    @constraint(model, sum(p_g[i] for i in G(i,Generators,Buses)) - Buses[i].Pd/100.0 + Buses[i].Gs/100.0*sqrd_volt == sum(SR[(i,j,l)] for (j,l) in zip(δ(i,Branches,Buses)...)))\n",
    "    @constraint(model, sum(q_g[i] for i in G(i,Generators,Buses)) - Buses[i].Qd/100.0 + Buses[i].Bs/100.0*sqrd_volt == sum(SI[(i,j,l)] for (j,l) in zip(δ(i,Branches,Buses)...)))\n",
    "end"
   ]
  },
  {
   "cell_type": "markdown",
   "metadata": {},
   "source": [
    "### Voltage Bounds\n",
    "- $v_i^l,v_i^u$: Lower and upper voltages limits\n",
    "- Constraints:\n",
    "    - $(v_i^l)^2 \\leq |V_i|^2 \\leq (v_i^u)^2 \\hspace{0.2cm} \\forall i \\in \\mathcal{B}$"
   ]
  },
  {
   "cell_type": "code",
   "execution_count": 14,
   "metadata": {
    "ExecuteTime": {
     "end_time": "2021-12-27T15:59:59.902000-03:00",
     "start_time": "2021-12-27T18:59:46.684Z"
    }
   },
   "outputs": [
    {
     "data": {
      "text/plain": [
       "voltage_bounds_sqrd! (generic function with 1 method)"
      ]
     },
     "execution_count": 14,
     "metadata": {},
     "output_type": "execute_result"
    }
   ],
   "source": [
    "function voltage_bounds_sqrd!(model, Buses, sqrd_volt, i)\n",
    "    @constraint(model, Buses[i].Vmin^2 <= sqrd_volt <= Buses[i].Vmax^2)\n",
    "end"
   ]
  },
  {
   "cell_type": "markdown",
   "metadata": {},
   "source": [
    "### Line Balance\n",
    "- Constraints:\n",
    "    - $S_{lij}^{Re} = Y_l^{Re} |V_i|^2 - Y_l^{Re}c_{ij} - Y_l^{Im}s_{ij} \\hspace{0.2cm} \\forall (l,i,j) \\in \\mathcal{L}$\n",
    "    - $S_{lij}^{Im} = -(Y_l^{Im}-b_l/2) |V_i|^2 + Y_l^{Im}c_{ij} - Y_l^{Re}s_{ij} \\hspace{0.2cm} \\forall (l,i,j) \\in \\mathcal{L}$\n",
    "    - $c_{ij} = V_i^{Re}V_j^{Re}+V_i^{Im}V_j^{Im}$\n",
    "\t- $s_{ij} = V_i^{Im}V_j^{Re}-V_i^{Re}V_j^{Im}$"
   ]
  },
  {
   "cell_type": "code",
   "execution_count": 15,
   "metadata": {
    "ExecuteTime": {
     "end_time": "2021-12-27T16:00:00.025000-03:00",
     "start_time": "2021-12-27T18:59:46.690Z"
    }
   },
   "outputs": [
    {
     "data": {
      "text/plain": [
       "constraint_line_balance! (generic function with 1 method)"
      ]
     },
     "execution_count": 15,
     "metadata": {},
     "output_type": "execute_result"
    }
   ],
   "source": [
    "function constraint_line_balance!(model, YR, YI, B, sqrd_volt_i, sqrd_volt_j, sum_product_voltages,  diff_product_voltages, i, j, l)\n",
    "    SR = model[Symbol(\"SR\")]\n",
    "    SI = model[Symbol(\"SI\")]\n",
    "    \n",
    "    @constraint(model, SR[(i,j,l)] == YR*sqrd_volt_i + (-YR)*sum_product_voltages + (-YI)*(diff_product_voltages))\n",
    "            \n",
    "    @constraint(model, SI[(i,j,l)] == -(YI+B/2)*sqrd_volt_i - (-YI)*sum_product_voltages + (-YR)*diff_product_voltages)\n",
    "\n",
    "    @constraint(model, SR[(j,i,l)] == YR*sqrd_volt_j + (-YR)*sum_product_voltages + (-YI)*(-(diff_product_voltages)))\n",
    "\n",
    "    @constraint(model, SI[(j,i,l)] == -(YI+B/2)*sqrd_volt_j - (-YI)*sum_product_voltages + (-YR)*(-(diff_product_voltages)))\n",
    "end"
   ]
  },
  {
   "cell_type": "markdown",
   "metadata": {},
   "source": [
    "### Line thermal limit\n",
    "\n",
    "- Constraints:\n",
    "    - $(S_{lij}^{Re})^2 + (S_{lij}^{Im})^2 \\leq (s_l^u)^2 \\hspace{0.2cm} \\forall (l,i,j) \\in \\mathcal{L}$"
   ]
  },
  {
   "cell_type": "code",
   "execution_count": 16,
   "metadata": {
    "ExecuteTime": {
     "end_time": "2021-12-27T16:00:00.126000-03:00",
     "start_time": "2021-12-27T18:59:46.693Z"
    }
   },
   "outputs": [
    {
     "data": {
      "text/plain": [
       "line_thermal_bounds_sqrd! (generic function with 1 method)"
      ]
     },
     "execution_count": 16,
     "metadata": {},
     "output_type": "execute_result"
    }
   ],
   "source": [
    "function line_thermal_bounds_sqrd!(model,thermal_lim, i, j, l)\n",
    "    SR = model[Symbol(\"SR\")]\n",
    "    SI = model[Symbol(\"SI\")]\n",
    "    \n",
    "    @constraint(model, SI[(i,j,l)]^2+SR[(i,j,l)]^2 <= thermal_lim[l]^2)\n",
    "    @constraint(model, SI[(j,i,l)]^2+SR[(j,i,l)]^2 <= thermal_lim[l]^2)\n",
    "end"
   ]
  },
  {
   "cell_type": "markdown",
   "metadata": {},
   "source": [
    "### Phase Angle Differences\n",
    "\n",
    "- Constraints:\n",
    "    - $ c_{ij} \\tan(\\theta_{min}) \\leq s_{ij} \\leq c_{ij} \\tan(\\theta_{max})$\n",
    "    - $c_{ij} = V_i^{Re}V_j^{Re}+V_i^{Im}V_j^{Im}$\n",
    "\t- $s_{ij} = V_i^{Im}V_j^{Re}-V_i^{Re}V_j^{Im}$"
   ]
  },
  {
   "cell_type": "code",
   "execution_count": 17,
   "metadata": {
    "ExecuteTime": {
     "end_time": "2021-12-27T16:00:00.241000-03:00",
     "start_time": "2021-12-27T18:59:46.696Z"
    },
    "code_folding": []
   },
   "outputs": [
    {
     "data": {
      "text/plain": [
       "constraint_phase_angle_diff! (generic function with 1 method)"
      ]
     },
     "execution_count": 17,
     "metadata": {},
     "output_type": "execute_result"
    }
   ],
   "source": [
    "function constraint_phase_angle_diff!(model, ang_max, ang_min, sum_product_voltages,  diff_product_voltages, i, j, l) \n",
    "    @constraint(model, diff_product_voltages <= tan(ang_max[l])*sum_product_voltages)\n",
    "    @constraint(model, diff_product_voltages >= tan(ang_min[l])*sum_product_voltages)\n",
    "end"
   ]
  },
  {
   "cell_type": "markdown",
   "metadata": {},
   "source": [
    "## Objective Function"
   ]
  },
  {
   "cell_type": "markdown",
   "metadata": {},
   "source": [
    "### Generator fuel cost minimization\n",
    "- $\\min \\sum_{k \\in \\mathcal{G}} c_{2k} (p_k^g)^2 + c_{1k} p_k^g + c_{0k}$"
   ]
  },
  {
   "cell_type": "code",
   "execution_count": 18,
   "metadata": {
    "ExecuteTime": {
     "end_time": "2021-12-27T16:00:00.346000-03:00",
     "start_time": "2021-12-27T18:59:46.700Z"
    }
   },
   "outputs": [
    {
     "data": {
      "text/plain": [
       "add_objective! (generic function with 1 method)"
      ]
     },
     "execution_count": 18,
     "metadata": {},
     "output_type": "execute_result"
    }
   ],
   "source": [
    "function add_objective!(model, GeneratorCosts)\n",
    "    p_g = model[Symbol(\"p_g\")]\n",
    "    q_g = model[Symbol(\"q_g\")]\n",
    "    obj = sum([GeneratorCosts[k].c2*p_g[k]^2*100.0^2+GeneratorCosts[k].c1*p_g[k]*100.0+GeneratorCosts[k].c0 for k = 1:length(GeneratorCosts)])\n",
    "    @objective(model, Min, obj)\n",
    "end"
   ]
  },
  {
   "cell_type": "markdown",
   "metadata": {},
   "source": [
    "# Convex Relaxations"
   ]
  },
  {
   "cell_type": "markdown",
   "metadata": {},
   "source": [
    "Consider the complex matrix $X \\in \\mathbb{R}^{\\mathcal{|B|}\\times \\mathcal{|B|}}$\n",
    "- $X = V(V^T)^*$\n",
    "- $X_{ij} = V_iV_j^* \\hspace{0.2cm} \\forall (i,j) \\in \\mathcal{B}^2$\n",
    "\n",
    "$X$ is positive semidefinite matrix with rank $1$."
   ]
  },
  {
   "cell_type": "markdown",
   "metadata": {},
   "source": [
    "We can substitute the complex matrix to a real matrix $W \\in \\mathbb{R}^{2\\mathcal{|B|}\\times 2 \\mathcal{|B|}}$, with the following transformations:\n",
    "\n",
    "- $W_{ij}   = V_i^{Re}V_j^{Re} \\hspace{0.2cm} \\forall (i,j) \\in \\mathcal{B}^2$\n",
    "- $W_{i'j'} = V_i^{Im}V_j^{Im} \\hspace{0.2cm} \\forall (i,j) \\in \\mathcal{B}^2$\n",
    "- $W_{i'j}  = V_i^{Im}V_j^{Re} \\hspace{0.2cm} \\forall (i,j) \\in \\mathcal{B}^2$\n",
    "- $W_{ij'}  = V_i^{Re}V_j^{Im} \\hspace{0.2cm} \\forall (i,j) \\in \\mathcal{B}^2$\n",
    "\n",
    "Where $i' = i + |\\mathcal{B}|$ and $j' = i + |\\mathcal{B}|$.\n",
    "\n",
    "$W$ is positive semidefinite matrix with rank $1$."
   ]
  },
  {
   "cell_type": "markdown",
   "metadata": {},
   "source": [
    "## McCormick Envelopes"
   ]
  },
  {
   "cell_type": "markdown",
   "metadata": {},
   "source": [
    "The McCormick envelopes are the convex hull of the set $\\{(x,y,w) \\hspace{0.1cm} | \\hspace{0.1cm} w = xy, (x,y) \\in [\\underline{x}, \\bar{x}] \\times [\\underline{y}, \\bar{y}]\\}$, which are:\n",
    "- $MC(w = xy) = \\{(x, y, w): \\max \\{\\underline{y} x+\\underline{x} y-\\underline{x} \\underline{y}, \\bar{y} x+\\bar{x} y-\\overline{x y}\\} \\leq w \\leq \\min \\{\\underline{y} x+\\bar{x} y-\\bar{x} \\underline{y}, \\bar{y} x+\\underline{x} y-\\underline{x} \\bar{y}\\}\\}$"
   ]
  },
  {
   "cell_type": "markdown",
   "metadata": {},
   "source": [
    "### Function to make McCormick envelopes"
   ]
  },
  {
   "cell_type": "code",
   "execution_count": 19,
   "metadata": {
    "ExecuteTime": {
     "end_time": "2021-12-27T16:00:00.456000-03:00",
     "start_time": "2021-12-27T18:59:46.706Z"
    }
   },
   "outputs": [
    {
     "data": {
      "text/plain": [
       "MC_Envelopes! (generic function with 1 method)"
      ]
     },
     "execution_count": 19,
     "metadata": {},
     "output_type": "execute_result"
    }
   ],
   "source": [
    "function MC_Envelopes!(model,w,x,y)\n",
    "    x_up = upper_bound(x) \n",
    "    x_down = lower_bound(x)\n",
    "    y_up = upper_bound(y) \n",
    "    y_down = lower_bound(y)\n",
    "    @constraint(model, y_down*x+x_down*y-x_down*y_down <= w)\n",
    "    @constraint(model, w <= y_down*x+x_up*y-x_up*y_down)\n",
    "    @constraint(model, y_up*x+x_up*y-x_up*y_up <= w)\n",
    "    @constraint(model, w <= y_up*x+x_down*y-x_down*y_up)\n",
    "end"
   ]
  },
  {
   "cell_type": "markdown",
   "metadata": {},
   "source": [
    "### Relaxation with McCormick Envelopes"
   ]
  },
  {
   "cell_type": "markdown",
   "metadata": {},
   "source": [
    "- $MC(W_{ij}   = V_i^{Re}V_j^{Re}) \\hspace{0.2cm} \\forall (i,j) \\in \\mathcal{B}^2$\n",
    "- $MC(W_{i'j'} = V_i^{Im}V_j^{Im}) \\hspace{0.2cm} \\forall (i,j) \\in \\mathcal{B}^2$\n",
    "- $MC(W_{i'j}  = V_i^{Im}V_j^{Re}) \\hspace{0.2cm} \\forall (i,j) \\in \\mathcal{B}^2$\n",
    "- $MC(W_{ij'}  = V_i^{Re}V_j^{Im}) \\hspace{0.2cm} \\forall (i,j) \\in \\mathcal{B}^2$"
   ]
  },
  {
   "cell_type": "code",
   "execution_count": 20,
   "metadata": {
    "ExecuteTime": {
     "end_time": "2021-12-27T16:00:00.562000-03:00",
     "start_time": "2021-12-27T18:59:46.710Z"
    }
   },
   "outputs": [
    {
     "data": {
      "text/plain": [
       "MC_relaxation! (generic function with 1 method)"
      ]
     },
     "execution_count": 20,
     "metadata": {},
     "output_type": "execute_result"
    }
   ],
   "source": [
    "function MC_relaxation!(model,Buses,Branches)\n",
    "    VR = model[Symbol(\"VR\")]\n",
    "    VI = model[Symbol(\"VI\")]\n",
    "    @variable(model, W[i=1:2*length(Buses),j=1:2*length(Buses)])\n",
    "    s = x -> x+length(Buses)\n",
    "    sqrd_volt = [W[i,i]+W[s(i),s(i)] for i=1:length(Buses)]\n",
    "    for i=1:length(Buses)\n",
    "        MC_Envelopes!(model, W[i,i], VR[i], VR[i])\n",
    "        MC_Envelopes!(model, W[s(i),s(i)], VI[i], VI[i])\n",
    "    end\n",
    "    for i=1:length(Buses)\n",
    "        for (j,l) in zip(From_nodes(i,Branches,Buses)...)    \n",
    "            MC_Envelopes!(model,W[i,j]      ,VR[i],VR[j])\n",
    "            MC_Envelopes!(model,W[s(i),s(j)],VI[i],VI[j])\n",
    "            MC_Envelopes!(model,W[s(i),j]   ,VI[i],VR[j])\n",
    "            MC_Envelopes!(model,W[j,i]      ,VR[j],VR[i])\n",
    "            MC_Envelopes!(model,W[s(j),s(i)],VI[j],VI[i])\n",
    "            MC_Envelopes!(model,W[j,s(i)]   ,VR[i],VI[j])\n",
    "        end\n",
    "    end\n",
    "end"
   ]
  },
  {
   "cell_type": "markdown",
   "metadata": {},
   "source": [
    "## Semidefinite Relaxation"
   ]
  },
  {
   "cell_type": "markdown",
   "metadata": {},
   "source": [
    "- The rank $1$ restriction of $W$ matrix is non-convex, so we remove this constraint."
   ]
  },
  {
   "cell_type": "code",
   "execution_count": 21,
   "metadata": {
    "ExecuteTime": {
     "end_time": "2021-12-27T16:00:00.680000-03:00",
     "start_time": "2021-12-27T18:59:46.713Z"
    }
   },
   "outputs": [
    {
     "data": {
      "text/plain": [
       "SDP_relaxation! (generic function with 1 method)"
      ]
     },
     "execution_count": 21,
     "metadata": {},
     "output_type": "execute_result"
    }
   ],
   "source": [
    "function SDP_relaxation!(model,Buses)\n",
    "    @variable(model, W[i=1:2*length(Buses),j=1:2*length(Buses)],PSD)\n",
    "end"
   ]
  },
  {
   "cell_type": "markdown",
   "metadata": {},
   "source": [
    "## Second Order Cone Relaxation"
   ]
  },
  {
   "cell_type": "markdown",
   "metadata": {},
   "source": [
    "The SOCP relaxation consists in relaxing the equalitry $X = V(V^*)^T$ to an inequality\n",
    "\n",
    "$\\hspace{0.5cm} \\begin{array}{l}\n",
    "\tX_{i j}=V_{i} V_{j}^{*} \\\\\n",
    "\tX_{i j} X_{i j}^{*}=V_{i} V_{j}^{*} V_{i}^{*} V_{j} \\\\\n",
    "\t\\left|X_{i j}\\right|^{2}=X_{i i} X_{j j} \\\\\n",
    "\t\\left|X_{i j}\\right|^{2} \\leqslant X_{i i} X_{j j}\n",
    "\t\\end{array}$\n",
    "\n",
    "Writing as a second order cone:\n",
    "\n",
    "$\\hspace{0.5cm} \\left|\\left(\\begin{array}{c}\n",
    "\t\t2 X_{i j} \\\\\n",
    "\t\tX_{i i}-X_{j j}\n",
    "\t\t\\end{array}\\right) \\right| \\leqslant X_{i i}+X_{j j}$\n",
    "        \n",
    "In function of $W$:\n",
    "\n",
    "$\\hspace{0.5cm} \\left|\\left(\\begin{array}{c}\n",
    "2(W_{i j}+W_{i' j'}) \\\\\n",
    "W_{i i}+W_{i' i'}-W_{j j}-W_{j' j'}\n",
    "\\end{array}\\right) \\right| \\leqslant W_{i i}+W_{i' i'}+W_{j j}+W_{j' j'}$"
   ]
  },
  {
   "cell_type": "code",
   "execution_count": 22,
   "metadata": {
    "ExecuteTime": {
     "end_time": "2021-12-27T16:00:00.789000-03:00",
     "start_time": "2021-12-27T18:59:46.717Z"
    }
   },
   "outputs": [
    {
     "data": {
      "text/plain": [
       "SOCP_relaxation! (generic function with 1 method)"
      ]
     },
     "execution_count": 22,
     "metadata": {},
     "output_type": "execute_result"
    }
   ],
   "source": [
    "function SOCP_relaxation!(model,Buses,Branches)\n",
    "    @variable(model, W[i=1:2*length(Buses),j=1:2*length(Buses)])\n",
    "    s = x -> x+length(Buses)\n",
    "    for i=1:length(Buses)\n",
    "        for (j,l) in zip(From_nodes(i,Branches,Buses)...)\n",
    "            @constraint(model, [W[i,i]+W[s(i),s(i)]+W[j,j]+W[s(j),s(j)], 2*(W[i,j]+W[s(i),s(j)]), W[i,i]+W[s(i),s(i)]-W[j,j]-W[s(j),s(j)]] in SecondOrderCone())\n",
    "        end\n",
    "    end\n",
    "end"
   ]
  },
  {
   "cell_type": "markdown",
   "metadata": {},
   "source": [
    "# Model"
   ]
  },
  {
   "cell_type": "code",
   "execution_count": 23,
   "metadata": {
    "ExecuteTime": {
     "end_time": "2021-12-27T16:00:00.881000-03:00",
     "start_time": "2021-12-27T18:59:46.720Z"
    },
    "code_folding": []
   },
   "outputs": [
    {
     "data": {
      "text/plain": [
       "build_problem (generic function with 1 method)"
      ]
     },
     "execution_count": 23,
     "metadata": {},
     "output_type": "execute_result"
    }
   ],
   "source": [
    "function build_problem(file::String, optimizer, relaxation::RELAXATION)\n",
    "    Buses, Generators, GeneratorCosts, Branches = read_matlab_file(file);\n",
    "    YR,YI,TR,TI,B,thermal_lim,ang_min,ang_max = add_constants(Branches)\n",
    "    model = Model(optimizer)\n",
    "    if relaxation == NL\n",
    "        add_global_variables!(model, Buses, Generators, Branches, thermal_lim, start = true)\n",
    "    else\n",
    "        add_global_variables!(model, Buses, Generators, Branches, thermal_lim)\n",
    "    end\n",
    "    add_objective!(model, GeneratorCosts)\n",
    "    \n",
    "    if relaxation == NL \n",
    "        add_voltage_variables!(model, Buses, start = true)\n",
    "    elseif relaxation == MC\n",
    "        add_voltage_variables!(model, Buses)\n",
    "    end\n",
    "    if relaxation == NL || relaxation == MC\n",
    "        add_reference_angle!(model, Buses)\n",
    "        VR = model[Symbol(\"VR\")]\n",
    "        VI = model[Symbol(\"VI\")]\n",
    "    end\n",
    "    \n",
    "    if relaxation == NL\n",
    "        sqrd_volt = VR.^2 .+ VI.^2\n",
    "    end\n",
    "    \n",
    "        \n",
    "    if relaxation == MC\n",
    "        MC_relaxation!(model,Buses,Branches)\n",
    "    end\n",
    "    if relaxation == SDP\n",
    "        SDP_relaxation!(model,Buses)\n",
    "    end\n",
    "    if relaxation == SOCP\n",
    "        SOCP_relaxation!(model,Buses,Branches)\n",
    "    end\n",
    "    \n",
    "    if relaxation == MC || relaxation == SDP || relaxation == SOCP\n",
    "        W = model[Symbol(\"W\")]\n",
    "        s = x -> x+length(Buses)\n",
    "        sqrd_volt = [W[i,i]+W[s(i),s(i)] for i=1:length(Buses)]\n",
    "    end\n",
    "    \n",
    "    for i=1:length(Buses)\n",
    "        constraint_power_balance!(model, Buses, Generators, Branches, sqrd_volt[i], i)\n",
    "        voltage_bounds_sqrd!(model, Buses, sqrd_volt[i], i)\n",
    "    end\n",
    "    \n",
    "    for i=1:length(Buses)\n",
    "        for (j,l) in zip(From_nodes(i,Branches,Buses)...)\n",
    "            if relaxation == NL\n",
    "                sum_product_voltages  = VR[i]*VR[j]+VI[i]*VI[j]\n",
    "                diff_product_voltages = VI[i]*VR[j]-VR[i]*VI[j]\n",
    "            elseif relaxation == MC || relaxation == SDP || relaxation == SOCP\n",
    "                sum_product_voltages  = W[i,j]+W[s(i),s(j)]\n",
    "                diff_product_voltages = W[s(j),i]-W[s(i),j]\n",
    "            end\n",
    "            constraint_line_balance!(model, YR[l], YI[l], B[l], sqrd_volt[i], sqrd_volt[j], sum_product_voltages,  diff_product_voltages, i, j, l)\n",
    "            constraint_phase_angle_diff!(model, ang_max, ang_min, sum_product_voltages, diff_product_voltages, i, j, l)\n",
    "            line_thermal_bounds_sqrd!(model,thermal_lim, i, j, l)\n",
    "        end\n",
    "    end\n",
    "    return model\n",
    "end"
   ]
  },
  {
   "cell_type": "markdown",
   "metadata": {},
   "source": [
    "# Tests"
   ]
  },
  {
   "cell_type": "markdown",
   "metadata": {},
   "source": [
    "## 5 buses"
   ]
  },
  {
   "cell_type": "markdown",
   "metadata": {},
   "source": [
    "$|\\mathcal{B}| = 5 $\n",
    "\n",
    "$|\\mathcal{L}| = 6 $\n",
    "\n",
    "$|\\mathcal{G}| = 5 $"
   ]
  },
  {
   "cell_type": "code",
   "execution_count": 24,
   "metadata": {
    "ExecuteTime": {
     "end_time": "2021-12-27T16:00:01.363000-03:00",
     "start_time": "2021-12-27T18:59:46.725Z"
    }
   },
   "outputs": [
    {
     "data": {
      "text/plain": [
       "(\"pglib_opf_case5_pjm\", [17552.0, 76377.0, 26109.0])"
      ]
     },
     "execution_count": 24,
     "metadata": {},
     "output_type": "execute_result"
    }
   ],
   "source": [
    "case_test = case_tests[2]"
   ]
  },
  {
   "cell_type": "code",
   "execution_count": 25,
   "metadata": {
    "ExecuteTime": {
     "end_time": "2021-12-27T16:00:01.368000-03:00",
     "start_time": "2021-12-27T18:59:46.728Z"
    }
   },
   "outputs": [
    {
     "data": {
      "text/plain": [
       "\"..\\\\data\\\\pglib-opf\\\\pglib_opf_case5_pjm.m\""
      ]
     },
     "execution_count": 25,
     "metadata": {},
     "output_type": "execute_result"
    }
   ],
   "source": [
    "optimal_value = case_test[2][1]\n",
    "filepath = joinpath(full_data,case_test[1]*\".m\")"
   ]
  },
  {
   "cell_type": "markdown",
   "metadata": {},
   "source": [
    "### Non linear - IPOPT"
   ]
  },
  {
   "cell_type": "code",
   "execution_count": 26,
   "metadata": {
    "ExecuteTime": {
     "end_time": "2021-12-27T16:00:10.819000-03:00",
     "start_time": "2021-12-27T18:59:46.731Z"
    }
   },
   "outputs": [],
   "source": [
    "model_nl = build_problem(filepath,ipopt,NL);"
   ]
  },
  {
   "cell_type": "code",
   "execution_count": 27,
   "metadata": {
    "ExecuteTime": {
     "end_time": "2021-12-27T16:00:14.482000-03:00",
     "start_time": "2021-12-27T18:59:46.733Z"
    },
    "scrolled": true
   },
   "outputs": [
    {
     "name": "stdout",
     "output_type": "stream",
     "text": [
      "\n",
      "******************************************************************************\n",
      "This program contains Ipopt, a library for large-scale nonlinear optimization.\n",
      " Ipopt is released as open source code under the Eclipse Public License (EPL).\n",
      "         For more information visit https://github.com/coin-or/Ipopt\n",
      "******************************************************************************\n",
      "\n",
      "This is Ipopt version 3.14.4, running with linear solver MUMPS 5.4.1.\n",
      "\n",
      "Number of nonzeros in equality constraint Jacobian...:      299\n",
      "Number of nonzeros in inequality constraint Jacobian.:      140\n",
      "Number of nonzeros in Lagrangian Hessian.............:      236\n",
      "\n",
      "Total number of variables............................:       44\n",
      "                     variables with only lower bounds:        0\n",
      "                variables with lower and upper bounds:       44\n",
      "                     variables with only upper bounds:        0\n",
      "Total number of equality constraints.................:       35\n",
      "Total number of inequality constraints...............:       34\n",
      "        inequality constraints with only lower bounds:       11\n",
      "   inequality constraints with lower and upper bounds:        0\n",
      "        inequality constraints with only upper bounds:       23\n",
      "\n",
      "iter    objective    inf_pr   inf_du lg(mu)  ||d||  lg(rg) alpha_du alpha_pr  ls\n",
      "   0  1.0054400e+04 6.00e+00 1.81e+01  -1.0 0.00e+00    -  0.00e+00 0.00e+00   0\n",
      "   1  7.9820554e+03 5.53e+00 1.69e+01  -1.0 2.21e+01    -  7.26e-02 7.77e-02f  1\n",
      "   2  7.8760456e+03 5.32e+00 1.01e+01  -1.0 1.19e+01    -  1.51e-01 3.95e-02f  1\n",
      "   3  7.5792918e+03 4.17e+00 1.40e+01  -1.0 1.22e+01    -  9.53e-02 2.16e-01f  1\n",
      "   4  8.1161402e+03 3.69e+00 1.15e+01  -1.0 8.75e+00    -  2.95e-01 1.15e-01h  1\n",
      "   5  9.1645840e+03 3.09e+00 1.04e+01  -1.0 7.58e+00    -  1.74e-01 1.63e-01h  1\n",
      "   6  1.7623056e+04 5.57e-01 9.60e+01  -1.0 4.29e+00    -  6.73e-01 1.00e+00h  1\n",
      "   7  1.7572959e+04 4.04e-02 2.47e+01  -1.0 4.01e+00    -  2.90e-01 1.00e+00h  1\n",
      "   8  1.7587960e+04 1.16e-02 5.49e-01  -1.0 1.36e+00    -  1.00e+00 1.00e+00h  1\n",
      "   9  1.7562897e+04 3.59e-03 8.72e-02  -1.7 7.18e-01    -  1.00e+00 1.00e+00h  1\n",
      "iter    objective    inf_pr   inf_du lg(mu)  ||d||  lg(rg) alpha_du alpha_pr  ls\n",
      "  10  1.7552770e+04 3.78e-03 4.48e-01  -2.5 1.73e-01    -  9.98e-01 1.00e+00h  1\n",
      "  11  1.7552566e+04 7.21e-04 6.26e+00  -2.5 2.41e-02    -  1.00e+00 8.18e-01h  1\n",
      "  12  1.7552979e+04 6.80e-06 5.71e-03  -2.5 3.33e-03    -  1.00e+00 1.00e+00f  1\n",
      "  13  1.7552098e+04 7.83e-06 3.05e+00  -3.8 2.36e-02    -  1.00e+00 7.80e-01f  1\n",
      "  14  1.7551936e+04 4.04e-07 1.21e-02  -3.8 9.52e-03    -  1.00e+00 1.00e+00f  1\n",
      "  15  1.7551940e+04 2.45e-09 9.97e-04  -3.8 1.15e-03    -  1.00e+00 1.00e+00h  1\n",
      "  16  1.7551892e+04 1.72e-07 2.22e-01  -5.7 2.47e-03    -  1.00e+00 9.67e-01f  1\n",
      "  17  1.7551891e+04 9.60e-11 3.21e-05  -5.7 2.43e-04    -  1.00e+00 1.00e+00f  1\n",
      "  18  1.7551891e+04 2.16e-14 7.04e-10  -5.7 5.41e-07    -  1.00e+00 1.00e+00h  1\n",
      "  19  1.7551891e+04 5.97e-12 3.02e-07  -8.6 3.51e-05    -  1.00e+00 1.00e+00f  1\n",
      "iter    objective    inf_pr   inf_du lg(mu)  ||d||  lg(rg) alpha_du alpha_pr  ls\n",
      "  20  1.7551891e+04 4.70e-14 2.63e-12  -8.6 3.33e-08    -  1.00e+00 1.00e+00h  1\n",
      "\n",
      "Number of Iterations....: 20\n",
      "\n",
      "                                   (scaled)                 (unscaled)\n",
      "Objective...............:   4.3879727098644327e+02    1.7551890839457730e+04\n",
      "Dual infeasibility......:   2.6255146107767776e-12    1.0502058443107111e-10\n",
      "Constraint violation....:   2.4527255226836076e-14    4.6997128411163658e-14\n",
      "Variable bound violation:   2.9463905537596702e-08    2.9463905537596702e-08\n",
      "Complementarity.........:   2.5059076157892324e-09    1.0023630463156929e-07\n",
      "Overall NLP error.......:   2.5059076157892324e-09    1.0023630463156929e-07\n",
      "\n",
      "\n",
      "Number of objective function evaluations             = 21\n",
      "Number of objective gradient evaluations             = 21\n",
      "Number of equality constraint evaluations            = 21\n",
      "Number of inequality constraint evaluations          = 21\n",
      "Number of equality constraint Jacobian evaluations   = 21\n",
      "Number of inequality constraint Jacobian evaluations = 21\n",
      "Number of Lagrangian Hessian evaluations             = 20\n",
      "Total seconds in IPOPT                               = 0.312\n",
      "\n",
      "EXIT: Optimal Solution Found.\n"
     ]
    }
   ],
   "source": [
    "optimize!(model_nl)"
   ]
  },
  {
   "cell_type": "code",
   "execution_count": 28,
   "metadata": {
    "ExecuteTime": {
     "end_time": "2021-12-27T16:00:14.801000-03:00",
     "start_time": "2021-12-27T18:59:46.736Z"
    }
   },
   "outputs": [
    {
     "data": {
      "text/plain": [
       "0.0006219265170340669"
      ]
     },
     "execution_count": 28,
     "metadata": {},
     "output_type": "execute_result"
    }
   ],
   "source": [
    "optimality_gap(model_nl,optimal_value)"
   ]
  },
  {
   "cell_type": "markdown",
   "metadata": {},
   "source": [
    "### McCormick Relaxation - MOSEK"
   ]
  },
  {
   "cell_type": "code",
   "execution_count": 29,
   "metadata": {
    "ExecuteTime": {
     "end_time": "2021-12-27T16:00:19.359000-03:00",
     "start_time": "2021-12-27T18:59:46.739Z"
    }
   },
   "outputs": [],
   "source": [
    "model_mc = build_problem(filepath,mosek,MC);"
   ]
  },
  {
   "cell_type": "code",
   "execution_count": 30,
   "metadata": {
    "ExecuteTime": {
     "end_time": "2021-12-27T16:00:21.829000-03:00",
     "start_time": "2021-12-27T18:59:46.742Z"
    },
    "scrolled": true
   },
   "outputs": [
    {
     "name": "stdout",
     "output_type": "stream",
     "text": [
      "Problem\n",
      "  Name                   :                 \n",
      "  Objective sense        : min             \n",
      "  Type                   : CONIC (conic optimization problem)\n",
      "  Constraints            : 286             \n",
      "  Cones                  : 13              \n",
      "  Scalar variables       : 195             \n",
      "  Matrix variables       : 0               \n",
      "  Integer variables      : 0               \n",
      "\n",
      "Optimizer started.\n",
      "Presolve started.\n",
      "Linear dependency checker started.\n",
      "Linear dependency checker terminated.\n",
      "Eliminator started.\n",
      "Freed constraints in eliminator : 14\n",
      "Eliminator terminated.\n",
      "Eliminator - tries                  : 1                 time                   : 0.00            \n",
      "Lin. dep.  - tries                  : 1                 time                   : 0.02            \n",
      "Lin. dep.  - number                 : 0               \n",
      "Presolve terminated. Time: 0.03    \n",
      "Problem\n",
      "  Name                   :                 \n",
      "  Objective sense        : min             \n",
      "  Type                   : CONIC (conic optimization problem)\n",
      "  Constraints            : 286             \n",
      "  Cones                  : 13              \n",
      "  Scalar variables       : 195             \n",
      "  Matrix variables       : 0               \n",
      "  Integer variables      : 0               \n",
      "\n",
      "Optimizer  - threads                : 6               \n",
      "Optimizer  - solved problem         : the dual        \n",
      "Optimizer  - Constraints            : 79\n",
      "Optimizer  - Cones                  : 13\n",
      "Optimizer  - Scalar variables       : 344               conic                  : 67              \n",
      "Optimizer  - Semi-definite variables: 0                 scalarized             : 0               \n",
      "Factor     - setup time             : 0.00              dense det. time        : 0.00            \n",
      "Factor     - ML order time          : 0.00              GP order time          : 0.00            \n",
      "Factor     - nonzeros before factor : 1121              after factor           : 1188            \n",
      "Factor     - dense dim.             : 0                 flops                  : 3.72e+04        \n",
      "ITE PFEAS    DFEAS    GFEAS    PRSTATUS   POBJ              DOBJ              MU       TIME  \n",
      "0   2.5e+03  2.0e+03  1.4e+02  0.00e+00   0.000000000e+00   -1.419168967e+02  1.0e+00  0.03  \n",
      "1   8.4e+02  6.8e+02  8.3e+01  -9.98e-01  -1.959863187e+03  -2.099389514e+03  3.4e-01  0.03  \n",
      "2   3.4e+02  2.8e+02  5.2e+01  -9.84e-01  -2.905107680e+03  -3.038144989e+03  1.4e-01  0.03  \n",
      "3   1.6e+02  1.3e+02  3.4e+01  -9.25e-01  -4.024153555e+03  -4.142573990e+03  6.4e-02  0.03  \n",
      "4   1.3e+02  1.1e+02  3.0e+01  -7.53e-01  -2.543834717e+03  -2.657171534e+03  5.4e-02  0.03  \n",
      "5   7.0e+01  5.6e+01  1.8e+01  -6.82e-01  -7.520161995e+02  -8.403341279e+02  2.8e-02  0.03  \n",
      "6   2.9e+01  2.4e+01  7.4e+00  -3.21e-01  2.560066677e+03   2.509521892e+03   1.2e-02  0.03  \n",
      "7   1.8e+01  1.4e+01  3.9e+00  2.41e-01   4.557011264e+03   4.522010897e+03   7.2e-03  0.03  \n",
      "8   1.2e+01  9.8e+00  2.3e+00  4.78e-01   5.883454619e+03   5.857741498e+03   4.9e-03  0.03  \n",
      "9   8.7e+00  7.0e+00  1.5e+00  5.86e-01   6.876366537e+03   6.857076549e+03   3.5e-03  0.03  \n",
      "10  4.9e+00  4.0e+00  6.7e-01  6.81e-01   8.044164512e+03   8.032528176e+03   2.0e-03  0.03  \n",
      "11  4.0e+00  3.3e+00  6.6e-01  3.31e-01   7.839153205e+03   7.827938248e+03   1.6e-03  0.03  \n",
      "12  3.0e+00  2.4e+00  3.9e-01  5.59e-01   8.845584487e+03   8.836974491e+03   1.2e-03  0.03  \n",
      "13  9.9e-01  8.0e-01  8.5e-02  6.07e-01   1.011689193e+04   1.011386900e+04   4.0e-04  0.03  \n",
      "14  1.5e-01  1.2e-01  5.3e-03  9.27e-01   1.076461153e+04   1.076414728e+04   6.1e-05  0.03  \n",
      "15  6.9e-02  5.6e-02  1.8e-03  9.49e-01   1.082223040e+04   1.082203608e+04   2.8e-05  0.03  \n",
      "16  1.5e-02  1.2e-02  2.0e-04  9.87e-01   1.086811529e+04   1.086807935e+04   6.2e-06  0.03  \n",
      "17  3.4e-03  2.7e-03  2.1e-05  9.95e-01   1.087966071e+04   1.087965329e+04   1.4e-06  0.03  \n",
      "18  7.5e-04  6.1e-04  2.3e-06  9.99e-01   1.088221606e+04   1.088221458e+04   3.0e-07  0.03  \n",
      "19  5.2e-05  4.2e-05  4.1e-08  1.00e+00   1.088293636e+04   1.088293626e+04   2.1e-08  0.03  \n",
      "20  1.8e-05  1.5e-05  8.8e-09  1.00e+00   1.088297087e+04   1.088297083e+04   7.5e-09  0.03  \n",
      "21  5.0e-06  4.0e-06  1.2e-09  1.00e+00   1.088298499e+04   1.088298498e+04   2.0e-09  0.03  \n",
      "22  2.3e-07  1.9e-07  1.3e-11  1.00e+00   1.088298996e+04   1.088298996e+04   9.5e-11  0.03  \n",
      "Optimizer terminated. Time: 0.03    \n",
      "\n"
     ]
    }
   ],
   "source": [
    "optimize!(model_mc)"
   ]
  },
  {
   "cell_type": "code",
   "execution_count": 31,
   "metadata": {
    "ExecuteTime": {
     "end_time": "2021-12-27T16:00:22.060000-03:00",
     "start_time": "2021-12-27T18:59:46.745Z"
    }
   },
   "outputs": [
    {
     "data": {
      "text/plain": [
       "37.995725918432086"
      ]
     },
     "execution_count": 31,
     "metadata": {},
     "output_type": "execute_result"
    }
   ],
   "source": [
    "optimality_gap_mosek(model_mc,optimal_value,filepath)"
   ]
  },
  {
   "cell_type": "markdown",
   "metadata": {},
   "source": [
    "### Semidefinite Relaxation - MOSEK"
   ]
  },
  {
   "cell_type": "code",
   "execution_count": 32,
   "metadata": {
    "ExecuteTime": {
     "end_time": "2021-12-27T16:00:22.489000-03:00",
     "start_time": "2021-12-27T18:59:46.748Z"
    }
   },
   "outputs": [],
   "source": [
    "model_sdp = build_problem(filepath,mosek,SDP);"
   ]
  },
  {
   "cell_type": "code",
   "execution_count": 33,
   "metadata": {
    "ExecuteTime": {
     "end_time": "2021-12-27T16:00:23.642000-03:00",
     "start_time": "2021-12-27T18:59:46.750Z"
    },
    "scrolled": true
   },
   "outputs": [
    {
     "name": "stdout",
     "output_type": "stream",
     "text": [
      "Problem\n",
      "  Name                   :                 \n",
      "  Objective sense        : min             \n",
      "  Type                   : CONIC (conic optimization problem)\n",
      "  Constraints            : 101             \n",
      "  Cones                  : 13              \n",
      "  Scalar variables       : 85              \n",
      "  Matrix variables       : 1               \n",
      "  Integer variables      : 0               \n",
      "\n",
      "Optimizer started.\n",
      "Presolve started.\n",
      "Linear dependency checker started.\n",
      "Linear dependency checker terminated.\n",
      "Eliminator started.\n",
      "Freed constraints in eliminator : 0\n",
      "Eliminator terminated.\n",
      "Eliminator - tries                  : 1                 time                   : 0.00            \n",
      "Lin. dep.  - tries                  : 1                 time                   : 0.00            \n",
      "Lin. dep.  - number                 : 0               \n",
      "Presolve terminated. Time: 0.00    \n",
      "Problem\n",
      "  Name                   :                 \n",
      "  Objective sense        : min             \n",
      "  Type                   : CONIC (conic optimization problem)\n",
      "  Constraints            : 101             \n",
      "  Cones                  : 13              \n",
      "  Scalar variables       : 85              \n",
      "  Matrix variables       : 1               \n",
      "  Integer variables      : 0               \n",
      "\n",
      "Optimizer  - threads                : 6               \n",
      "Optimizer  - solved problem         : the primal      \n",
      "Optimizer  - Constraints            : 51\n",
      "Optimizer  - Cones                  : 12\n",
      "Optimizer  - Scalar variables       : 74                conic                  : 48              \n",
      "Optimizer  - Semi-definite variables: 1                 scalarized             : 55              \n",
      "Factor     - setup time             : 0.00              dense det. time        : 0.00            \n",
      "Factor     - ML order time          : 0.00              GP order time          : 0.00            \n",
      "Factor     - nonzeros before factor : 924               after factor           : 924             \n",
      "Factor     - dense dim.             : 0                 flops                  : 5.02e+04        \n",
      "ITE PFEAS    DFEAS    GFEAS    PRSTATUS   POBJ              DOBJ              MU       TIME  \n",
      "0   1.3e+01  4.0e+03  1.4e+02  0.00e+00   2.500000000e+04   2.485808310e+04   1.0e+00  0.00  \n",
      "1   3.4e+00  1.1e+03  7.4e+01  -9.99e-01  2.388496036e+04   2.374606451e+04   2.7e-01  0.02  \n",
      "2   1.3e+00  4.2e+02  4.6e+01  -9.84e-01  2.194822633e+04   2.181778311e+04   1.1e-01  0.02  \n",
      "3   7.2e-01  2.3e+02  3.1e+01  -8.70e-01  2.112148925e+04   2.100801112e+04   5.7e-02  0.02  \n",
      "4   2.4e-01  7.7e+01  1.3e+01  -6.88e-01  1.753272659e+04   1.746334296e+04   1.9e-02  0.02  \n",
      "5   1.0e-01  3.3e+01  5.2e+00  -1.15e-01  1.445500564e+04   1.441688177e+04   8.3e-03  0.02  \n",
      "6   7.0e-02  2.2e+01  3.2e+00  3.00e-01   1.354517852e+04   1.351642414e+04   5.6e-03  0.02  \n",
      "7   2.9e-02  9.3e+00  1.2e+00  3.35e-01   1.232496976e+04   1.231146012e+04   2.3e-03  0.02  \n",
      "8   6.5e-03  2.1e+00  1.3e-01  6.95e-01   1.122989674e+04   1.122663619e+04   5.2e-04  0.02  \n",
      "9   3.9e-03  1.3e+00  7.2e-02  7.33e-01   1.113208334e+04   1.113014797e+04   3.1e-04  0.02  \n",
      "10  2.1e-03  6.8e-01  4.3e-02  4.50e-01   1.110674937e+04   1.110614246e+04   1.7e-04  0.02  \n",
      "11  8.2e-04  2.6e-01  2.7e-02  -3.57e-01  1.124727837e+04   1.125154624e+04   6.6e-05  0.02  \n",
      "12  5.7e-04  1.8e-01  2.1e-02  -6.11e-01  1.132636572e+04   1.133307267e+04   4.5e-05  0.02  \n",
      "13  4.5e-04  1.4e-01  1.4e-02  -3.11e-01  1.148792526e+04   1.149279613e+04   3.6e-05  0.02  \n",
      "14  2.0e-04  6.4e-02  7.4e-03  -3.26e-01  1.180337827e+04   1.181140461e+04   1.6e-05  0.02  \n",
      "15  1.1e-04  3.6e-02  5.3e-03  -5.04e-01  1.213549205e+04   1.215027606e+04   9.0e-06  0.02  \n",
      "16  5.1e-05  1.6e-02  2.6e-03  -4.49e-01  1.309142907e+04   1.310992486e+04   4.1e-06  0.02  \n",
      "17  3.4e-05  1.1e-02  1.7e-03  -2.17e-02  1.381255137e+04   1.382973425e+04   2.7e-06  0.02  \n",
      "18  1.7e-05  5.3e-03  5.9e-04  3.28e-01   1.494796799e+04   1.495725839e+04   1.3e-06  0.02  \n",
      "19  7.5e-06  2.4e-03  2.2e-04  5.96e-01   1.565324705e+04   1.565924790e+04   6.0e-07  0.02  \n",
      "20  3.2e-06  1.0e-03  7.3e-05  7.95e-01   1.606738619e+04   1.607113289e+04   2.6e-07  0.02  \n",
      "21  1.3e-06  4.0e-04  2.2e-05  6.85e-01   1.634260018e+04   1.634481428e+04   1.0e-07  0.02  \n",
      "22  6.9e-07  2.2e-04  1.0e-05  6.81e-01   1.645206212e+04   1.645360590e+04   5.5e-08  0.03  \n",
      "23  2.5e-07  8.0e-05  2.3e-06  8.73e-01   1.656216061e+04   1.656279916e+04   2.0e-08  0.03  \n",
      "24  3.6e-08  1.1e-05  1.4e-07  8.65e-01   1.662401042e+04   1.662413280e+04   2.8e-09  0.03  \n",
      "25  8.9e-10  2.8e-07  5.8e-10  9.94e-01   1.663547197e+04   1.663547522e+04   7.1e-11  0.03  \n",
      "26  3.5e-11  1.1e-08  4.5e-12  9.99e-01   1.663576922e+04   1.663576935e+04   2.8e-12  0.03  \n",
      "27  7.1e-13  1.1e-07  1.3e-14  1.00e+00   1.663578124e+04   1.663578125e+04   5.7e-14  0.03  \n",
      "Optimizer terminated. Time: 0.03    \n",
      "\n"
     ]
    }
   ],
   "source": [
    "optimize!(model_sdp)"
   ]
  },
  {
   "cell_type": "code",
   "execution_count": 34,
   "metadata": {
    "ExecuteTime": {
     "end_time": "2021-12-27T16:00:23.649000-03:00",
     "start_time": "2021-12-27T18:59:46.753Z"
    }
   },
   "outputs": [
    {
     "data": {
      "text/plain": [
       "5.220024825996098"
      ]
     },
     "execution_count": 34,
     "metadata": {},
     "output_type": "execute_result"
    }
   ],
   "source": [
    "optimality_gap_mosek(model_sdp,optimal_value,filepath)"
   ]
  },
  {
   "cell_type": "markdown",
   "metadata": {},
   "source": [
    "### Second Order Cone Relaxation - MOSEK"
   ]
  },
  {
   "cell_type": "code",
   "execution_count": 35,
   "metadata": {
    "ExecuteTime": {
     "end_time": "2021-12-27T16:00:24.066000-03:00",
     "start_time": "2021-12-27T18:59:46.757Z"
    }
   },
   "outputs": [],
   "source": [
    "model_socp = build_problem(filepath,mosek,SOCP);"
   ]
  },
  {
   "cell_type": "code",
   "execution_count": 36,
   "metadata": {
    "ExecuteTime": {
     "end_time": "2021-12-27T16:00:24.937000-03:00",
     "start_time": "2021-12-27T18:59:46.761Z"
    },
    "scrolled": true
   },
   "outputs": [
    {
     "name": "stdout",
     "output_type": "stream",
     "text": [
      "Problem\n",
      "  Name                   :                 \n",
      "  Objective sense        : min             \n",
      "  Type                   : CONIC (conic optimization problem)\n",
      "  Constraints            : 119             \n",
      "  Cones                  : 19              \n",
      "  Scalar variables       : 203             \n",
      "  Matrix variables       : 0               \n",
      "  Integer variables      : 0               \n",
      "\n",
      "Optimizer started.\n",
      "Presolve started.\n",
      "Linear dependency checker started.\n",
      "Linear dependency checker terminated.\n",
      "Eliminator started.\n",
      "Freed constraints in eliminator : 17\n",
      "Eliminator terminated.\n",
      "Eliminator started.\n",
      "Freed constraints in eliminator : 0\n",
      "Eliminator terminated.\n",
      "Eliminator - tries                  : 2                 time                   : 0.00            \n",
      "Lin. dep.  - tries                  : 1                 time                   : 0.00            \n",
      "Lin. dep.  - number                 : 0               \n",
      "Presolve terminated. Time: 0.03    \n",
      "Problem\n",
      "  Name                   :                 \n",
      "  Objective sense        : min             \n",
      "  Type                   : CONIC (conic optimization problem)\n",
      "  Constraints            : 119             \n",
      "  Cones                  : 19              \n",
      "  Scalar variables       : 203             \n",
      "  Matrix variables       : 0               \n",
      "  Integer variables      : 0               \n",
      "\n",
      "Optimizer  - threads                : 6               \n",
      "Optimizer  - solved problem         : the primal      \n",
      "Optimizer  - Constraints            : 52\n",
      "Optimizer  - Cones                  : 18\n",
      "Optimizer  - Scalar variables       : 92                conic                  : 66              \n",
      "Optimizer  - Semi-definite variables: 0                 scalarized             : 0               \n",
      "Factor     - setup time             : 0.00              dense det. time        : 0.00            \n",
      "Factor     - ML order time          : 0.00              GP order time          : 0.00            \n",
      "Factor     - nonzeros before factor : 375               after factor           : 487             \n",
      "Factor     - dense dim.             : 0                 flops                  : 7.13e+03        \n",
      "ITE PFEAS    DFEAS    GFEAS    PRSTATUS   POBJ              DOBJ              MU       TIME  \n",
      "0   1.3e+01  4.0e+03  1.4e+02  0.00e+00   2.500000000e+04   2.485808310e+04   1.0e+00  0.03  \n",
      "1   3.3e+00  1.1e+03  7.3e+01  -9.99e-01  2.385566715e+04   2.371685713e+04   2.6e-01  0.05  \n",
      "2   1.3e+00  4.2e+02  4.5e+01  -9.84e-01  2.194116458e+04   2.181087004e+04   1.0e-01  0.05  \n",
      "3   7.0e-01  2.2e+02  3.0e+01  -8.70e-01  2.109957639e+04   2.098679628e+04   5.6e-02  0.05  \n",
      "4   2.3e-01  7.3e+01  1.3e+01  -6.84e-01  1.746993381e+04   1.740225292e+04   1.8e-02  0.05  \n",
      "5   1.0e-01  3.2e+01  5.0e+00  -1.07e-01  1.441784171e+04   1.438066106e+04   8.0e-03  0.05  \n",
      "6   6.8e-02  2.2e+01  3.1e+00  3.13e-01   1.351442586e+04   1.348641719e+04   5.4e-03  0.05  \n",
      "7   3.0e-02  9.5e+00  1.2e+00  3.44e-01   1.239660205e+04   1.238268461e+04   2.4e-03  0.05  \n",
      "8   1.2e-02  3.9e+00  3.5e-01  6.74e-01   1.157527440e+04   1.156925231e+04   9.8e-04  0.05  \n",
      "9   9.2e-03  2.9e+00  2.6e-01  6.07e-01   1.148815136e+04   1.148363846e+04   7.3e-04  0.05  \n",
      "10  5.2e-03  1.6e+00  1.9e-01  1.94e-01   1.162291601e+04   1.162214803e+04   4.1e-04  0.05  \n",
      "11  3.3e-03  1.0e+00  1.3e-01  -3.48e-01  1.176256405e+04   1.176536003e+04   2.6e-04  0.05  \n",
      "12  2.0e-03  6.3e-01  7.0e-02  1.19e-01   1.193835637e+04   1.194125872e+04   1.6e-04  0.05  \n",
      "13  1.6e-03  5.2e-01  6.6e-02  -2.67e-01  1.196615951e+04   1.197153670e+04   1.3e-04  0.05  \n",
      "14  7.3e-04  2.3e-01  3.1e-02  -2.62e-01  1.252071330e+04   1.252923082e+04   5.8e-05  0.05  \n",
      "15  4.2e-04  1.3e-01  1.3e-02  5.02e-01   1.293896963e+04   1.294375946e+04   3.3e-05  0.05  \n",
      "16  4.0e-04  1.3e-01  1.4e-02  4.02e-02   1.298084190e+04   1.298765935e+04   3.2e-05  0.05  \n",
      "17  2.9e-04  9.1e-02  1.1e-02  5.57e-02   1.329002486e+04   1.329793047e+04   2.3e-05  0.05  \n",
      "18  1.3e-04  4.2e-02  3.9e-03  3.23e-01   1.398826993e+04   1.399332736e+04   1.1e-05  0.05  \n",
      "19  2.3e-05  7.4e-03  3.2e-04  7.35e-01   1.464233738e+04   1.464346062e+04   1.9e-06  0.05  \n",
      "20  4.8e-06  1.5e-03  3.1e-05  9.69e-01   1.477677625e+04   1.477702603e+04   3.8e-07  0.05  \n",
      "21  1.5e-06  4.8e-04  5.7e-06  9.94e-01   1.480067019e+04   1.480075813e+04   1.2e-07  0.05  \n",
      "22  3.5e-07  1.1e-04  6.4e-07  9.98e-01   1.481045900e+04   1.481048081e+04   2.8e-08  0.05  \n",
      "23  8.2e-08  2.6e-05  7.4e-08  1.00e+00   1.481258677e+04   1.481259200e+04   6.5e-09  0.05  \n",
      "24  1.7e-08  5.4e-06  7.6e-09  1.00e+00   1.481310139e+04   1.481310268e+04   1.4e-09  0.05  \n",
      "25  2.6e-09  8.2e-07  4.4e-10  1.00e+00   1.481322366e+04   1.481322386e+04   2.0e-10  0.05  \n",
      "26  8.2e-10  2.6e-07  8.1e-11  1.00e+00   1.481323859e+04   1.481323865e+04   6.5e-11  0.05  \n",
      "27  5.3e-11  1.7e-08  1.5e-12  1.00e+00   1.481324512e+04   1.481324513e+04   4.2e-12  0.05  \n",
      "Optimizer terminated. Time: 0.05    \n",
      "\n"
     ]
    }
   ],
   "source": [
    "optimize!(model_socp)"
   ]
  },
  {
   "cell_type": "code",
   "execution_count": 37,
   "metadata": {
    "ExecuteTime": {
     "end_time": "2021-12-27T16:00:24.939000-03:00",
     "start_time": "2021-12-27T18:59:46.763Z"
    }
   },
   "outputs": [
    {
     "data": {
      "text/plain": [
       "15.60366270289265"
      ]
     },
     "execution_count": 37,
     "metadata": {},
     "output_type": "execute_result"
    }
   ],
   "source": [
    "optimality_gap_mosek(model_socp,optimal_value,filepath)"
   ]
  },
  {
   "cell_type": "markdown",
   "metadata": {},
   "source": [
    "### Results"
   ]
  },
  {
   "cell_type": "code",
   "execution_count": 38,
   "metadata": {
    "ExecuteTime": {
     "end_time": "2021-12-27T16:00:24.952000-03:00",
     "start_time": "2021-12-27T18:59:46.767Z"
    }
   },
   "outputs": [],
   "source": [
    "models = [model_nl,model_mc,model_sdp,model_socp];"
   ]
  },
  {
   "cell_type": "code",
   "execution_count": 39,
   "metadata": {
    "ExecuteTime": {
     "end_time": "2021-12-27T16:00:25.036000-03:00",
     "start_time": "2021-12-27T18:59:46.769Z"
    },
    "code_folding": []
   },
   "outputs": [
    {
     "data": {
      "text/plain": [
       "plot_var (generic function with 1 method)"
      ]
     },
     "execution_count": 39,
     "metadata": {},
     "output_type": "execute_result"
    }
   ],
   "source": [
    "function plot_var(models,variable,title,y_label)\n",
    "    fig = figure(1)\n",
    "    ax = fig.add_subplot(1,1,1)\n",
    "    vars = [value.(model[Symbol(variable)]) for model in models]\n",
    "    var_length = length(vars[1])\n",
    "    models_type = [\"NL\",\"MC\",\"SDP\",\"SOCP\"]\n",
    "    width = 0.15\n",
    "    G_labels = [\"G\"*string(i) for i = 1:var_length]\n",
    "    xs = 1:var_length\n",
    "    for (i,var) in enumerate(vars)\n",
    "        ax.bar(xs.+(i-2.5)*width,var,width,label = models_type[i])\n",
    "    end\n",
    "    ax.set_title(title)\n",
    "    ax.set_ylabel(y_label)\n",
    "    ax.set_xticks(xs)\n",
    "    ax.set_xticklabels(G_labels)\n",
    "    ax.legend()\n",
    "    return fig\n",
    "end"
   ]
  },
  {
   "cell_type": "code",
   "execution_count": 40,
   "metadata": {
    "ExecuteTime": {
     "end_time": "2021-12-27T16:00:28.147000-03:00",
     "start_time": "2021-12-27T18:59:46.776Z"
    }
   },
   "outputs": [
    {
     "data": {
      "image/png": "[encoded data removed]",
      "text/plain": [
       "Figure(PyObject <Figure size 640x480 with 1 Axes>)"
      ]
     },
     "metadata": {},
     "output_type": "display_data"
    }
   ],
   "source": [
    "plot_var(models,\"p_g\",\"Active Generation\",\"Generation (MW)\");"
   ]
  },
  {
   "cell_type": "code",
   "execution_count": 41,
   "metadata": {
    "ExecuteTime": {
     "end_time": "2021-12-27T16:00:28.263000-03:00",
     "start_time": "2021-12-27T18:59:46.781Z"
    }
   },
   "outputs": [
    {
     "data": {
      "image/png": "[encoded data removed]",
      "text/plain": [
       "Figure(PyObject <Figure size 640x480 with 1 Axes>)"
      ]
     },
     "metadata": {},
     "output_type": "display_data"
    }
   ],
   "source": [
    "plot_var(models,\"q_g\",\"Reactive Generation\",\"Generation (MW)\");"
   ]
  },
  {
   "cell_type": "markdown",
   "metadata": {},
   "source": [
    "## 39 buses"
   ]
  },
  {
   "cell_type": "markdown",
   "metadata": {},
   "source": [
    "$|\\mathcal{B}| = 39 $\n",
    "\n",
    "$|\\mathcal{L}| = 46 $\n",
    "\n",
    "$|\\mathcal{G}| = 10 $"
   ]
  },
  {
   "cell_type": "code",
   "execution_count": 42,
   "metadata": {
    "ExecuteTime": {
     "end_time": "2021-12-27T16:00:28.265000-03:00",
     "start_time": "2021-12-27T18:59:46.785Z"
    }
   },
   "outputs": [
    {
     "data": {
      "text/plain": [
       "(\"pglib_opf_case39_epri\", [138420.0, 249670.0, 148340.0])"
      ]
     },
     "execution_count": 42,
     "metadata": {},
     "output_type": "execute_result"
    }
   ],
   "source": [
    "case_test = case_tests[7]"
   ]
  },
  {
   "cell_type": "code",
   "execution_count": 43,
   "metadata": {
    "ExecuteTime": {
     "end_time": "2021-12-27T16:00:28.266000-03:00",
     "start_time": "2021-12-27T18:59:46.789Z"
    }
   },
   "outputs": [
    {
     "data": {
      "text/plain": [
       "138420.0"
      ]
     },
     "execution_count": 43,
     "metadata": {},
     "output_type": "execute_result"
    }
   ],
   "source": [
    "filepath = joinpath(full_data,case_test[1]*\".m\")\n",
    "optimal_value = case_test[2][1]"
   ]
  },
  {
   "cell_type": "markdown",
   "metadata": {},
   "source": [
    "### Non linear - IPOPT"
   ]
  },
  {
   "cell_type": "code",
   "execution_count": 44,
   "metadata": {
    "ExecuteTime": {
     "end_time": "2021-12-27T16:00:28.277000-03:00",
     "start_time": "2021-12-27T18:59:46.796Z"
    }
   },
   "outputs": [],
   "source": [
    "model_nl = build_problem(filepath,ipopt,NL);"
   ]
  },
  {
   "cell_type": "code",
   "execution_count": 45,
   "metadata": {
    "ExecuteTime": {
     "end_time": "2021-12-27T16:00:28.378000-03:00",
     "start_time": "2021-12-27T18:59:46.799Z"
    },
    "scrolled": true
   },
   "outputs": [
    {
     "name": "stdout",
     "output_type": "stream",
     "text": [
      "This is Ipopt version 3.14.4, running with linear solver MUMPS 5.4.1.\n",
      "\n",
      "Number of nonzeros in equality constraint Jacobian...:     2149\n",
      "Number of nonzeros in inequality constraint Jacobian.:     1076\n",
      "Number of nonzeros in Lagrangian Hessian.............:     1764\n",
      "\n",
      "Total number of variables............................:      282\n",
      "                     variables with only lower bounds:        0\n",
      "                variables with lower and upper bounds:      282\n",
      "                     variables with only upper bounds:        0\n",
      "Total number of equality constraints.................:      263\n",
      "Total number of inequality constraints...............:      262\n",
      "        inequality constraints with only lower bounds:       85\n",
      "   inequality constraints with lower and upper bounds:        0\n",
      "        inequality constraints with only upper bounds:      177\n",
      "\n",
      "iter    objective    inf_pr   inf_du lg(mu)  ||d||  lg(rg) alpha_du alpha_pr  ls\n",
      "   0  2.3768653e+04 1.20e+01 7.11e+00  -1.0 0.00e+00    -  0.00e+00 0.00e+00   0\n",
      "   1  3.4704925e+04 1.06e+01 9.97e+00  -1.0 3.47e+01    -  5.97e-02 1.17e-01h  1\n",
      "   2  3.6127244e+04 1.04e+01 9.89e+00  -1.0 7.14e+01    -  2.80e-02 1.93e-02h  1\n",
      "   3  6.9654760e+04 5.74e+00 7.87e+01  -1.0 7.60e+01    -  7.10e-02 4.49e-01H  1\n",
      "   4  7.2270987e+04 5.46e+00 7.34e+01  -1.0 7.09e+01    -  4.03e-01 4.83e-02h  1\n",
      "   5  8.2246766e+04 4.57e+00 6.08e+01  -1.0 5.26e+01    -  2.50e-01 1.62e-01h  1\n",
      "   6  1.0285854e+05 2.80e+00 3.75e+01  -1.0 5.01e+01    -  3.53e-01 3.87e-01h  1\n",
      "   7  1.1044524e+05 2.16e+00 3.83e+01  -1.0 5.19e+01    -  3.74e-01 2.31e-01h  1\n",
      "   8  1.2017939e+05 1.32e+00 1.96e+01  -1.0 5.00e+01    -  7.27e-01 3.88e-01h  1\n",
      "   9  1.2239118e+05 1.15e+00 2.27e+01  -1.0 2.89e+01    -  5.00e-01 1.27e-01h  1\n",
      "iter    objective    inf_pr   inf_du lg(mu)  ||d||  lg(rg) alpha_du alpha_pr  ls\n",
      "  10  1.3019825e+05 5.70e-01 1.18e+01  -1.0 3.22e+01    -  3.44e-01 5.05e-01h  1\n",
      "  11  1.3163571e+05 4.61e-01 9.50e+00  -1.0 3.70e+01    -  6.65e-01 1.90e-01h  1\n",
      "  12  1.3329708e+05 6.98e-01 7.57e+00  -1.0 2.55e+01    -  1.95e-01 2.62e-01h  1\n",
      "  13  1.3728428e+05 1.72e-01 2.57e+00  -1.0 3.97e+00    -  1.00e+00 7.62e-01h  1\n",
      "  14  1.3855132e+05 1.89e-03 4.91e-01  -1.0 2.54e+00    -  8.88e-01 1.00e+00h  1\n",
      "  15  1.3848951e+05 4.55e-03 1.41e-01  -1.7 6.45e-01    -  9.18e-01 9.77e-01f  1\n",
      "  16  1.3847336e+05 1.87e-03 4.50e-01  -2.5 1.11e+00    -  6.07e-01 5.02e-01f  1\n",
      "  17  1.3846305e+05 2.75e-03 4.88e-01  -2.5 9.81e-01    -  9.49e-01 8.18e-01h  1\n",
      "  18  1.3846220e+05 2.25e-04 8.36e-03  -2.5 2.20e-01    -  1.00e+00 9.91e-01h  1\n",
      "  19  1.3846110e+05 9.27e-05 3.12e-01  -3.8 1.03e-01    -  1.00e+00 6.83e-01h  1\n",
      "iter    objective    inf_pr   inf_du lg(mu)  ||d||  lg(rg) alpha_du alpha_pr  ls\n",
      "  20  1.3846070e+05 7.54e-06 4.36e-03  -3.8 3.57e-02    -  1.00e+00 9.94e-01h  1\n",
      "  21  1.3846071e+05 1.52e-07 4.86e-05  -3.8 5.16e-03    -  1.00e+00 1.00e+00f  1\n",
      "  22  1.3846062e+05 1.19e-07 1.61e-02  -5.7 6.06e-03    -  1.00e+00 9.31e-01h  1\n",
      "  23  1.3846061e+05 6.16e-10 6.82e-08  -5.7 3.20e-04    -  1.00e+00 1.00e+00f  1\n",
      "  24  1.3846061e+05 2.05e-11 5.54e-06  -8.6 6.87e-05    -  1.00e+00 9.99e-01h  1\n",
      "  25  1.3846061e+05 4.90e-14 6.87e-12  -8.6 7.25e-08    -  1.00e+00 1.00e+00f  1\n",
      "\n",
      "Number of Iterations....: 25\n",
      "\n",
      "                                   (scaled)                 (unscaled)\n",
      "Objective...............:   3.9736556004819004e+03    1.3846061080374243e+05\n",
      "Dual infeasibility......:   6.8741968677797906e-12    2.3952893576950499e-10\n",
      "Constraint violation....:   2.7782579623535266e-14    4.8960835385969403e-14\n",
      "Variable bound violation:   1.0982827625127811e-07    1.0982827625127811e-07\n",
      "Complementarity.........:   2.5059233782615713e-09    8.7318005500878395e-08\n",
      "Overall NLP error.......:   2.5059233782615713e-09    8.7318005500878395e-08\n",
      "\n",
      "\n",
      "Number of objective function evaluations             = 28\n",
      "Number of objective gradient evaluations             = 26\n",
      "Number of equality constraint evaluations            = 28\n",
      "Number of inequality constraint evaluations          = 28\n",
      "Number of equality constraint Jacobian evaluations   = 26\n",
      "Number of inequality constraint Jacobian evaluations = 26\n",
      "Number of Lagrangian Hessian evaluations             = 25\n",
      "Total seconds in IPOPT                               = 0.099\n",
      "\n",
      "EXIT: Optimal Solution Found.\n"
     ]
    }
   ],
   "source": [
    "optimize!(model_nl)"
   ]
  },
  {
   "cell_type": "code",
   "execution_count": 46,
   "metadata": {
    "ExecuteTime": {
     "end_time": "2021-12-27T16:00:28.379000-03:00",
     "start_time": "2021-12-27T18:59:46.801Z"
    }
   },
   "outputs": [
    {
     "data": {
      "text/plain": [
       "-0.02933882657305836"
      ]
     },
     "execution_count": 46,
     "metadata": {},
     "output_type": "execute_result"
    }
   ],
   "source": [
    "optimality_gap(model_nl,optimal_value)"
   ]
  },
  {
   "cell_type": "markdown",
   "metadata": {},
   "source": [
    "### McCormick Relaxation - MOSEK"
   ]
  },
  {
   "cell_type": "code",
   "execution_count": 47,
   "metadata": {
    "ExecuteTime": {
     "end_time": "2021-12-27T16:00:28.387000-03:00",
     "start_time": "2021-12-27T18:59:46.804Z"
    }
   },
   "outputs": [],
   "source": [
    "model_mc = build_problem(filepath,mosek,MC);"
   ]
  },
  {
   "cell_type": "code",
   "execution_count": 48,
   "metadata": {
    "ExecuteTime": {
     "end_time": "2021-12-27T16:00:28.538000-03:00",
     "start_time": "2021-12-27T18:59:46.807Z"
    },
    "scrolled": true
   },
   "outputs": [
    {
     "name": "stdout",
     "output_type": "stream",
     "text": [
      "Problem\n",
      "  Name                   :                 \n",
      "  Objective sense        : min             \n",
      "  Type                   : CONIC (conic optimization problem)\n",
      "  Constraints            : 2180            \n",
      "  Cones                  : 93              \n",
      "  Scalar variables       : 6737            \n",
      "  Matrix variables       : 0               \n",
      "  Integer variables      : 0               \n",
      "\n",
      "Optimizer started.\n",
      "Presolve started.\n",
      "Linear dependency checker started.\n",
      "Linear dependency checker terminated.\n",
      "Eliminator started.\n",
      "Freed constraints in eliminator : 97\n",
      "Eliminator terminated.\n",
      "Eliminator - tries                  : 1                 time                   : 0.00            \n",
      "Lin. dep.  - tries                  : 1                 time                   : 0.00            \n",
      "Lin. dep.  - number                 : 0               \n",
      "Presolve terminated. Time: 0.00    \n",
      "Problem\n",
      "  Name                   :                 \n",
      "  Objective sense        : min             \n",
      "  Type                   : CONIC (conic optimization problem)\n",
      "  Constraints            : 2180            \n",
      "  Cones                  : 93              \n",
      "  Scalar variables       : 6737            \n",
      "  Matrix variables       : 0               \n",
      "  Integer variables      : 0               \n",
      "\n",
      "Optimizer  - threads                : 6               \n",
      "Optimizer  - solved problem         : the dual        \n",
      "Optimizer  - Constraints            : 544\n",
      "Optimizer  - Cones                  : 93\n",
      "Optimizer  - Scalar variables       : 2473              conic                  : 494             \n",
      "Optimizer  - Semi-definite variables: 0                 scalarized             : 0               \n",
      "Factor     - setup time             : 0.00              dense det. time        : 0.00            \n",
      "Factor     - ML order time          : 0.00              GP order time          : 0.00            \n",
      "Factor     - nonzeros before factor : 3557              after factor           : 6069            \n",
      "Factor     - dense dim.             : 2                 flops                  : 1.28e+05        \n",
      "ITE PFEAS    DFEAS    GFEAS    PRSTATUS   POBJ              DOBJ              MU       TIME  \n",
      "0   9.2e+03  3.5e+03  4.0e+03  0.00e+00   1.353101500e+02   -3.838686529e+03  1.0e+00  0.00  \n",
      "1   5.3e+03  2.0e+03  3.0e+03  -9.99e-01  -2.521102961e+03  -6.489993051e+03  5.7e-01  0.01  \n",
      "2   2.7e+03  1.0e+03  2.1e+03  -9.94e-01  -7.479965519e+03  -1.142668724e+04  2.9e-01  0.03  \n",
      "3   1.3e+03  4.8e+02  1.4e+03  -9.75e-01  -9.349418896e+03  -1.321363965e+04  1.4e-01  0.03  \n",
      "4   8.9e+02  3.4e+02  1.2e+03  -9.15e-01  -9.190287340e+03  -1.295808542e+04  9.7e-02  0.03  \n",
      "5   6.3e+02  2.4e+02  9.4e+02  -8.48e-01  -6.623571990e+03  -1.024549348e+04  6.9e-02  0.03  \n",
      "6   4.8e+02  1.8e+02  7.7e+02  -7.52e-01  -2.699037146e+03  -6.146976010e+03  5.2e-02  0.03  \n",
      "7   3.9e+02  1.5e+02  6.5e+02  -6.36e-01  1.185649662e+03   -2.094359020e+03  4.2e-02  0.05  \n",
      "8   2.9e+02  1.1e+02  5.1e+02  -5.44e-01  8.738007189e+03   5.725983071e+03   3.1e-02  0.05  \n",
      "9   1.9e+02  7.2e+01  3.4e+02  -3.71e-01  2.216781267e+04   1.962751657e+04   2.1e-02  0.06  \n",
      "10  1.3e+02  4.8e+01  2.1e+02  -1.07e-01  3.677823140e+04   3.474357978e+04   1.4e-02  0.09  \n",
      "11  1.2e+02  4.7e+01  2.1e+02  1.33e-01   3.767762799e+04   3.567117258e+04   1.3e-02  0.09  \n",
      "12  9.6e+01  3.6e+01  1.5e+02  1.46e-01   4.647748867e+04   4.475362270e+04   1.0e-02  0.09  \n",
      "13  5.7e+01  2.1e+01  7.8e+01  2.94e-01   6.322709689e+04   6.205116853e+04   6.2e-03  0.09  \n",
      "14  3.9e+01  1.5e+01  4.8e+01  5.24e-01   7.240230165e+04   7.151925013e+04   4.3e-03  0.11  \n",
      "15  3.1e+01  1.2e+01  3.6e+01  6.31e-01   7.721305137e+04   7.647788118e+04   3.4e-03  0.11  \n",
      "16  1.5e+01  5.8e+00  1.3e+01  7.02e-01   8.832915519e+04   8.793781515e+04   1.7e-03  0.11  \n",
      "17  1.3e+01  4.8e+00  1.0e+01  8.12e-01   9.045018752e+04   9.012169108e+04   1.4e-03  0.11  \n",
      "18  7.2e+00  2.7e+00  4.7e+00  8.36e-01   9.495639318e+04   9.476054424e+04   7.8e-04  0.11  \n",
      "19  3.6e+00  1.4e+00  1.8e+00  8.91e-01   9.822819067e+04   9.812600100e+04   3.9e-04  0.11  \n",
      "20  2.7e+00  1.0e+00  1.2e+00  9.27e-01   9.911220329e+04   9.903460655e+04   3.0e-04  0.11  \n",
      "21  1.3e+00  5.1e-01  4.2e-01  9.46e-01   1.005121221e+05   1.004732827e+05   1.5e-04  0.11  \n",
      "22  2.4e-01  9.2e-02  3.4e-02  9.79e-01   1.016683524e+05   1.016613089e+05   2.6e-05  0.13  \n",
      "23  1.7e-01  6.3e-02  2.0e-02  9.94e-01   1.017491765e+05   1.017443171e+05   1.8e-05  0.13  \n",
      "24  6.1e-02  2.3e-02  4.4e-03  9.77e-01   1.018652420e+05   1.018634765e+05   6.6e-06  0.13  \n",
      "25  2.9e-02  1.1e-02  1.5e-03  9.98e-01   1.018988932e+05   1.018980341e+05   3.2e-06  0.13  \n",
      "26  1.2e-02  4.5e-03  4.0e-04  9.95e-01   1.019182911e+05   1.019179412e+05   1.3e-06  0.13  \n",
      "27  1.7e-03  6.4e-04  2.1e-05  9.99e-01   1.019296580e+05   1.019296086e+05   1.8e-07  0.13  \n",
      "28  3.7e-05  1.4e-05  6.8e-08  9.99e-01   1.019314893e+05   1.019314883e+05   4.1e-09  0.13  \n",
      "29  3.4e-06  1.3e-06  1.9e-09  1.00e+00   1.019315263e+05   1.019315262e+05   3.7e-10  0.13  \n",
      "30  7.4e-07  2.8e-07  1.9e-10  1.00e+00   1.019315293e+05   1.019315293e+05   8.2e-11  0.13  \n",
      "Optimizer terminated. Time: 0.13    \n",
      "\n"
     ]
    }
   ],
   "source": [
    "optimize!(model_mc)"
   ]
  },
  {
   "cell_type": "code",
   "execution_count": 49,
   "metadata": {
    "ExecuteTime": {
     "end_time": "2021-12-27T16:00:28.541000-03:00",
     "start_time": "2021-12-27T18:59:46.809Z"
    }
   },
   "outputs": [
    {
     "data": {
      "text/plain": [
       "26.360692490896447"
      ]
     },
     "execution_count": 49,
     "metadata": {},
     "output_type": "execute_result"
    }
   ],
   "source": [
    "optimality_gap_mosek(model_mc,optimal_value,filepath)"
   ]
  },
  {
   "cell_type": "markdown",
   "metadata": {},
   "source": [
    "### Semidefinite Relaxation - MOSEK"
   ]
  },
  {
   "cell_type": "code",
   "execution_count": 50,
   "metadata": {
    "ExecuteTime": {
     "end_time": "2021-12-27T16:00:28.549000-03:00",
     "start_time": "2021-12-27T18:59:46.812Z"
    }
   },
   "outputs": [],
   "source": [
    "model_sdp = build_problem(filepath,mosek,SDP);"
   ]
  },
  {
   "cell_type": "code",
   "execution_count": 51,
   "metadata": {
    "ExecuteTime": {
     "end_time": "2021-12-27T16:00:28.883000-03:00",
     "start_time": "2021-12-27T18:59:46.815Z"
    },
    "scrolled": true
   },
   "outputs": [
    {
     "name": "stdout",
     "output_type": "stream",
     "text": [
      "Problem\n",
      "  Name                   :                 \n",
      "  Objective sense        : min             \n",
      "  Type                   : CONIC (conic optimization problem)\n",
      "  Constraints            : 763             \n",
      "  Cones                  : 93              \n",
      "  Scalar variables       : 575             \n",
      "  Matrix variables       : 1               \n",
      "  Integer variables      : 0               \n",
      "\n",
      "Optimizer started.\n",
      "Presolve started.\n",
      "Linear dependency checker started.\n",
      "Linear dependency checker terminated.\n",
      "Eliminator started.\n",
      "Freed constraints in eliminator : 9\n",
      "Eliminator terminated.\n",
      "Eliminator - tries                  : 1                 time                   : 0.00            \n",
      "Lin. dep.  - tries                  : 1                 time                   : 0.00            \n",
      "Lin. dep.  - number                 : 0               \n",
      "Presolve terminated. Time: 0.02    \n",
      "Problem\n",
      "  Name                   :                 \n",
      "  Objective sense        : min             \n",
      "  Type                   : CONIC (conic optimization problem)\n",
      "  Constraints            : 763             \n",
      "  Cones                  : 93              \n",
      "  Scalar variables       : 575             \n",
      "  Matrix variables       : 1               \n",
      "  Integer variables      : 0               \n",
      "\n",
      "Optimizer  - threads                : 6               \n",
      "Optimizer  - solved problem         : the primal      \n",
      "Optimizer  - Constraints            : 375\n",
      "Optimizer  - Cones                  : 84\n",
      "Optimizer  - Scalar variables       : 485               conic                  : 336             \n",
      "Optimizer  - Semi-definite variables: 1                 scalarized             : 3081            \n",
      "Factor     - setup time             : 0.00              dense det. time        : 0.00            \n",
      "Factor     - ML order time          : 0.00              GP order time          : 0.00            \n",
      "Factor     - nonzeros before factor : 5.02e+04          after factor           : 5.02e+04        \n",
      "Factor     - dense dim.             : 0                 flops                  : 1.19e+07        \n",
      "ITE PFEAS    DFEAS    GFEAS    PRSTATUS   POBJ              DOBJ              MU       TIME  \n",
      "0   2.3e+02  2.2e+05  3.3e+03  0.00e+00   3.042293633e+04   2.712917637e+04   1.0e+00  0.02  \n",
      "1   6.3e+01  6.1e+04  1.7e+03  -1.00e+00  1.432447183e+04   1.103419783e+04   2.7e-01  0.03  \n",
      "2   3.4e+01  3.3e+04  1.3e+03  -9.97e-01  5.106004258e+02   -2.769091278e+03  1.5e-01  0.05  \n",
      "3   2.2e+01  2.2e+04  1.0e+03  -9.82e-01  3.158218510e+03   -7.957942450e+01  9.8e-02  0.06  \n",
      "4   9.7e+00  9.5e+03  6.3e+02  -9.39e-01  5.739889217e+03   2.719888672e+03   4.3e-02  0.06  \n",
      "5   4.8e+00  4.7e+03  3.9e+02  -7.58e-01  1.283299030e+04   1.021510197e+04   2.1e-02  0.06  \n",
      "6   2.7e+00  2.6e+03  2.3e+02  -4.97e-01  2.093449603e+04   1.879904256e+04   1.2e-02  0.09  \n",
      "7   1.9e+00  1.8e+03  1.6e+02  -2.00e-01  2.747244845e+04   2.564146990e+04   8.3e-03  0.11  \n",
      "8   1.1e+00  1.0e+03  8.2e+01  -2.91e-02  4.007207569e+04   3.875890909e+04   4.6e-03  0.11  \n",
      "9   6.0e-01  5.8e+02  4.1e+01  2.68e-01   5.094689002e+04   5.005585189e+04   2.6e-03  0.11  \n",
      "10  5.7e-01  5.6e+02  4.5e+01  1.10e-01   4.904259417e+04   4.803587147e+04   2.5e-03  0.13  \n",
      "11  5.1e-01  5.0e+02  4.0e+01  -1.70e-01  5.130616408e+04   5.034903227e+04   2.2e-03  0.13  \n",
      "12  4.3e-01  4.2e+02  3.2e+01  1.09e-01   5.550131607e+04   5.465082961e+04   1.9e-03  0.13  \n",
      "13  3.0e-01  3.0e+02  2.1e+01  2.59e-01   6.225985538e+04   6.158463121e+04   1.3e-03  0.14  \n",
      "14  2.0e-01  2.0e+02  1.3e+01  4.02e-01   6.886768289e+04   6.835985096e+04   8.9e-04  0.16  \n",
      "15  1.2e-01  1.2e+02  6.9e+00  4.99e-01   7.537993975e+04   7.502635385e+04   5.3e-04  0.16  \n",
      "16  1.1e-01  1.0e+02  6.7e+00  2.50e-03   7.538319484e+04   7.501193008e+04   4.7e-04  0.16  \n",
      "17  9.6e-02  9.3e+01  5.4e+00  7.61e-02   7.780905882e+04   7.748655380e+04   4.2e-04  0.16  \n",
      "18  7.8e-02  7.6e+01  4.9e+00  -2.00e-02  7.902997976e+04   7.870816888e+04   3.4e-04  0.17  \n",
      "19  6.4e-02  6.2e+01  3.7e+00  8.16e-02   8.217369187e+04   8.190247599e+04   2.8e-04  0.17  \n",
      "20  4.5e-02  4.4e+01  2.5e+00  1.74e-01   8.604692325e+04   8.582489068e+04   2.0e-04  0.17  \n",
      "21  2.9e-02  2.9e+01  1.5e+00  3.44e-01   9.049821462e+04   9.033381989e+04   1.3e-04  0.17  \n",
      "22  2.3e-02  2.2e+01  1.1e+00  4.87e-01   9.286168009e+04   9.272627455e+04   9.9e-05  0.19  \n",
      "23  1.7e-02  1.7e+01  8.0e-01  5.16e-01   9.486047509e+04   9.474839786e+04   7.6e-05  0.19  \n",
      "24  1.0e-02  9.9e+00  4.5e-01  4.97e-01   9.795938699e+04   9.788030776e+04   4.4e-05  0.19  \n",
      "25  8.3e-03  8.1e+00  5.0e-01  -6.26e-01  9.770626331e+04   9.761076300e+04   3.6e-05  0.19  \n",
      "26  6.4e-03  6.2e+00  4.3e-01  -4.78e-01  9.917225067e+04   9.908265593e+04   2.8e-05  0.20  \n",
      "27  5.9e-03  5.8e+00  3.9e-01  -2.89e-01  1.005202803e+05   1.004370505e+05   2.6e-05  0.20  \n",
      "28  4.2e-03  4.1e+00  2.4e-01  -6.16e-02  1.049766965e+05   1.049140605e+05   1.8e-05  0.20  \n",
      "29  2.8e-03  2.7e+00  1.6e-01  1.03e-02   1.085842917e+05   1.085378517e+05   1.2e-05  0.20  \n",
      "30  1.8e-03  1.8e+00  9.8e-02  2.26e-01   1.123582147e+05   1.123245452e+05   7.9e-06  0.22  \n",
      "31  1.4e-03  1.4e+00  7.8e-02  2.19e-01   1.142310926e+05   1.142024613e+05   6.3e-06  0.22  \n",
      "32  1.1e-03  1.1e+00  5.8e-02  3.19e-01   1.164599048e+05   1.164366372e+05   4.9e-06  0.22  \n",
      "33  8.4e-04  8.2e-01  4.2e-02  3.88e-01   1.186321231e+05   1.186140751e+05   3.7e-06  0.22  \n",
      "34  6.4e-04  6.3e-01  3.2e-02  3.62e-01   1.203019898e+05   1.202877640e+05   2.8e-06  0.23  \n",
      "35  5.8e-04  5.7e-01  2.9e-02  2.28e-01   1.208296227e+05   1.208166129e+05   2.5e-06  0.27  \n",
      "36  4.4e-04  4.2e-01  2.2e-02  2.31e-01   1.225613030e+05   1.225516342e+05   1.9e-06  0.27  \n",
      "37  3.0e-04  2.9e-01  1.4e-02  2.47e-01   1.250961770e+05   1.250900725e+05   1.3e-06  0.27  \n",
      "38  2.5e-04  2.4e-01  1.3e-02  2.41e-01   1.254632056e+05   1.254587099e+05   1.1e-06  0.28  \n",
      "39  1.4e-04  1.4e-01  6.8e-03  2.22e-01   1.285911102e+05   1.285904319e+05   6.2e-07  0.28  \n",
      "40  1.0e-04  9.8e-02  4.1e-03  4.27e-01   1.312752066e+05   1.312746140e+05   4.4e-07  0.28  \n",
      "41  7.3e-05  7.1e-02  2.6e-03  6.58e-01   1.328090304e+05   1.328089841e+05   3.2e-07  0.30  \n",
      "42  3.3e-05  3.2e-02  9.2e-04  6.51e-01   1.355235231e+05   1.355242508e+05   1.4e-07  0.30  \n",
      "43  2.0e-05  2.0e-02  4.8e-04  8.76e-01   1.365081025e+05   1.365087174e+05   8.9e-08  0.30  \n",
      "44  8.0e-06  7.8e-03  1.3e-04  9.14e-01   1.376132559e+05   1.376136447e+05   3.5e-08  0.30  \n",
      "45  1.3e-06  1.3e-03  9.3e-06  9.61e-01   1.382944699e+05   1.382945649e+05   5.9e-09  0.30  \n",
      "46  1.6e-07  1.6e-04  4.0e-07  9.93e-01   1.384276814e+05   1.384276933e+05   7.1e-10  0.31  \n",
      "47  1.8e-08  1.8e-05  1.5e-08  9.99e-01   1.384441323e+05   1.384441337e+05   8.1e-11  0.31  \n",
      "48  1.5e-09  1.5e-06  3.5e-10  1.00e+00   1.384460889e+05   1.384460891e+05   6.5e-12  0.31  \n",
      "49  1.9e-10  1.8e-07  1.6e-11  1.00e+00   1.384462417e+05   1.384462417e+05   8.1e-13  0.31  \n",
      "Optimizer terminated. Time: 0.33    \n",
      "\n"
     ]
    }
   ],
   "source": [
    "optimize!(model_sdp)"
   ]
  },
  {
   "cell_type": "code",
   "execution_count": 52,
   "metadata": {
    "ExecuteTime": {
     "end_time": "2021-12-27T16:00:28.885000-03:00",
     "start_time": "2021-12-27T18:59:46.818Z"
    }
   },
   "outputs": [
    {
     "data": {
      "text/plain": [
       "0.018958020297554896"
      ]
     },
     "execution_count": 52,
     "metadata": {},
     "output_type": "execute_result"
    }
   ],
   "source": [
    "optimality_gap_mosek(model_sdp,optimal_value,filepath)"
   ]
  },
  {
   "cell_type": "markdown",
   "metadata": {},
   "source": [
    "### Second Order Cone Relaxation - MOSEK"
   ]
  },
  {
   "cell_type": "code",
   "execution_count": 53,
   "metadata": {
    "ExecuteTime": {
     "end_time": "2021-12-27T16:00:28.893000-03:00",
     "start_time": "2021-12-27T18:59:46.821Z"
    }
   },
   "outputs": [],
   "source": [
    "model_socp = build_problem(filepath,mosek,SOCP);"
   ]
  },
  {
   "cell_type": "code",
   "execution_count": 54,
   "metadata": {
    "ExecuteTime": {
     "end_time": "2021-12-27T16:00:29.021000-03:00",
     "start_time": "2021-12-27T18:59:46.823Z"
    },
    "scrolled": true
   },
   "outputs": [
    {
     "name": "stdout",
     "output_type": "stream",
     "text": [
      "Problem\n",
      "  Name                   :                 \n",
      "  Objective sense        : min             \n",
      "  Type                   : CONIC (conic optimization problem)\n",
      "  Constraints            : 901             \n",
      "  Cones                  : 139             \n",
      "  Scalar variables       : 6797            \n",
      "  Matrix variables       : 0               \n",
      "  Integer variables      : 0               \n",
      "\n",
      "Optimizer started.\n",
      "Presolve started.\n",
      "Linear dependency checker started.\n",
      "Linear dependency checker terminated.\n",
      "Eliminator started.\n",
      "Freed constraints in eliminator : 144\n",
      "Eliminator terminated.\n",
      "Eliminator started.\n",
      "Freed constraints in eliminator : 2\n",
      "Eliminator terminated.\n",
      "Eliminator - tries                  : 2                 time                   : 0.00            \n",
      "Lin. dep.  - tries                  : 1                 time                   : 0.00            \n",
      "Lin. dep.  - number                 : 0               \n",
      "Presolve terminated. Time: 0.00    \n",
      "Problem\n",
      "  Name                   :                 \n",
      "  Objective sense        : min             \n",
      "  Type                   : CONIC (conic optimization problem)\n",
      "  Constraints            : 901             \n",
      "  Cones                  : 139             \n",
      "  Scalar variables       : 6797            \n",
      "  Matrix variables       : 0               \n",
      "  Integer variables      : 0               \n",
      "\n",
      "Optimizer  - threads                : 6               \n",
      "Optimizer  - solved problem         : the dual        \n",
      "Optimizer  - Constraints            : 141\n",
      "Optimizer  - Cones                  : 139\n",
      "Optimizer  - Scalar variables       : 1012              conic                  : 575             \n",
      "Optimizer  - Semi-definite variables: 0                 scalarized             : 0               \n",
      "Factor     - setup time             : 0.00              dense det. time        : 0.00            \n",
      "Factor     - ML order time          : 0.00              GP order time          : 0.00            \n",
      "Factor     - nonzeros before factor : 8814              after factor           : 8814            \n",
      "Factor     - dense dim.             : 0                 flops                  : 8.02e+05        \n",
      "ITE PFEAS    DFEAS    GFEAS    PRSTATUS   POBJ              DOBJ              MU       TIME  \n",
      "0   1.2e+03  3.5e+03  4.0e+03  0.00e+00   1.353101500e+02   -3.838686529e+03  1.0e+00  0.00  \n",
      "1   6.0e+02  1.8e+03  2.9e+03  -9.96e-01  -6.537704647e+03  -1.049724682e+04  5.2e-01  0.00  \n",
      "2   4.4e+02  1.3e+03  2.4e+03  -9.78e-01  -5.577413997e+03  -9.505279694e+03  3.8e-01  0.00  \n",
      "3   2.5e+02  7.6e+02  1.8e+03  -9.56e-01  -6.120621851e+03  -9.954627280e+03  2.2e-01  0.00  \n",
      "4   2.0e+02  6.0e+02  1.6e+03  -8.90e-01  -4.479598302e+03  -8.258435341e+03  1.7e-01  0.00  \n",
      "5   8.9e+01  2.7e+02  9.5e+02  -8.59e-01  2.490342860e+03   -9.515529780e+02  7.8e-02  0.00  \n",
      "6   6.2e+01  1.9e+02  7.4e+02  -6.88e-01  7.258517058e+03   4.005573845e+03   5.4e-02  0.00  \n",
      "7   5.0e+01  1.5e+02  6.2e+02  -6.04e-01  1.101926255e+04   7.916592243e+03   4.4e-02  0.01  \n",
      "8   4.9e+01  1.5e+02  6.1e+02  -5.24e-01  1.148094497e+04   8.388013835e+03   4.3e-02  0.01  \n",
      "9   1.9e+01  5.8e+01  2.8e+02  -5.19e-01  3.400375417e+04   3.175729531e+04   1.7e-02  0.01  \n",
      "10  9.1e+00  2.8e+01  1.3e+02  -1.28e-01  5.374278155e+04   5.220454837e+04   8.0e-03  0.01  \n",
      "11  6.4e+00  1.9e+01  8.4e+01  1.58e-01   6.248968043e+04   6.123958799e+04   5.6e-03  0.01  \n",
      "12  4.0e+00  1.2e+01  4.7e+01  2.95e-01   7.258466984e+04   7.166022153e+04   3.5e-03  0.01  \n",
      "13  3.5e+00  1.1e+01  4.1e+01  2.43e-01   7.492774493e+04   7.407111844e+04   3.0e-03  0.01  \n",
      "14  2.2e+00  6.5e+00  2.3e+01  3.85e-01   8.276049404e+04   8.214305618e+04   1.9e-03  0.01  \n",
      "15  1.3e+00  4.0e+00  1.3e+01  4.42e-01   8.870042384e+04   8.825573921e+04   1.1e-03  0.01  \n",
      "16  1.0e+00  3.0e+00  1.0e+01  3.95e-01   8.985432881e+04   8.943164954e+04   8.7e-04  0.01  \n",
      "17  7.2e-01  2.2e+00  1.0e+01  -2.89e-01  8.789489818e+04   8.737618088e+04   6.3e-04  0.01  \n",
      "18  6.1e-01  1.8e+00  8.8e+00  -4.42e-01  8.965785982e+04   8.916602190e+04   5.3e-04  0.01  \n",
      "19  4.0e-01  1.2e+00  5.7e+00  -2.96e-01  9.599693583e+04   9.561190484e+04   3.5e-04  0.01  \n",
      "20  2.6e-01  7.8e-01  3.4e+00  9.21e-02   1.022154245e+05   1.019303280e+05   2.2e-04  0.01  \n",
      "21  1.8e-01  5.3e-01  2.2e+00  1.11e-01   1.064000016e+05   1.061705246e+05   1.5e-04  0.01  \n",
      "22  1.2e-01  3.5e-01  1.4e+00  2.71e-01   1.106497397e+05   1.104723180e+05   1.0e-04  0.01  \n",
      "23  7.2e-02  2.2e-01  8.0e-01  3.59e-01   1.152136288e+05   1.150871545e+05   6.3e-05  0.01  \n",
      "24  5.3e-02  1.6e-01  6.0e-01  3.67e-01   1.172563152e+05   1.171480730e+05   4.6e-05  0.01  \n",
      "25  4.4e-02  1.3e-01  4.7e-01  2.42e-01   1.189367750e+05   1.188434221e+05   3.8e-05  0.01  \n",
      "26  3.4e-02  1.0e-01  3.6e-01  3.15e-01   1.204179404e+05   1.203371331e+05   3.0e-05  0.01  \n",
      "27  2.8e-02  8.3e-02  3.1e-01  1.46e-01   1.210802044e+05   1.210037645e+05   2.4e-05  0.01  \n",
      "28  1.7e-02  5.2e-02  1.8e-01  2.55e-01   1.243108990e+05   1.242570904e+05   1.5e-05  0.01  \n",
      "29  1.5e-02  4.5e-02  1.6e-01  3.91e-01   1.249022137e+05   1.248526104e+05   1.3e-05  0.01  \n",
      "30  1.1e-02  3.2e-02  1.1e-01  2.39e-01   1.263426182e+05   1.263016184e+05   9.2e-06  0.01  \n",
      "31  6.8e-03  2.0e-02  6.3e-02  3.45e-01   1.289976164e+05   1.289693331e+05   5.9e-06  0.01  \n",
      "32  3.9e-03  1.2e-02  3.0e-02  6.13e-01   1.314329364e+05   1.314157855e+05   3.4e-06  0.01  \n",
      "33  2.6e-03  7.8e-03  1.8e-02  6.52e-01   1.328156006e+05   1.328039740e+05   2.3e-06  0.01  \n",
      "34  7.0e-04  2.1e-03  2.8e-03  8.29e-01   1.351273507e+05   1.351243315e+05   6.0e-07  0.01  \n",
      "35  9.7e-05  2.9e-04  1.5e-04  9.56e-01   1.360254227e+05   1.360249991e+05   8.4e-08  0.01  \n",
      "36  3.5e-05  1.1e-04  3.3e-05  9.95e-01   1.361229802e+05   1.361228260e+05   3.1e-08  0.01  \n",
      "37  4.2e-06  1.3e-05  1.5e-06  9.97e-01   1.361718664e+05   1.361718503e+05   3.7e-09  0.01  \n",
      "38  8.7e-07  2.6e-06  1.5e-07  9.99e-01   1.361774575e+05   1.361774544e+05   7.6e-10  0.01  \n",
      "39  1.2e-07  3.7e-07  7.9e-09  1.00e+00   1.361787842e+05   1.361787838e+05   1.1e-10  0.01  \n",
      "40  5.9e-08  2.4e-07  2.6e-09  1.00e+00   1.361789030e+05   1.361789028e+05   5.1e-11  0.01  \n",
      "41  3.0e-08  1.6e-07  9.6e-10  1.00e+00   1.361789539e+05   1.361789538e+05   2.6e-11  0.01  \n",
      "42  3.0e-08  1.6e-07  9.6e-10  1.00e+00   1.361789539e+05   1.361789538e+05   2.6e-11  0.01  \n",
      "43  2.8e-08  1.6e-07  8.5e-10  1.00e+00   1.361789581e+05   1.361789580e+05   2.4e-11  0.01  \n",
      "44  2.8e-08  1.6e-07  8.5e-10  1.00e+00   1.361789581e+05   1.361789580e+05   2.4e-11  0.03  \n",
      "45  4.6e-09  1.0e-07  5.8e-11  1.00e+00   1.361789998e+05   1.361789998e+05   4.0e-12  0.03  \n",
      "46  4.6e-09  1.0e-07  5.8e-11  1.00e+00   1.361789998e+05   1.361789998e+05   4.0e-12  0.05  \n",
      "47  4.5e-09  1.0e-07  5.7e-11  1.00e+00   1.361789999e+05   1.361789999e+05   3.9e-12  0.06  \n",
      "48  4.5e-09  1.0e-07  5.7e-11  1.00e+00   1.361789999e+05   1.361789999e+05   3.9e-12  0.06  \n",
      "49  4.5e-09  1.0e-07  5.7e-11  1.00e+00   1.361789999e+05   1.361789999e+05   3.9e-12  0.06  \n",
      "50  4.5e-09  1.0e-07  5.6e-11  1.00e+00   1.361789999e+05   1.361789999e+05   3.9e-12  0.08  \n",
      "51  4.5e-09  1.0e-07  5.6e-11  1.00e+00   1.361789999e+05   1.361789999e+05   3.9e-12  0.11  \n",
      "52  4.5e-09  1.0e-07  5.6e-11  1.00e+00   1.361789999e+05   1.361789999e+05   3.9e-12  0.11  \n",
      "Optimizer terminated. Time: 0.11    \n",
      "\n"
     ]
    }
   ],
   "source": [
    "optimize!(model_socp)"
   ]
  },
  {
   "cell_type": "code",
   "execution_count": 55,
   "metadata": {
    "ExecuteTime": {
     "end_time": "2021-12-27T16:00:29.026000-03:00",
     "start_time": "2021-12-27T18:59:46.826Z"
    }
   },
   "outputs": [
    {
     "data": {
      "text/plain": [
       "1.618985582065782"
      ]
     },
     "execution_count": 55,
     "metadata": {},
     "output_type": "execute_result"
    }
   ],
   "source": [
    "optimality_gap_mosek(model_socp,optimal_value,filepath)"
   ]
  },
  {
   "cell_type": "markdown",
   "metadata": {},
   "source": [
    "### Results"
   ]
  },
  {
   "cell_type": "code",
   "execution_count": 56,
   "metadata": {
    "ExecuteTime": {
     "end_time": "2021-12-27T16:00:29.028000-03:00",
     "start_time": "2021-12-27T18:59:46.829Z"
    }
   },
   "outputs": [],
   "source": [
    "models = [model_nl,model_mc,model_sdp,model_socp];"
   ]
  },
  {
   "cell_type": "code",
   "execution_count": 57,
   "metadata": {
    "ExecuteTime": {
     "end_time": "2021-12-27T16:00:29.235000-03:00",
     "start_time": "2021-12-27T18:59:46.831Z"
    }
   },
   "outputs": [
    {
     "data": {
      "image/png": "[encoded data removed]",
      "text/plain": [
       "Figure(PyObject <Figure size 640x480 with 1 Axes>)"
      ]
     },
     "metadata": {},
     "output_type": "display_data"
    }
   ],
   "source": [
    "plot_var(models,\"p_g\",\"Active Generation\",\"Generation (MW)\");"
   ]
  },
  {
   "cell_type": "code",
   "execution_count": 58,
   "metadata": {
    "ExecuteTime": {
     "end_time": "2021-12-27T16:00:29.390000-03:00",
     "start_time": "2021-12-27T18:59:46.834Z"
    },
    "scrolled": false
   },
   "outputs": [
    {
     "data": {
      "image/png": "[encoded data removed]",
      "text/plain": [
       "Figure(PyObject <Figure size 640x480 with 1 Axes>)"
      ]
     },
     "metadata": {},
     "output_type": "display_data"
    }
   ],
   "source": [
    "plot_var(models,\"q_g\",\"Reactive Generation\",\"Generation (MW)\");"
   ]
  },
  {
   "cell_type": "markdown",
   "metadata": {},
   "source": [
    "## 162 buses"
   ]
  },
  {
   "cell_type": "markdown",
   "metadata": {},
   "source": [
    "$|\\mathcal{B}| = 162 $\n",
    "\n",
    "$|\\mathcal{L}| = 284 $\n",
    "\n",
    "$|\\mathcal{G}| = 12 $"
   ]
  },
  {
   "cell_type": "code",
   "execution_count": 59,
   "metadata": {
    "ExecuteTime": {
     "end_time": "2021-12-27T16:00:29.392000-03:00",
     "start_time": "2021-12-27T18:59:46.838Z"
    }
   },
   "outputs": [
    {
     "data": {
      "text/plain": [
       "(\"pglib_opf_case162_ieee_dtc\", [108080.0, 120990.0, 108690.0])"
      ]
     },
     "execution_count": 59,
     "metadata": {},
     "output_type": "execute_result"
    }
   ],
   "source": [
    "case_test = case_tests[12]"
   ]
  },
  {
   "cell_type": "code",
   "execution_count": 60,
   "metadata": {
    "ExecuteTime": {
     "end_time": "2021-12-27T16:00:29.393000-03:00",
     "start_time": "2021-12-27T18:59:46.841Z"
    }
   },
   "outputs": [
    {
     "data": {
      "text/plain": [
       "108080.0"
      ]
     },
     "execution_count": 60,
     "metadata": {},
     "output_type": "execute_result"
    }
   ],
   "source": [
    "filepath = joinpath(full_data,case_test[1]*\".m\")\n",
    "optimal_value = case_test[2][1]"
   ]
  },
  {
   "cell_type": "markdown",
   "metadata": {},
   "source": [
    "### Non linear - IPOPT"
   ]
  },
  {
   "cell_type": "code",
   "execution_count": 61,
   "metadata": {
    "ExecuteTime": {
     "end_time": "2021-12-27T16:00:29.464000-03:00",
     "start_time": "2021-12-27T18:59:46.844Z"
    }
   },
   "outputs": [],
   "source": [
    "model_nl = build_problem(filepath,ipopt,NL);"
   ]
  },
  {
   "cell_type": "code",
   "execution_count": 62,
   "metadata": {
    "ExecuteTime": {
     "end_time": "2021-12-27T16:00:31.087000-03:00",
     "start_time": "2021-12-27T18:59:46.846Z"
    },
    "scrolled": true
   },
   "outputs": [
    {
     "name": "stdout",
     "output_type": "stream",
     "text": [
      "This is Ipopt version 3.14.4, running with linear solver MUMPS 5.4.1.\n",
      "\n",
      "Number of nonzeros in equality constraint Jacobian...:    13065\n",
      "Number of nonzeros in inequality constraint Jacobian.:     6328\n",
      "Number of nonzeros in Lagrangian Hessian.............:    10544\n",
      "\n",
      "Total number of variables............................:     1484\n",
      "                     variables with only lower bounds:        0\n",
      "                variables with lower and upper bounds:     1484\n",
      "                     variables with only upper bounds:        0\n",
      "Total number of equality constraints.................:     1461\n",
      "Total number of inequality constraints...............:     1460\n",
      "        inequality constraints with only lower bounds:      446\n",
      "   inequality constraints with lower and upper bounds:        0\n",
      "        inequality constraints with only upper bounds:     1014\n",
      "\n",
      "iter    objective    inf_pr   inf_du lg(mu)  ||d||  lg(rg) alpha_du alpha_pr  ls\n",
      "   0  2.4429173e+04 2.56e+01 9.14e+00  -1.0 0.00e+00    -  0.00e+00 0.00e+00   0\n",
      "   1  2.9356507e+04 2.36e+01 3.13e+01  -1.0 2.77e+01    -  2.32e-03 7.57e-02h  1\n",
      "   2  3.0527008e+04 2.33e+01 3.95e+01  -1.0 2.24e+01   2.0 9.38e-03 1.30e-02h  1\n",
      "   3  3.0561912e+04 2.33e+01 2.20e+02  -1.0 2.24e+01   1.5 3.47e-02 3.89e-04h  1\n",
      "   4  3.2399173e+04 2.28e+01 2.22e+02  -1.0 2.33e+01   1.0 2.75e-02 2.19e-02h  1\n",
      "   5  3.2420981e+04 2.28e+01 3.01e+02  -1.0 2.28e+01   1.5 7.94e-03 2.57e-04h  1\n",
      "   6  3.2792093e+04 2.27e+01 4.23e+02  -1.0 2.06e+01   1.0 3.25e-05 3.63e-03h  1\n",
      "   7  3.3294156e+04 2.26e+01 5.99e+02  -1.0 2.23e+01   1.4 3.46e-03 5.89e-03h  1\n",
      "   8  3.3886679e+04 2.24e+01 5.91e+02  -1.0 2.03e+01   0.9 9.66e-03 6.98e-03h  1\n",
      "   9  3.4535986e+04 2.22e+01 1.09e+03  -1.0 2.12e+01   1.4 2.30e-02 7.88e-03h  1\n",
      "iter    objective    inf_pr   inf_du lg(mu)  ||d||  lg(rg) alpha_du alpha_pr  ls\n",
      "  10  3.6934138e+04 2.16e+01 1.74e+03  -1.0 2.08e+01   0.9 5.73e-02 2.93e-02h  1\n",
      "  11  3.8737556e+04 2.11e+01 4.06e+02  -1.0 2.15e+01   1.3 2.16e-03 2.36e-02h  1\n",
      "  12  4.0034818e+04 2.07e+01 4.18e+02  -1.0 2.13e+01   0.8 2.48e-02 1.72e-02h  1\n",
      "  13  4.1576722e+04 2.03e+01 3.89e+02  -1.0 2.49e+01   0.4 8.80e-02 2.06e-02h  1\n",
      "  14  4.3276982e+04 1.98e+01 1.92e+03  -1.0 2.18e+01   0.8 8.35e-02 2.41e-02h  1\n",
      "  15  4.5459865e+04 1.92e+01 1.14e+03  -1.0 2.16e+01   0.3 1.27e-02 3.10e-02h  1\n",
      "  16  4.6417032e+04 1.89e+01 1.10e+03  -1.0 3.79e+01  -0.2 2.38e-02 1.44e-02h  1\n",
      "  17  4.9139575e+04 1.81e+01 1.08e+03  -1.0 2.09e+01   0.3 1.74e-02 4.19e-02h  1\n",
      "  18  5.0181064e+04 1.78e+01 1.08e+03  -1.0 3.00e+01  -0.2 1.18e-02 1.59e-02h  1\n",
      "  19  5.0361876e+04 1.78e+01 1.14e+03  -1.0 2.26e+01   0.2 6.80e-03 3.13e-03h  1\n",
      "iter    objective    inf_pr   inf_du lg(mu)  ||d||  lg(rg) alpha_du alpha_pr  ls\n",
      "  20  5.2343132e+04 1.72e+01 1.03e+03  -1.0 4.20e+01  -0.3 3.78e-02 3.10e-02h  1\n",
      "  21  5.4948126e+04 1.67e+01 7.94e+02  -1.0 1.69e+02  -0.7 5.86e-02 2.86e-02h  1\n",
      "  22  5.5556781e+04 1.65e+01 7.75e+02  -1.0 3.85e+01  -0.3 1.34e-02 1.21e-02h  1\n",
      "  23  5.6709568e+04 1.62e+01 1.00e+03  -1.0 8.81e+01  -0.8 4.20e-04 2.12e-02h  1\n",
      "  24  5.6823828e+04 1.61e+01 1.59e+03  -1.0 3.41e+01  -0.4 2.71e-02 2.27e-03h  1\n",
      "  25  5.7425361e+04 1.60e+01 1.31e+03  -1.0 1.12e+02  -0.8 1.17e-03 1.21e-02h  1\n",
      "  26  5.8479061e+04 1.56e+01 9.66e+02  -1.0 3.62e+01  -0.4 4.28e-02 2.07e-02h  1\n",
      "  27  5.8702090e+04 1.56e+01 9.62e+02  -1.0 3.98e+01  -0.9 4.05e-02 4.33e-03h  1\n",
      "  28  5.9496866e+04 1.53e+01 9.48e+02  -1.0 6.61e+01  -1.4 2.95e-02 1.49e-02h  1\n",
      "  29  6.0460578e+04 1.51e+01 9.83e+02  -1.0 4.65e+01    -  4.31e-02 1.76e-02h  1\n",
      "iter    objective    inf_pr   inf_du lg(mu)  ||d||  lg(rg) alpha_du alpha_pr  ls\n",
      "  30  6.0528594e+04 1.50e+01 9.31e+02  -1.0 2.05e+02    -  1.86e-02 1.38e-03h  1\n",
      "  31  6.1858404e+04 1.46e+01 9.08e+02  -1.0 7.55e+01    -  1.58e-02 2.71e-02h  1\n",
      "  32  6.3705294e+04 1.40e+01 1.49e+03  -1.0 7.52e+01    -  1.51e-02 4.50e-02h  1\n",
      "  33  6.4673077e+04 1.36e+01 1.43e+03  -1.0 5.83e+01    -  2.18e-02 2.55e-02h  1\n",
      "  34  6.6255160e+04 1.32e+01 1.48e+03  -1.0 9.08e+01    -  9.94e-04 2.78e-02h  1\n",
      "  35  6.6477059e+04 1.32e+01 1.38e+03  -1.0 1.00e+02    -  1.45e-02 4.02e-03h  1\n",
      "  36  6.8226413e+04 1.28e+01 1.34e+03  -1.0 1.14e+02    -  3.00e-02 3.08e-02h  1\n",
      "  37  6.8290316e+04 1.28e+01 1.34e+03  -1.0 2.94e+01    -  5.58e-03 1.52e-03h  1\n",
      "  38  7.0831026e+04 1.21e+01 1.27e+03  -1.0 1.12e+02    -  2.29e-03 4.90e-02h  1\n",
      "  39  7.4312749e+04 1.13e+01 1.19e+03  -1.0 1.88e+02    -  8.71e-03 6.69e-02h  1\n",
      "iter    objective    inf_pr   inf_du lg(mu)  ||d||  lg(rg) alpha_du alpha_pr  ls\n",
      "  40  7.5453758e+04 1.10e+01 1.16e+03  -1.0 2.16e+02    -  2.84e-02 2.53e-02h  1\n",
      "  41  7.5495861e+04 1.10e+01 1.16e+03  -1.0 8.30e+01    -  2.07e-02 1.26e-03h  1\n",
      "  42  7.5834603e+04 1.09e+01 1.15e+03  -1.0 2.13e+02    -  2.54e-03 7.99e-03h  1\n",
      "  43  7.5982060e+04 1.09e+01 1.14e+03  -1.0 1.61e+02    -  7.90e-03 4.59e-03h  1\n",
      "  44  7.8525022e+04 1.02e+01 1.08e+03  -1.0 2.45e+02    -  3.56e-03 5.93e-02h  1\n",
      "  45  7.8549096e+04 1.02e+01 1.12e+03  -1.0 3.51e+01    -  2.77e-02 6.68e-04h  1\n",
      "  46  7.9093740e+04 1.01e+01 1.06e+03  -1.0 5.11e+01    -  1.24e-03 1.48e-02h  1\n",
      "  47  8.0569588e+04 9.66e+00 1.02e+03  -1.0 5.23e+01    -  2.85e-02 4.13e-02h  1\n",
      "  48  8.5229398e+04 8.24e+00 1.32e+03  -1.0 3.40e+01    -  1.70e-03 1.46e-01h  1\n",
      "  49  8.5277546e+04 8.23e+00 1.31e+03  -1.0 3.22e+01    -  8.22e-02 1.91e-03h  1\n",
      "iter    objective    inf_pr   inf_du lg(mu)  ||d||  lg(rg) alpha_du alpha_pr  ls\n",
      "  50  8.7335652e+04 7.57e+00 1.21e+03  -1.0 3.67e+01    -  4.93e-02 8.02e-02h  1\n",
      "  51  8.7602135e+04 7.49e+00 1.20e+03  -1.0 4.45e+01    -  4.91e-02 1.05e-02h  1\n",
      "  52  8.8578683e+04 7.16e+00 1.15e+03  -1.0 3.52e+01    -  2.57e-02 4.36e-02h  1\n",
      "  53  9.1078760e+04 6.31e+00 1.01e+03  -1.0 3.41e+01    -  1.88e-01 1.19e-01h  1\n",
      "  54  9.3642595e+04 5.31e+00 8.55e+02  -1.0 2.84e+01    -  2.08e-02 1.59e-01h  1\n",
      "  55  9.4112716e+04 5.10e+00 8.21e+02  -1.0 2.86e+01    -  8.63e-02 3.93e-02h  1\n",
      "  56  9.4253553e+04 5.04e+00 8.11e+02  -1.0 3.29e+01    -  1.26e-02 1.19e-02h  1\n",
      "  57  9.6513507e+04 3.94e+00 6.37e+02  -1.0 3.11e+01    -  1.24e-01 2.19e-01h  1\n",
      "  58  9.6549134e+04 3.92e+00 8.45e+02  -1.0 2.71e+01    -  4.66e-02 4.91e-03h  1\n",
      "  59  9.6937098e+04 3.69e+00 8.90e+02  -1.0 3.14e+01    -  1.49e-01 5.94e-02h  1\n",
      "iter    objective    inf_pr   inf_du lg(mu)  ||d||  lg(rg) alpha_du alpha_pr  ls\n",
      "  60  9.7073806e+04 3.62e+00 8.72e+02  -1.0 3.36e+01    -  3.79e-02 1.83e-02h  1\n",
      "  61  9.7930452e+04 2.97e+00 7.82e+02  -1.0 3.40e+01    -  2.29e-02 1.78e-01h  1\n",
      "  62  9.8275212e+04 2.63e+00 6.94e+02  -1.0 5.45e+01    -  1.36e-01 1.15e-01h  1\n",
      "  63  9.8366556e+04 2.56e+00 6.76e+02  -1.0 7.32e+01    -  1.38e-01 2.62e-02h  1\n",
      "  64  9.8393166e+04 2.55e+00 9.91e+02  -1.0 6.94e+01    -  2.46e-02 4.45e-03h  1\n",
      "  65  9.9853146e+04 1.83e+00 5.66e+02  -1.0 7.58e+01    -  8.37e-03 2.82e-01h  1\n",
      "  66  9.9959916e+04 1.79e+00 5.73e+02  -1.0 8.56e+01    -  5.65e-02 2.30e-02h  1\n",
      "  67  1.0406407e+05 7.76e-01 3.60e+02  -1.0 5.41e+01    -  2.38e-01 5.66e-01h  1\n",
      "  68  1.0452681e+05 6.18e-01 1.67e+02  -1.0 5.19e+01    -  4.25e-01 2.04e-01h  1\n",
      "  69  1.0488314e+05 4.85e-01 1.44e+02  -1.0 5.37e+01    -  1.62e-01 2.15e-01h  1\n",
      "iter    objective    inf_pr   inf_du lg(mu)  ||d||  lg(rg) alpha_du alpha_pr  ls\n",
      "  70  1.0544660e+05 3.05e-01 8.88e+01  -1.0 4.21e+01    -  5.15e-01 3.71e-01h  1\n",
      "  71  1.0547412e+05 3.00e-01 3.73e+02  -1.0 4.16e+00    -  1.81e-01 1.90e-02h  1\n",
      "  72  1.0569200e+05 2.58e-01 8.73e+02  -1.0 2.83e+01    -  3.77e-02 1.40e-01h  1\n",
      "  73  1.0676811e+05 8.27e-02 2.57e+02  -1.0 1.08e+01    -  4.78e-01 6.79e-01h  1\n",
      "  74  1.0702644e+05 4.61e-02 6.72e+02  -1.0 2.92e+00    -  1.38e-01 4.43e-01h  1\n",
      "  75  1.0706982e+05 3.94e-02 7.75e+02  -1.0 4.56e+00    -  1.00e+00 1.45e-01h  1\n",
      "  76  1.0725020e+05 1.32e-02 6.87e+02  -1.0 2.64e+00    -  1.00e+00 6.65e-01h  1\n",
      "  77  1.0733638e+05 5.24e-03 4.19e+02  -1.0 2.46e+00    -  7.14e-01 6.03e-01h  1\n",
      "  78  1.0742107e+05 1.63e-03 1.48e+00  -1.0 2.26e+00    -  1.00e+00 1.00e+00h  1\n",
      "  79  1.0741629e+05 5.70e-05 1.07e-01  -1.0 3.03e-01    -  1.00e+00 1.00e+00h  1\n",
      "iter    objective    inf_pr   inf_du lg(mu)  ||d||  lg(rg) alpha_du alpha_pr  ls\n",
      "  80  1.0734087e+05 8.14e-04 2.41e+02  -2.5 2.95e+00    -  5.56e-01 8.44e-01f  1\n",
      "  81  1.0732220e+05 1.97e-03 2.21e+01  -2.5 1.53e+00    -  9.27e-01 9.09e-01f  1\n",
      "  82  1.0732135e+05 5.12e-04 2.26e+01  -2.5 1.98e-01    -  1.00e+00 8.19e-01h  1\n",
      "  83  1.0732154e+05 5.23e-06 1.70e-03  -2.5 3.18e-02    -  1.00e+00 1.00e+00f  1\n",
      "  84  1.0731930e+05 4.96e-06 8.39e-01  -3.8 1.10e-01    -  1.00e+00 9.43e-01f  1\n",
      "  85  1.0731921e+05 2.03e-07 5.56e-05  -3.8 6.56e-03    -  1.00e+00 1.00e+00f  1\n",
      "  86  1.0731908e+05 2.86e-08 1.03e-05  -5.7 5.47e-03    -  1.00e+00 1.00e+00h  1\n",
      "  87  1.0731908e+05 1.50e-11 4.11e-09  -8.6 6.23e-05    -  1.00e+00 1.00e+00h  1\n",
      "\n",
      "Number of Iterations....: 87\n",
      "\n",
      "                                   (scaled)                 (unscaled)\n",
      "Objective...............:   2.7882345107877095e+03    1.0731908219082520e+05\n",
      "Dual infeasibility......:   4.1106650254529350e-09    1.5821940228438790e-07\n",
      "Constraint violation....:   1.5022982857715306e-11    1.5022982857715306e-11\n",
      "Variable bound violation:   1.1253088239016051e-07    1.1253088239016051e-07\n",
      "Complementarity.........:   3.7987844292582432e-09    1.4621512531010791e-07\n",
      "Overall NLP error.......:   4.1106650254529350e-09    1.5821940228438790e-07\n",
      "\n",
      "\n",
      "Number of objective function evaluations             = 88\n",
      "Number of objective gradient evaluations             = 88\n",
      "Number of equality constraint evaluations            = 88\n",
      "Number of inequality constraint evaluations          = 88\n",
      "Number of equality constraint Jacobian evaluations   = 88\n",
      "Number of inequality constraint Jacobian evaluations = 88\n",
      "Number of Lagrangian Hessian evaluations             = 87\n",
      "Total seconds in IPOPT                               = 1.616\n",
      "\n",
      "EXIT: Optimal Solution Found.\n"
     ]
    }
   ],
   "source": [
    "optimize!(model_nl)"
   ]
  },
  {
   "cell_type": "code",
   "execution_count": 63,
   "metadata": {
    "ExecuteTime": {
     "end_time": "2021-12-27T16:00:31.088000-03:00",
     "start_time": "2021-12-27T18:59:46.848Z"
    }
   },
   "outputs": [
    {
     "data": {
      "text/plain": [
       "0.7040320218123645"
      ]
     },
     "execution_count": 63,
     "metadata": {},
     "output_type": "execute_result"
    }
   ],
   "source": [
    "optimality_gap(model_nl,optimal_value)"
   ]
  },
  {
   "cell_type": "markdown",
   "metadata": {},
   "source": [
    "### McCormick Relaxation - MOSEK"
   ]
  },
  {
   "cell_type": "code",
   "execution_count": 64,
   "metadata": {
    "ExecuteTime": {
     "end_time": "2021-12-27T16:00:31.196000-03:00",
     "start_time": "2021-12-27T18:59:46.851Z"
    }
   },
   "outputs": [],
   "source": [
    "model_mc = build_problem(filepath,mosek,MC);"
   ]
  },
  {
   "cell_type": "code",
   "execution_count": 65,
   "metadata": {
    "ExecuteTime": {
     "end_time": "2021-12-27T16:00:31.674000-03:00",
     "start_time": "2021-12-27T18:59:46.853Z"
    },
    "scrolled": true
   },
   "outputs": [
    {
     "name": "stdout",
     "output_type": "stream",
     "text": [
      "Problem\n",
      "  Name                   :                 \n",
      "  Objective sense        : min             \n",
      "  Type                   : CONIC (conic optimization problem)\n",
      "  Constraints            : 12577           \n",
      "  Cones                  : 569             \n",
      "  Scalar variables       : 108735          \n",
      "  Matrix variables       : 0               \n",
      "  Integer variables      : 0               \n",
      "\n",
      "Optimizer started.\n",
      "Presolve started.\n",
      "Linear dependency checker started.\n",
      "Linear dependency checker terminated.\n",
      "Eliminator started.\n",
      "Freed constraints in eliminator : 609\n",
      "Eliminator terminated.\n",
      "Eliminator started.\n",
      "Freed constraints in eliminator : 5\n",
      "Eliminator terminated.\n",
      "Eliminator - tries                  : 2                 time                   : 0.00            \n",
      "Lin. dep.  - tries                  : 1                 time                   : 0.01            \n",
      "Lin. dep.  - number                 : 0               \n",
      "Presolve terminated. Time: 0.08    \n",
      "Problem\n",
      "  Name                   :                 \n",
      "  Objective sense        : min             \n",
      "  Type                   : CONIC (conic optimization problem)\n",
      "  Constraints            : 12577           \n",
      "  Cones                  : 569             \n",
      "  Scalar variables       : 108735          \n",
      "  Matrix variables       : 0               \n",
      "  Integer variables      : 0               \n",
      "\n",
      "Optimizer  - threads                : 6               \n",
      "Optimizer  - solved problem         : the dual        \n",
      "Optimizer  - Constraints            : 3043\n",
      "Optimizer  - Cones                  : 569\n",
      "Optimizer  - Scalar variables       : 14227             conic                  : 3009            \n",
      "Optimizer  - Semi-definite variables: 0                 scalarized             : 0               \n",
      "Factor     - setup time             : 0.03              dense det. time        : 0.01            \n",
      "Factor     - ML order time          : 0.00              GP order time          : 0.00            \n",
      "Factor     - nonzeros before factor : 2.38e+04          after factor           : 7.15e+04        \n",
      "Factor     - dense dim.             : 50                flops                  : 4.45e+06        \n",
      "ITE PFEAS    DFEAS    GFEAS    PRSTATUS   POBJ              DOBJ              MU       TIME  \n",
      "0   9.2e+03  1.9e+03  4.8e+03  0.00e+00   1.077207280e+04   5.974206779e+03   1.0e+00  0.11  \n",
      "1   6.0e+03  1.3e+03  3.9e+03  -9.98e-01  8.465070740e+03   3.673599868e+03   6.5e-01  0.13  \n",
      "2   3.1e+03  6.4e+02  2.7e+03  -9.92e-01  7.699862170e+02   -3.971055305e+03  3.3e-01  0.13  \n",
      "3   2.3e+03  4.9e+02  2.3e+03  -9.29e-01  1.897427545e+03   -2.723139308e+03  2.5e-01  0.13  \n",
      "4   1.5e+03  3.1e+02  1.7e+03  -8.35e-01  1.275960993e+03   -2.957322767e+03  1.6e-01  0.14  \n",
      "5   1.0e+03  2.1e+02  1.2e+03  -5.64e-01  2.061010831e+03   -1.652897893e+03  1.1e-01  0.14  \n",
      "6   7.6e+02  1.6e+02  8.9e+02  -3.09e-01  2.908448837e+03   -3.691448032e+02  8.3e-02  0.14  \n",
      "7   5.4e+02  1.1e+02  6.1e+02  -1.20e-01  5.241516178e+03   2.503257104e+03   5.9e-02  0.16  \n",
      "8   4.3e+02  9.0e+01  4.6e+02  1.19e-01   6.942475234e+03   4.578486185e+03   4.7e-02  0.16  \n",
      "9   3.4e+02  7.1e+01  3.4e+02  2.51e-01   8.599670079e+03   6.582841783e+03   3.7e-02  0.16  \n",
      "10  1.8e+02  3.8e+01  1.5e+02  3.86e-01   1.260894632e+04   1.136884755e+04   2.0e-02  0.16  \n",
      "11  1.4e+02  2.9e+01  1.0e+02  6.36e-01   1.394848029e+04   1.295923459e+04   1.5e-02  0.17  \n",
      "12  9.5e+01  2.0e+01  6.1e+01  7.05e-01   1.534327292e+04   1.461988740e+04   1.0e-02  0.17  \n",
      "13  8.6e+01  1.8e+01  5.3e+01  7.77e-01   1.569667321e+04   1.503763841e+04   9.3e-03  0.17  \n",
      "14  5.6e+01  1.2e+01  2.9e+01  7.90e-01   1.683166559e+04   1.638398844e+04   6.1e-03  0.19  \n",
      "15  4.7e+01  9.9e+00  2.3e+01  8.46e-01   1.719898617e+04   1.681388264e+04   5.1e-03  0.19  \n",
      "16  4.1e+01  8.6e+00  1.9e+01  8.65e-01   1.748733902e+04   1.714889078e+04   4.5e-03  0.19  \n",
      "17  2.7e+01  5.6e+00  1.0e+01  8.77e-01   1.822207653e+04   1.799612468e+04   2.9e-03  0.20  \n",
      "18  1.4e+01  3.0e+00  4.3e+00  9.12e-01   1.896043650e+04   1.883574203e+04   1.6e-03  0.20  \n",
      "19  1.0e+01  2.2e+00  2.7e+00  9.48e-01   1.922715963e+04   1.913589635e+04   1.1e-03  0.20  \n",
      "20  5.4e+00  1.1e+00  1.0e+00  9.57e-01   1.959148452e+04   1.954410221e+04   5.8e-04  0.22  \n",
      "21  3.5e+00  7.3e-01  5.5e-01  9.70e-01   1.973514898e+04   1.970393362e+04   3.8e-04  0.22  \n",
      "22  1.5e+00  3.1e-01  1.6e-01  9.76e-01   1.990136738e+04   1.988795696e+04   1.6e-04  0.22  \n",
      "23  5.7e-01  1.2e-01  3.8e-02  9.86e-01   1.998245223e+04   1.997731855e+04   6.2e-05  0.23  \n",
      "24  1.6e-01  3.4e-02  6.0e-03  9.93e-01   2.002075659e+04   2.001929145e+04   1.8e-05  0.23  \n",
      "25  5.6e-02  1.2e-02  1.2e-03  9.96e-01   2.003120011e+04   2.003068851e+04   6.1e-06  0.23  \n",
      "26  2.0e-02  4.2e-03  2.7e-04  9.98e-01   2.003488183e+04   2.003469785e+04   2.2e-06  0.25  \n",
      "27  1.1e-02  2.3e-03  1.1e-04  9.99e-01   2.003582066e+04   2.003571889e+04   1.2e-06  0.25  \n",
      "28  3.0e-03  6.2e-04  1.5e-05  9.99e-01   2.003667916e+04   2.003665216e+04   3.2e-07  0.25  \n",
      "29  3.7e-04  7.8e-05  6.8e-07  1.00e+00   2.003695502e+04   2.003695164e+04   4.0e-08  0.27  \n",
      "30  4.3e-05  9.0e-06  2.7e-08  1.00e+00   2.003699028e+04   2.003698989e+04   4.7e-09  0.27  \n",
      "31  1.3e-06  2.8e-07  1.5e-10  1.00e+00   2.003699475e+04   2.003699474e+04   1.5e-10  0.28  \n",
      "Optimizer terminated. Time: 0.30    \n",
      "\n"
     ]
    }
   ],
   "source": [
    "optimize!(model_mc)"
   ]
  },
  {
   "cell_type": "code",
   "execution_count": 66,
   "metadata": {
    "ExecuteTime": {
     "end_time": "2021-12-27T16:00:31.681000-03:00",
     "start_time": "2021-12-27T18:59:46.855Z"
    }
   },
   "outputs": [
    {
     "data": {
      "text/plain": [
       "81.46095969300735"
      ]
     },
     "execution_count": 66,
     "metadata": {},
     "output_type": "execute_result"
    }
   ],
   "source": [
    "optimality_gap_mosek(model_mc,optimal_value,filepath)"
   ]
  },
  {
   "cell_type": "markdown",
   "metadata": {},
   "source": [
    "### Semidefinite Relaxation - MOSEK"
   ]
  },
  {
   "cell_type": "code",
   "execution_count": 67,
   "metadata": {
    "ExecuteTime": {
     "end_time": "2021-12-27T16:00:31.795000-03:00",
     "start_time": "2021-12-27T18:59:46.858Z"
    }
   },
   "outputs": [],
   "source": [
    "model_sdp = build_problem(filepath,mosek,SDP);"
   ]
  },
  {
   "cell_type": "code",
   "execution_count": 68,
   "metadata": {
    "ExecuteTime": {
     "end_time": "2021-12-27T16:00:41.332000-03:00",
     "start_time": "2021-12-27T18:59:46.860Z"
    },
    "scrolled": true
   },
   "outputs": [
    {
     "name": "stdout",
     "output_type": "stream",
     "text": [
      "Problem\n",
      "  Name                   :                 \n",
      "  Objective sense        : min             \n",
      "  Type                   : CONIC (conic optimization problem)\n",
      "  Constraints            : 4464            \n",
      "  Cones                  : 569             \n",
      "  Scalar variables       : 3435            \n",
      "  Matrix variables       : 1               \n",
      "  Integer variables      : 0               \n",
      "\n",
      "Optimizer started.\n",
      "Presolve started.\n",
      "Linear dependency checker started.\n",
      "Linear dependency checker terminated.\n",
      "Eliminator started.\n",
      "Freed constraints in eliminator : 11\n",
      "Eliminator terminated.\n",
      "Eliminator - tries                  : 1                 time                   : 0.00            \n",
      "Lin. dep.  - tries                  : 1                 time                   : 0.00            \n",
      "Lin. dep.  - number                 : 0               \n",
      "Presolve terminated. Time: 0.00    \n",
      "Problem\n",
      "  Name                   :                 \n",
      "  Objective sense        : min             \n",
      "  Type                   : CONIC (conic optimization problem)\n",
      "  Constraints            : 4464            \n",
      "  Cones                  : 569             \n",
      "  Scalar variables       : 3435            \n",
      "  Matrix variables       : 1               \n",
      "  Integer variables      : 0               \n",
      "\n",
      "Optimizer  - threads                : 6               \n",
      "Optimizer  - solved problem         : the primal      \n",
      "Optimizer  - Constraints            : 2166\n",
      "Optimizer  - Cones                  : 567\n",
      "Optimizer  - Scalar variables       : 2996              conic                  : 2264            \n",
      "Optimizer  - Semi-definite variables: 1                 scalarized             : 52650           \n",
      "Factor     - setup time             : 0.09              dense det. time        : 0.00            \n",
      "Factor     - ML order time          : 0.05              GP order time          : 0.00            \n",
      "Factor     - nonzeros before factor : 1.81e+06          after factor           : 1.81e+06        \n",
      "Factor     - dense dim.             : 0                 flops                  : 2.34e+09        \n",
      "ITE PFEAS    DFEAS    GFEAS    PRSTATUS   POBJ              DOBJ              MU       TIME  \n",
      "0   2.2e+02  2.7e+03  4.8e+03  0.00e+00   1.862440513e+04   1.382905641e+04   1.0e+00  0.13  \n",
      "1   1.2e+02  1.5e+03  3.5e+03  -9.88e-01  1.306177404e+04   8.313760852e+03   5.5e-01  0.30  \n",
      "2   7.1e+01  8.9e+02  2.6e+03  -9.44e-01  8.727150701e+03   4.151046820e+03   3.3e-01  0.44  \n",
      "3   5.7e+01  7.1e+02  2.2e+03  -8.00e-01  9.315651486e+03   4.929058075e+03   2.6e-01  0.56  \n",
      "4   4.7e+01  5.9e+02  1.9e+03  -6.82e-01  9.781801472e+03   5.601993253e+03   2.2e-01  0.69  \n",
      "5   2.0e+01  2.5e+02  9.2e+02  -5.70e-01  1.016148675e+04   7.097046984e+03   9.3e-02  0.83  \n",
      "6   9.4e+00  1.2e+02  3.7e+02  -3.82e-02  1.221160097e+04   1.028907972e+04   4.3e-02  0.95  \n",
      "7   4.8e+00  6.0e+01  1.5e+02  3.68e-01   1.471164014e+04   1.353718066e+04   2.2e-02  1.08  \n",
      "8   3.4e+00  4.3e+01  1.0e+02  5.10e-01   1.589065228e+04   1.495613094e+04   1.6e-02  1.20  \n",
      "9   3.1e+00  3.9e+01  9.4e+01  3.97e-01   1.618182436e+04   1.527557957e+04   1.4e-02  1.34  \n",
      "10  2.6e+00  3.2e+01  7.7e+01  4.05e-01   1.681147159e+04   1.598937270e+04   1.2e-02  1.47  \n",
      "11  1.9e+00  2.4e+01  5.5e+01  3.98e-01   1.780962646e+04   1.711490247e+04   8.8e-03  1.59  \n",
      "12  1.7e+00  2.2e+01  5.0e+01  2.58e-01   1.816217746e+04   1.749717563e+04   7.9e-03  1.73  \n",
      "13  1.3e+00  1.7e+01  3.9e+01  2.35e-01   1.897742568e+04   1.837995919e+04   6.2e-03  1.86  \n",
      "14  1.1e+00  1.4e+01  3.2e+01  1.71e-01   1.963109624e+04   1.907582880e+04   5.1e-03  2.00  \n",
      "15  8.2e-01  1.0e+01  2.3e+01  1.37e-01   2.080526250e+04   2.032665526e+04   3.7e-03  2.13  \n",
      "16  7.9e-01  9.9e+00  2.4e+01  -1.51e-01  2.034684000e+04   1.984089427e+04   3.6e-03  2.27  \n",
      "17  6.1e-01  7.6e+00  2.0e+01  -1.68e-01  2.110360077e+04   2.063051894e+04   2.8e-03  2.39  \n",
      "18  4.9e-01  6.1e+00  1.5e+01  1.22e-01   2.235831843e+04   2.194032466e+04   2.2e-03  2.53  \n",
      "19  4.8e-01  5.9e+00  1.5e+01  -4.30e-02  2.239680868e+04   2.198005083e+04   2.2e-03  2.66  \n",
      "20  3.8e-01  4.7e+00  1.2e+01  6.81e-03   2.357972117e+04   2.320278650e+04   1.7e-03  2.78  \n",
      "21  3.2e-01  3.9e+00  1.0e+01  3.20e-02   2.446371500e+04   2.411472299e+04   1.4e-03  2.92  \n",
      "22  2.4e-01  3.0e+00  7.8e+00  1.91e-02   2.581655005e+04   2.550655966e+04   1.1e-03  3.05  \n",
      "23  1.8e-01  2.2e+00  6.0e+00  -1.62e-02  2.716050621e+04   2.688196053e+04   8.1e-04  3.19  \n",
      "24  1.2e-01  1.6e+00  4.6e+00  -1.57e-01  2.839278676e+04   2.813978073e+04   5.7e-04  3.31  \n",
      "25  1.0e-01  1.3e+00  3.8e+00  -3.03e-01  2.952542989e+04   2.928923804e+04   4.6e-04  3.45  \n",
      "26  9.6e-02  1.2e+00  3.7e+00  -4.03e-03  2.974697570e+04   2.951346902e+04   4.4e-04  3.58  \n",
      "27  7.6e-02  9.5e-01  3.0e+00  2.23e-03   3.148517859e+04   3.127323855e+04   3.5e-04  3.72  \n",
      "28  5.8e-02  7.3e-01  2.3e+00  -3.96e-02  3.338717643e+04   3.319556144e+04   2.7e-04  3.84  \n",
      "29  4.1e-02  5.1e-01  1.7e+00  -1.10e-01  3.561873604e+04   3.544831629e+04   1.9e-04  3.98  \n",
      "30  3.2e-02  4.0e-01  1.4e+00  -2.46e-01  3.721345464e+04   3.705432756e+04   1.5e-04  4.13  \n",
      "31  2.7e-02  3.4e-01  1.2e+00  -4.10e-02  4.001680937e+04   3.987687256e+04   1.2e-04  4.26  \n",
      "32  1.9e-02  2.4e-01  8.1e-01  -3.45e-02  4.381434248e+04   4.369655798e+04   8.7e-05  4.41  \n",
      "33  1.7e-02  2.1e-01  7.3e-01  6.58e-03   4.492269139e+04   4.481058206e+04   7.8e-05  4.55  \n",
      "34  1.3e-02  1.6e-01  5.5e-01  4.12e-02   4.793318412e+04   4.783606697e+04   5.9e-05  4.69  \n",
      "35  9.9e-03  1.2e-01  4.4e-01  -4.81e-03  5.059479461e+04   5.050785924e+04   4.5e-05  4.81  \n",
      "36  7.2e-03  9.0e-02  3.2e-01  7.49e-02   5.417218093e+04   5.409857779e+04   3.3e-05  4.95  \n",
      "37  5.9e-03  7.3e-02  2.6e-01  1.11e-01   5.653100943e+04   5.646496963e+04   2.7e-05  5.09  \n",
      "38  5.3e-03  6.6e-02  2.3e-01  1.14e-01   5.771399449e+04   5.765116544e+04   2.4e-05  5.22  \n",
      "39  4.0e-03  5.1e-02  1.8e-01  1.80e-01   6.089609295e+04   6.084279543e+04   1.9e-05  5.34  \n",
      "40  3.0e-03  3.8e-02  1.3e-01  2.22e-01   6.429372635e+04   6.424939602e+04   1.4e-05  5.48  \n",
      "41  2.3e-03  2.8e-02  9.7e-02  1.88e-01   6.725382785e+04   6.721537398e+04   1.0e-05  5.61  \n",
      "42  1.8e-03  2.3e-02  8.0e-02  1.33e-01   6.946153135e+04   6.942686893e+04   8.4e-06  5.75  \n",
      "43  1.6e-03  2.0e-02  6.9e-02  2.13e-01   7.111950362e+04   7.108781143e+04   7.5e-06  5.92  \n",
      "44  1.3e-03  1.6e-02  5.4e-02  2.66e-01   7.360037928e+04   7.357303165e+04   5.9e-06  6.06  \n",
      "45  1.1e-03  1.3e-02  4.6e-02  1.88e-01   7.458719240e+04   7.456189404e+04   4.9e-06  6.20  \n",
      "46  1.0e-03  1.3e-02  4.3e-02  1.65e-01   7.561976003e+04   7.559549749e+04   4.8e-06  6.36  \n",
      "47  9.9e-04  1.2e-02  4.2e-02  2.03e-01   7.598359875e+04   7.595988585e+04   4.6e-06  6.50  \n",
      "48  8.0e-04  1.0e-02  3.3e-02  2.02e-01   7.805095381e+04   7.803012553e+04   3.7e-06  6.64  \n",
      "49  5.7e-04  7.1e-03  2.1e-02  4.22e-01   8.299039220e+04   8.297524860e+04   2.6e-06  6.76  \n",
      "50  4.9e-04  6.1e-03  1.7e-02  4.08e-01   8.445493107e+04   8.444148086e+04   2.2e-06  6.91  \n",
      "51  2.6e-04  3.3e-03  8.3e-03  4.69e-01   8.952854354e+04   8.952023787e+04   1.2e-06  7.03  \n",
      "52  2.4e-04  2.9e-03  7.7e-03  3.91e-01   8.994342190e+04   8.993545328e+04   1.1e-06  7.17  \n",
      "53  2.0e-04  2.5e-03  6.9e-03  1.21e-01   9.063476448e+04   9.062723591e+04   9.3e-07  7.31  \n",
      "54  1.9e-04  2.4e-03  6.4e-03  2.26e-01   9.118056962e+04   9.117341756e+04   8.7e-07  7.45  \n",
      "55  1.3e-04  1.6e-03  4.1e-03  2.06e-01   9.411264341e+04   9.410734720e+04   5.9e-07  7.59  \n",
      "56  9.9e-05  1.2e-03  3.0e-03  4.85e-01   9.597538359e+04   9.597122033e+04   4.5e-07  7.72  \n",
      "57  7.7e-05  9.6e-04  2.1e-03  5.57e-01   9.754478598e+04   9.754146095e+04   3.5e-07  7.84  \n",
      "58  7.1e-05  8.8e-04  2.0e-03  4.98e-01   9.778648157e+04   9.778334567e+04   3.2e-07  7.98  \n",
      "59  4.9e-05  6.2e-04  1.2e-03  5.90e-01   9.993313149e+04   9.993093424e+04   2.3e-07  8.11  \n",
      "60  2.3e-05  2.9e-04  4.5e-04  6.77e-01   1.027040360e+05   1.027029937e+05   1.1e-07  8.25  \n",
      "61  1.9e-05  2.4e-04  3.5e-04  7.17e-01   1.032159506e+05   1.032151060e+05   8.7e-08  8.38  \n",
      "62  1.1e-05  1.4e-04  1.8e-04  7.43e-01   1.043954465e+05   1.043949520e+05   5.2e-08  8.52  \n",
      "63  3.9e-06  4.8e-05  3.9e-05  8.37e-01   1.057763843e+05   1.057762464e+05   1.8e-08  8.66  \n",
      "64  1.1e-06  1.4e-05  6.8e-06  9.31e-01   1.063875313e+05   1.063875018e+05   5.2e-09  8.78  \n"
     ]
    },
    {
     "name": "stdout",
     "output_type": "stream",
     "text": [
      "65  4.9e-07  6.1e-06  2.0e-06  9.75e-01   1.065513990e+05   1.065513871e+05   2.2e-09  8.92  \n",
      "66  3.7e-07  4.7e-06  1.3e-06  9.74e-01   1.065810025e+05   1.065809940e+05   1.7e-09  9.06  \n",
      "67  3.0e-08  3.7e-07  3.3e-08  9.89e-01   1.066750877e+05   1.066750873e+05   1.4e-10  9.20  \n",
      "68  3.0e-09  8.3e-08  1.1e-09  9.99e-01   1.066831056e+05   1.066831055e+05   1.4e-11  9.34  \n",
      "69  4.7e-11  4.6e-07  2.1e-12  1.00e+00   1.066839956e+05   1.066839956e+05   2.2e-13  9.48  \n",
      "Optimizer terminated. Time: 9.48    \n",
      "\n"
     ]
    }
   ],
   "source": [
    "optimize!(model_sdp)"
   ]
  },
  {
   "cell_type": "code",
   "execution_count": 69,
   "metadata": {
    "ExecuteTime": {
     "end_time": "2021-12-27T16:00:41.339000-03:00",
     "start_time": "2021-12-27T18:59:46.863Z"
    }
   },
   "outputs": [
    {
     "data": {
      "text/plain": [
       "1.2916398716091166"
      ]
     },
     "execution_count": 69,
     "metadata": {},
     "output_type": "execute_result"
    }
   ],
   "source": [
    "optimality_gap_mosek(model_sdp,optimal_value,filepath)"
   ]
  },
  {
   "cell_type": "markdown",
   "metadata": {},
   "source": [
    "### Second Order Cone Relaxation - MOSEK"
   ]
  },
  {
   "cell_type": "code",
   "execution_count": 70,
   "metadata": {
    "ExecuteTime": {
     "end_time": "2021-12-27T16:00:41.560000-03:00",
     "start_time": "2021-12-27T18:59:46.865Z"
    }
   },
   "outputs": [],
   "source": [
    "model_socp = build_problem(filepath,mosek,SOCP);"
   ]
  },
  {
   "cell_type": "code",
   "execution_count": 71,
   "metadata": {
    "ExecuteTime": {
     "end_time": "2021-12-27T16:00:42.104000-03:00",
     "start_time": "2021-12-27T18:59:46.868Z"
    }
   },
   "outputs": [
    {
     "name": "stdout",
     "output_type": "stream",
     "text": [
      "Problem\n",
      "  Name                   :                 \n",
      "  Objective sense        : min             \n",
      "  Type                   : CONIC (conic optimization problem)\n",
      "  Constraints            : 5316            \n",
      "  Cones                  : 853             \n",
      "  Scalar variables       : 109263          \n",
      "  Matrix variables       : 0               \n",
      "  Integer variables      : 0               \n",
      "\n",
      "Optimizer started.\n",
      "Presolve started.\n",
      "Linear dependency checker started.\n",
      "Linear dependency checker terminated.\n",
      "Eliminator started.\n",
      "Freed constraints in eliminator : 912\n",
      "Eliminator terminated.\n",
      "Eliminator started.\n",
      "Freed constraints in eliminator : 37\n",
      "Eliminator terminated.\n",
      "Eliminator - tries                  : 2                 time                   : 0.00            \n",
      "Lin. dep.  - tries                  : 1                 time                   : 0.02            \n",
      "Lin. dep.  - number                 : 0               \n",
      "Presolve terminated. Time: 0.06    \n",
      "Problem\n",
      "  Name                   :                 \n",
      "  Objective sense        : min             \n",
      "  Type                   : CONIC (conic optimization problem)\n",
      "  Constraints            : 5316            \n",
      "  Cones                  : 853             \n",
      "  Scalar variables       : 109263          \n",
      "  Matrix variables       : 0               \n",
      "  Integer variables      : 0               \n",
      "\n",
      "Optimizer  - threads                : 6               \n",
      "Optimizer  - solved problem         : the dual        \n",
      "Optimizer  - Constraints            : 758\n",
      "Optimizer  - Cones                  : 853\n",
      "Optimizer  - Scalar variables       : 6182              conic                  : 3461            \n",
      "Optimizer  - Semi-definite variables: 0                 scalarized             : 0               \n",
      "Factor     - setup time             : 0.00              dense det. time        : 0.00            \n",
      "Factor     - ML order time          : 0.00              GP order time          : 0.00            \n",
      "Factor     - nonzeros before factor : 6788              after factor           : 1.60e+04        \n",
      "Factor     - dense dim.             : 28                flops                  : 5.38e+05        \n",
      "ITE PFEAS    DFEAS    GFEAS    PRSTATUS   POBJ              DOBJ              MU       TIME  \n",
      "0   2.3e+03  2.3e+03  4.8e+03  0.00e+00   0.000000000e+00   -4.797866023e+03  1.0e+00  0.09  \n",
      "1   1.6e+03  1.6e+03  4.0e+03  -9.92e-01  -5.685684260e+03  -1.046631844e+04  7.0e-01  0.11  \n",
      "2   1.3e+03  1.3e+03  3.5e+03  -9.73e-01  -6.501443253e+03  -1.124122633e+04  5.5e-01  0.11  \n",
      "3   9.0e+02  9.1e+02  2.9e+03  -9.38e-01  -6.674347193e+03  -1.130441681e+04  3.9e-01  0.11  \n",
      "4   7.3e+02  7.4e+02  2.5e+03  -8.57e-01  -6.110395565e+03  -1.062198364e+04  3.2e-01  0.11  \n",
      "5   4.0e+02  4.0e+02  1.6e+03  -7.84e-01  -4.694074085e+03  -8.703069394e+03  1.7e-01  0.11  \n",
      "6   2.8e+02  2.9e+02  1.2e+03  -5.51e-01  -3.652937493e+03  -7.336854143e+03  1.2e-01  0.11  \n",
      "7   1.8e+02  1.8e+02  8.3e+02  -4.24e-01  -1.237089802e+03  -4.393899762e+03  7.8e-02  0.11  \n",
      "8   1.3e+02  1.3e+02  5.8e+02  -1.89e-01  1.450681435e+03   -1.235139734e+03  5.5e-02  0.11  \n",
      "9   8.9e+01  9.0e+01  3.8e+02  -1.08e-02  4.294780177e+03   2.072559246e+03   3.9e-02  0.13  \n",
      "10  7.0e+01  7.1e+01  2.9e+02  1.68e-01   6.450234864e+03   4.509779742e+03   3.0e-02  0.13  \n",
      "11  5.5e+01  5.6e+01  2.2e+02  2.33e-01   8.635085762e+03   6.934461623e+03   2.4e-02  0.13  \n",
      "12  4.4e+01  4.5e+01  1.7e+02  2.68e-01   1.079114612e+04   9.298809041e+03   1.9e-02  0.13  \n",
      "13  3.8e+01  3.8e+01  1.4e+02  3.24e-01   1.229807980e+04   1.094430911e+04   1.6e-02  0.13  \n",
      "14  3.3e+01  3.3e+01  1.2e+02  3.50e-01   1.348854490e+04   1.223633399e+04   1.4e-02  0.13  \n",
      "15  2.6e+01  2.6e+01  9.4e+01  3.56e-01   1.548307223e+04   1.439328441e+04   1.1e-02  0.13  \n",
      "16  2.4e+01  2.4e+01  9.1e+01  2.59e-01   1.511528115e+04   1.401068571e+04   1.0e-02  0.14  \n",
      "17  2.0e+01  2.0e+01  7.8e+01  8.51e-02   1.580935657e+04   1.474758685e+04   8.6e-03  0.14  \n",
      "18  1.8e+01  1.8e+01  6.6e+01  1.87e-01   1.795950774e+04   1.700139865e+04   7.8e-03  0.14  \n",
      "19  1.7e+01  1.7e+01  6.5e+01  1.13e-01   1.809873346e+04   1.714754798e+04   7.5e-03  0.14  \n",
      "20  1.3e+01  1.3e+01  5.0e+01  1.10e-01   2.045006190e+04   1.959991877e+04   5.7e-03  0.14  \n",
      "21  1.2e+01  1.2e+01  4.6e+01  1.09e-01   2.107065791e+04   2.024702121e+04   5.2e-03  0.14  \n",
      "22  9.8e+00  9.9e+00  3.7e+01  9.79e-02   2.302013466e+04   2.226982288e+04   4.3e-03  0.14  \n",
      "23  7.7e+00  7.9e+00  3.2e+01  -7.95e-03  2.369169129e+04   2.296545740e+04   3.4e-03  0.16  \n",
      "24  6.0e+00  6.1e+00  2.6e+01  -1.36e-01  2.597179680e+04   2.531016115e+04   2.6e-03  0.16  \n",
      "25  5.7e+00  5.8e+00  2.4e+01  1.93e-01   2.662425422e+04   2.597984458e+04   2.5e-03  0.16  \n",
      "26  4.7e+00  4.8e+00  2.0e+01  1.66e-01   2.912347831e+04   2.854337586e+04   2.1e-03  0.16  \n",
      "27  4.1e+00  4.1e+00  1.7e+01  1.21e-01   3.068311588e+04   3.014172937e+04   1.8e-03  0.16  \n",
      "28  3.2e+00  3.2e+00  1.4e+01  6.41e-02   3.299468285e+04   3.250501009e+04   1.4e-03  0.16  \n",
      "29  2.6e+00  2.7e+00  1.2e+01  -9.20e-02  3.425847275e+04   3.379136938e+04   1.1e-03  0.16  \n",
      "30  2.4e+00  2.4e+00  1.0e+01  2.10e-01   3.646177485e+04   3.603278342e+04   1.0e-03  0.16  \n",
      "31  2.0e+00  2.0e+00  8.1e+00  1.76e-01   3.935265170e+04   3.897303025e+04   8.5e-04  0.17  \n",
      "32  1.7e+00  1.8e+00  7.2e+00  1.60e-01   4.085426088e+04   4.049560274e+04   7.6e-04  0.17  \n",
      "33  1.4e+00  1.5e+00  5.9e+00  2.02e-01   4.327415388e+04   4.295223185e+04   6.2e-04  0.17  \n",
      "34  1.3e+00  1.3e+00  5.2e+00  1.67e-01   4.470564691e+04   4.440136295e+04   5.4e-04  0.17  \n",
      "35  9.9e-01  1.0e+00  4.1e+00  1.16e-01   4.750251863e+04   4.722973245e+04   4.3e-04  0.17  \n",
      "36  9.3e-01  9.5e-01  4.0e+00  8.01e-02   4.805278508e+04   4.778339045e+04   4.1e-04  0.17  \n",
      "37  8.0e-01  8.1e-01  3.3e+00  1.34e-01   5.023131232e+04   4.998641608e+04   3.5e-04  0.17  \n",
      "38  5.8e-01  5.9e-01  2.4e+00  1.91e-01   5.444647074e+04   5.424288241e+04   2.5e-04  0.17  \n",
      "39  4.6e-01  4.7e-01  1.8e+00  2.83e-01   5.695474360e+04   5.677667284e+04   2.0e-04  0.19  \n",
      "40  4.4e-01  4.4e-01  1.7e+00  2.15e-01   5.804599596e+04   5.787641965e+04   1.9e-04  0.19  \n",
      "41  3.8e-01  3.9e-01  1.6e+00  2.05e-01   5.856926350e+04   5.840367028e+04   1.7e-04  0.19  \n",
      "42  3.5e-01  3.6e-01  1.4e+00  2.21e-01   6.074914080e+04   6.059759683e+04   1.5e-04  0.19  \n",
      "43  2.9e-01  2.9e-01  1.1e+00  2.13e-01   6.284718289e+04   6.270757000e+04   1.3e-04  0.19  \n",
      "44  2.3e-01  2.4e-01  8.9e-01  1.98e-01   6.573128120e+04   6.561122624e+04   1.0e-04  0.19  \n",
      "45  2.1e-01  2.1e-01  7.7e-01  3.66e-01   6.733004952e+04   6.721977435e+04   8.9e-05  0.19  \n",
      "46  2.0e-01  2.0e-01  7.4e-01  3.42e-01   6.774879002e+04   6.764076061e+04   8.6e-05  0.19  \n",
      "47  1.8e-01  1.8e-01  6.5e-01  3.27e-01   6.901869733e+04   6.891711499e+04   7.6e-05  0.20  \n",
      "48  1.4e-01  1.4e-01  4.9e-01  3.49e-01   7.183793122e+04   7.175251895e+04   6.0e-05  0.20  \n",
      "49  1.1e-01  1.1e-01  3.8e-01  3.98e-01   7.405700238e+04   7.398346822e+04   4.6e-05  0.20  \n",
      "50  9.6e-02  9.7e-02  3.5e-01  2.07e-01   7.431013901e+04   7.423819933e+04   4.2e-05  0.20  \n",
      "51  9.5e-02  9.6e-02  3.3e-01  2.45e-01   7.510490114e+04   7.503580454e+04   4.1e-05  0.23  \n",
      "52  8.3e-02  8.4e-02  2.8e-01  3.39e-01   7.655807166e+04   7.649484504e+04   3.6e-05  0.23  \n",
      "53  7.9e-02  8.0e-02  2.8e-01  3.18e-01   7.622757006e+04   7.616389642e+04   3.4e-05  0.23  \n",
      "54  7.6e-02  7.8e-02  2.4e-01  2.41e-01   7.830119453e+04   7.824434553e+04   3.3e-05  0.23  \n",
      "55  7.1e-02  7.2e-02  2.3e-01  4.53e-01   7.892694349e+04   7.887242765e+04   3.1e-05  0.25  \n",
      "56  5.3e-02  5.3e-02  1.6e-01  4.62e-01   8.145987418e+04   8.141565927e+04   2.3e-05  0.25  \n",
      "57  5.1e-02  5.2e-02  1.6e-01  1.70e-01   8.122616563e+04   8.117990704e+04   2.2e-05  0.25  \n",
      "58  4.7e-02  4.7e-02  1.6e-01  5.32e-02   8.158910455e+04   8.154262925e+04   2.0e-05  0.25  \n",
      "59  4.5e-02  4.6e-02  1.5e-01  5.71e-02   8.190653653e+04   8.186094086e+04   2.0e-05  0.25  \n",
      "60  4.0e-02  4.0e-02  1.3e-01  1.92e-01   8.351436639e+04   8.347356412e+04   1.7e-05  0.25  \n",
      "61  3.0e-02  3.0e-02  8.6e-02  4.36e-01   8.646672784e+04   8.643505419e+04   1.3e-05  0.25  \n",
      "62  1.6e-02  1.7e-02  3.9e-02  6.17e-01   9.077254598e+04   9.075378268e+04   7.1e-06  0.27  \n",
      "63  9.6e-03  9.8e-03  1.9e-02  7.94e-01   9.335757866e+04   9.334626169e+04   4.2e-06  0.28  \n"
     ]
    },
    {
     "name": "stdout",
     "output_type": "stream",
     "text": [
      "64  4.2e-03  4.2e-03  5.9e-03  8.82e-01   9.569009544e+04   9.568509319e+04   1.8e-06  0.28  \n",
      "65  2.1e-03  2.1e-03  2.3e-03  9.55e-01   9.668695870e+04   9.668442220e+04   9.2e-07  0.28  \n",
      "66  8.5e-04  8.6e-04  6.0e-04  9.81e-01   9.734816692e+04   9.734715268e+04   3.7e-07  0.30  \n",
      "67  2.4e-04  2.4e-04  9.3e-05  9.94e-01   9.767586648e+04   9.767557906e+04   1.0e-07  0.30  \n",
      "68  1.6e-04  1.6e-04  5.3e-05  9.98e-01   9.771830486e+04   9.771811118e+04   7.1e-08  0.30  \n",
      "69  4.9e-05  4.9e-05  9.0e-06  9.99e-01   9.778095647e+04   9.778089899e+04   2.1e-08  0.30  \n",
      "70  1.9e-05  1.9e-05  2.2e-06  9.99e-01   9.779827612e+04   9.779825411e+04   8.2e-09  0.30  \n",
      "71  5.8e-06  5.9e-06  3.8e-07  9.99e-01   9.780587624e+04   9.780586948e+04   2.5e-09  0.31  \n",
      "72  2.7e-06  2.7e-06  1.2e-07  9.99e-01   9.780774767e+04   9.780774457e+04   1.2e-09  0.31  \n",
      "73  7.4e-07  7.5e-07  1.8e-08  1.00e+00   9.780889065e+04   9.780888978e+04   3.2e-10  0.31  \n",
      "74  1.9e-07  2.0e-07  2.4e-09  1.00e+00   9.780922386e+04   9.780922363e+04   8.4e-11  0.31  \n",
      "75  4.5e-08  4.5e-08  2.6e-10  1.00e+00   9.780931440e+04   9.780931434e+04   1.9e-11  0.33  \n",
      "76  1.1e-08  1.1e-08  3.1e-11  1.00e+00   9.780933531e+04   9.780933530e+04   4.7e-12  0.33  \n",
      "Optimizer terminated. Time: 0.36    \n",
      "\n"
     ]
    }
   ],
   "source": [
    "optimize!(model_socp)"
   ]
  },
  {
   "cell_type": "code",
   "execution_count": 72,
   "metadata": {
    "ExecuteTime": {
     "end_time": "2021-12-27T16:00:42.110000-03:00",
     "start_time": "2021-12-27T18:59:46.872Z"
    }
   },
   "outputs": [
    {
     "data": {
      "text/plain": [
       "9.502835532149886"
      ]
     },
     "execution_count": 72,
     "metadata": {},
     "output_type": "execute_result"
    }
   ],
   "source": [
    "optimality_gap_mosek(model_socp,optimal_value,filepath)"
   ]
  },
  {
   "cell_type": "markdown",
   "metadata": {},
   "source": [
    "### Results"
   ]
  },
  {
   "cell_type": "code",
   "execution_count": 73,
   "metadata": {
    "ExecuteTime": {
     "end_time": "2021-12-27T16:00:42.111000-03:00",
     "start_time": "2021-12-27T18:59:46.875Z"
    }
   },
   "outputs": [],
   "source": [
    "models = [model_nl,model_mc,model_sdp,model_socp];"
   ]
  },
  {
   "cell_type": "code",
   "execution_count": 74,
   "metadata": {
    "ExecuteTime": {
     "end_time": "2021-12-27T16:00:42.333000-03:00",
     "start_time": "2021-12-27T18:59:46.877Z"
    }
   },
   "outputs": [
    {
     "data": {
      "image/png": "[encoded data removed]",
      "text/plain": [
       "Figure(PyObject <Figure size 640x480 with 1 Axes>)"
      ]
     },
     "metadata": {},
     "output_type": "display_data"
    }
   ],
   "source": [
    "plot_var(models,\"p_g\",\"Active Generation\",\"Generation (MW)\");"
   ]
  },
  {
   "cell_type": "code",
   "execution_count": 75,
   "metadata": {
    "ExecuteTime": {
     "end_time": "2021-12-27T16:00:42.505000-03:00",
     "start_time": "2021-12-27T18:59:46.880Z"
    },
    "scrolled": false
   },
   "outputs": [
    {
     "data": {
      "image/png": "[encoded data removed]",
      "text/plain": [
       "Figure(PyObject <Figure size 640x480 with 1 Axes>)"
      ]
     },
     "metadata": {},
     "output_type": "display_data"
    }
   ],
   "source": [
    "plot_var(models,\"q_g\",\"Reactive Generation\",\"Generation (MW)\");"
   ]
  },
  {
   "cell_type": "markdown",
   "metadata": {},
   "source": [
    "# Benchmark Table"
   ]
  },
  {
   "cell_type": "markdown",
   "metadata": {},
   "source": [
    "## $|\\mathcal{B}| \\leq 500 $"
   ]
  },
  {
   "cell_type": "code",
   "execution_count": 76,
   "metadata": {
    "ExecuteTime": {
     "end_time": "2021-12-27T16:00:42.550000-03:00",
     "start_time": "2021-12-27T18:59:46.883Z"
    }
   },
   "outputs": [],
   "source": [
    "tests = case_tests[1:17];"
   ]
  },
  {
   "cell_type": "markdown",
   "metadata": {},
   "source": [
    "### Typical Operating Conditions"
   ]
  },
  {
   "cell_type": "code",
   "execution_count": 77,
   "metadata": {
    "ExecuteTime": {
     "end_time": "2021-12-27T16:05:01.541000-03:00",
     "start_time": "2021-12-27T18:59:46.886Z"
    },
    "scrolled": true
   },
   "outputs": [],
   "source": [
    "cases = benchmark(tests);"
   ]
  },
  {
   "cell_type": "code",
   "execution_count": 78,
   "metadata": {
    "ExecuteTime": {
     "end_time": "2021-12-27T16:05:02.140000-03:00",
     "start_time": "2021-12-27T18:59:46.888Z"
    }
   },
   "outputs": [
    {
     "name": "stdout",
     "output_type": "stream",
     "text": [
      "                                  Percentual Error Table (%)\n",
      "\n",
      "                     File Name |      NL |      MC |     SDP |    SOCP |\n",
      "          pglib_opf_case3_lmbd |   0.001 |  39.649 |   0.390 |   2.987 |\n",
      "           pglib_opf_case5_pjm |   0.001 |  37.996 |   5.220 |  15.604 |\n",
      "         pglib_opf_case14_ieee |   0.027 | 100.000 |   0.027 |   5.433 |\n",
      "     pglib_opf_case24_ieee_rts |   0.002 |  25.282 |   0.002 |   3.639 |\n",
      "           pglib_opf_case30_as |   0.000 |  64.405 |   0.000 |   4.163 |\n",
      "         pglib_opf_case30_ieee |   0.193 | 100.000 |   0.193 |  30.315 |\n",
      "         pglib_opf_case39_epri |   0.029 |  26.361 |   0.019 |   1.619 |\n",
      "         pglib_opf_case57_ieee |   3.517 | 100.000 | 100.000 |   7.275 |\n",
      "     pglib_opf_case73_ieee_rts |   0.004 |  28.183 |   0.004 |   3.488 |\n",
      "       pglib_opf_case89_pegase |   0.058 |  54.010 |   0.428 |   2.701 |\n",
      "        pglib_opf_case118_ieee |   0.011 |  95.029 |   0.066 |   4.227 |\n",
      "    pglib_opf_case162_ieee_dtc |   0.704 |  81.461 |   1.292 |   9.503 |\n",
      "         pglib_opf_case179_goc |   0.014 |   5.737 |   0.086 |   0.404 |\n",
      "       pglib_opf_case200_activ |  33.042 |  30.713 |  33.042 |  32.830 |\n",
      "       pglib_opf_case240_pserc |   0.001 |  56.267 |   1.430 |   4.529 |\n",
      "        pglib_opf_case300_ieee |  27.447 |  94.607 |  20.655 |  10.476 |\n",
      "         pglib_opf_case500_goc |   7.819 |  34.305 |   7.819 |   9.350 |\n",
      "\n",
      "                                Time Elapsed Table\n",
      "\n",
      "                     File Name |      NL |      MC |     SDP |    SOCP |\n",
      "          pglib_opf_case3_lmbd |   0.014 |   0.003 |   0.004 |   0.002 |\n",
      "           pglib_opf_case5_pjm |   0.018 |   0.005 |   0.006 |   0.004 |\n",
      "         pglib_opf_case14_ieee |   0.034 |   0.010 |   0.022 |   0.006 |\n",
      "     pglib_opf_case24_ieee_rts |   0.068 |   0.031 |   0.089 |   0.022 |\n",
      "           pglib_opf_case30_as |   0.073 |   0.021 |   0.073 |   0.020 |\n",
      "         pglib_opf_case30_ieee |   0.078 |   0.027 |   0.089 |   0.020 |\n",
      "         pglib_opf_case39_epri |   0.083 |   0.044 |   0.202 |   0.057 |\n",
      "         pglib_opf_case57_ieee |   0.999 |   0.071 |   0.719 |   0.050 |\n",
      "     pglib_opf_case73_ieee_rts |   0.220 |   0.125 |   0.837 |   0.089 |\n",
      "       pglib_opf_case89_pegase |   0.429 |   0.149 |   2.989 |   0.190 |\n",
      "        pglib_opf_case118_ieee |   0.349 |   0.256 |   3.347 |   0.184 |\n",
      "    pglib_opf_case162_ieee_dtc |   1.602 |   0.453 |   9.175 |   0.533 |\n",
      "         pglib_opf_case179_goc |   0.730 |   0.323 |   8.200 |   0.319 |\n",
      "       pglib_opf_case200_activ |   2.794 |   0.439 |   5.656 |   0.349 |\n",
      "       pglib_opf_case240_pserc |   2.687 |   1.254 |  21.140 |   0.529 |\n",
      "        pglib_opf_case300_ieee |  25.212 |   1.069 |  54.065 |   0.848 |\n",
      "         pglib_opf_case500_goc |   2.167 |   2.544 |  91.362 |   2.024 |\n"
     ]
    }
   ],
   "source": [
    "print_cases_table(cases)"
   ]
  },
  {
   "cell_type": "code",
   "execution_count": 79,
   "metadata": {
    "ExecuteTime": {
     "end_time": "2021-12-27T16:05:02.960000-03:00",
     "start_time": "2021-12-27T18:59:46.891Z"
    }
   },
   "outputs": [
    {
     "data": {
      "image/png": "[encoded data removed]",
      "text/plain": [
       "Figure(PyObject <Figure size 640x480 with 1 Axes>)"
      ]
     },
     "metadata": {},
     "output_type": "display_data"
    },
    {
     "name": "stderr",
     "output_type": "stream",
     "text": [
      "sys:1: UserWarning: Matplotlib is currently using agg, which is a non-GUI backend, so cannot show the figure.\r\n"
     ]
    }
   ],
   "source": [
    "graph_dispersion(cases)"
   ]
  },
  {
   "cell_type": "markdown",
   "metadata": {},
   "source": [
    "### Congested Operating Conditions"
   ]
  },
  {
   "cell_type": "code",
   "execution_count": 80,
   "metadata": {
    "ExecuteTime": {
     "end_time": "2021-12-27T16:08:36.759000-03:00",
     "start_time": "2021-12-27T18:59:46.894Z"
    },
    "scrolled": true
   },
   "outputs": [],
   "source": [
    "cases = benchmark(tests,API);"
   ]
  },
  {
   "cell_type": "code",
   "execution_count": 81,
   "metadata": {
    "ExecuteTime": {
     "end_time": "2021-12-27T16:08:36.814000-03:00",
     "start_time": "2021-12-27T18:59:46.897Z"
    }
   },
   "outputs": [
    {
     "name": "stdout",
     "output_type": "stream",
     "text": [
      "                                  Percentual Error Table (%)\n",
      "\n",
      "                     File Name |      NL |      MC |     SDP |    SOCP |\n",
      "          pglib_opf_case3_lmbd |   0.003 |  39.244 |   7.299 |  11.828 |\n",
      "           pglib_opf_case5_pjm |   0.001 |  16.260 |   0.255 |   4.501 |\n",
      "         pglib_opf_case14_ieee |   0.496 | 100.000 |   0.496 |  22.012 |\n",
      "     pglib_opf_case24_ieee_rts |  22.785 |  51.034 |   3.013 |  26.272 |\n",
      "           pglib_opf_case30_as |   0.000 |  90.593 |   1.408 |  47.332 |\n",
      "         pglib_opf_case30_ieee |   0.678 | 100.000 |   0.678 |  14.798 |\n",
      "         pglib_opf_case39_epri |   3.158 |  16.090 |   2.880 |   3.321 |\n",
      "         pglib_opf_case57_ieee |   2.204 | 100.000 | 100.000 |   3.558 |\n",
      "     pglib_opf_case73_ieee_rts |  47.953 |  52.724 |   2.292 |  19.558 |\n",
      "       pglib_opf_case89_pegase |  17.275 |  92.980 |  21.510 |  25.089 |\n",
      "        pglib_opf_case118_ieee |   0.303 |  86.644 |  11.811 |  34.654 |\n",
      "    pglib_opf_case162_ieee_dtc |   0.266 |  80.169 |   0.909 |   9.363 |\n",
      "         pglib_opf_case179_goc |  10.330 |  37.792 |   0.212 |  11.483 |\n",
      "       pglib_opf_case200_activ |  20.807 |  19.863 |  20.807 |  18.944 |\n",
      "       pglib_opf_case240_pserc |   0.000 |  46.107 |   0.275 |   1.923 |\n",
      "        pglib_opf_case300_ieee |  17.068 |  93.131 |  20.498 |   4.367 |\n",
      "         pglib_opf_case500_goc | 100.000 |   1.000 |   1.000 |   1.000 |\n",
      "\n",
      "                                Time Elapsed Table\n",
      "\n",
      "                     File Name |      NL |      MC |     SDP |    SOCP |\n",
      "          pglib_opf_case3_lmbd |   0.019 |   0.003 |   0.003 |   0.002 |\n",
      "           pglib_opf_case5_pjm |   0.036 |   0.005 |   0.008 |   0.003 |\n",
      "         pglib_opf_case14_ieee |   0.047 |   0.011 |   0.025 |   0.007 |\n",
      "     pglib_opf_case24_ieee_rts |   0.662 |   0.034 |   0.110 |   0.022 |\n",
      "           pglib_opf_case30_as |   0.169 |   0.038 |   0.167 |   0.021 |\n",
      "         pglib_opf_case30_ieee |   0.234 |   0.028 |   0.114 |   0.021 |\n",
      "         pglib_opf_case39_epri |   0.420 |   0.044 |   0.368 |   0.093 |\n",
      "         pglib_opf_case57_ieee |   0.943 |   0.049 |   0.643 |   0.050 |\n",
      "     pglib_opf_case73_ieee_rts |  30.191 |   0.129 |   1.232 |   0.087 |\n",
      "       pglib_opf_case89_pegase |   2.573 |   0.237 |   3.333 |   0.174 |\n",
      "        pglib_opf_case118_ieee |   0.909 |   0.318 |   3.392 |   0.178 |\n",
      "    pglib_opf_case162_ieee_dtc |   5.061 |   0.508 |   9.566 |   0.353 |\n",
      "         pglib_opf_case179_goc |  29.543 |   0.496 |   9.637 |   0.353 |\n",
      "       pglib_opf_case200_activ |   2.751 |   0.325 |   7.169 |   0.496 |\n",
      "       pglib_opf_case240_pserc |   2.883 |   0.868 |  19.622 |   0.620 |\n",
      "        pglib_opf_case300_ieee |  13.813 |   0.989 |  44.443 |   0.937 |\n",
      "         pglib_opf_case500_goc |   0.020 |   1.738 |   0.175 |   1.792 |\n"
     ]
    }
   ],
   "source": [
    "print_cases_table(cases)"
   ]
  },
  {
   "cell_type": "code",
   "execution_count": 82,
   "metadata": {
    "ExecuteTime": {
     "end_time": "2021-12-27T16:08:37.320000-03:00",
     "start_time": "2021-12-27T18:59:46.899Z"
    }
   },
   "outputs": [
    {
     "data": {
      "image/png": "[encoded data removed]",
      "text/plain": [
       "Figure(PyObject <Figure size 640x480 with 1 Axes>)"
      ]
     },
     "metadata": {},
     "output_type": "display_data"
    },
    {
     "name": "stderr",
     "output_type": "stream",
     "text": [
      "sys:1: UserWarning: Matplotlib is currently using agg, which is a non-GUI backend, so cannot show the figure.\r\n"
     ]
    }
   ],
   "source": [
    "graph_dispersion(cases)"
   ]
  },
  {
   "cell_type": "markdown",
   "metadata": {},
   "source": [
    "### Small Angle Difference Conditions"
   ]
  },
  {
   "cell_type": "code",
   "execution_count": 83,
   "metadata": {
    "ExecuteTime": {
     "end_time": "2021-12-27T16:12:39.123000-03:00",
     "start_time": "2021-12-27T18:59:46.903Z"
    },
    "scrolled": true
   },
   "outputs": [],
   "source": [
    "cases = benchmark(tests,SAD);"
   ]
  },
  {
   "cell_type": "code",
   "execution_count": 84,
   "metadata": {
    "ExecuteTime": {
     "end_time": "2021-12-27T16:12:39.126000-03:00",
     "start_time": "2021-12-27T18:59:46.907Z"
    },
    "scrolled": false
   },
   "outputs": [
    {
     "name": "stdout",
     "output_type": "stream",
     "text": [
      "                                  Percentual Error Table (%)\n",
      "\n",
      "                     File Name |      NL |      MC |     SDP |    SOCP |\n",
      "          pglib_opf_case3_lmbd |   0.000 |  41.134 |   1.858 |   5.324 |\n",
      "           pglib_opf_case5_pjm |   0.001 |  16.976 |   0.001 |   3.789 |\n",
      "         pglib_opf_case14_ieee |   0.139 | 100.000 |   0.022 |  25.792 |\n",
      "     pglib_opf_case24_ieee_rts |   0.866 |  37.255 |   4.631 |  11.877 |\n",
      "           pglib_opf_case30_as |   0.000 |  68.143 |   0.236 |  10.938 |\n",
      "         pglib_opf_case30_ieee |   0.193 | 100.000 |   0.193 |  18.842 |\n",
      "         pglib_opf_case39_epri |   0.915 |  23.623 |   0.993 |   2.756 |\n",
      "         pglib_opf_case57_ieee |   0.595 | 100.000 | 100.000 |   0.624 |\n",
      "     pglib_opf_case73_ieee_rts |   0.207 |  38.758 |   2.784 |   8.920 |\n",
      "       pglib_opf_case89_pegase |   0.058 |  54.010 |   0.428 |   2.692 |\n",
      "        pglib_opf_case118_ieee |   1.540 |  95.402 |   4.223 |  11.453 |\n",
      "    pglib_opf_case162_ieee_dtc |   0.744 |  81.548 |   1.605 |  10.010 |\n",
      "         pglib_opf_case179_goc |   0.123 |   6.643 |   0.961 |   1.415 |\n",
      "       pglib_opf_case200_activ |  33.042 |  30.713 |  33.042 |  32.831 |\n",
      "       pglib_opf_case240_pserc |   0.001 |  57.140 |   3.413 |   6.637 |\n",
      "        pglib_opf_case300_ieee |  26.951 |  94.609 |  19.863 |  10.530 |\n",
      "         pglib_opf_case500_goc |   8.677 |  38.679 |  12.453 |  14.845 |\n",
      "\n",
      "                                Time Elapsed Table\n",
      "\n",
      "                     File Name |      NL |      MC |     SDP |    SOCP |\n",
      "          pglib_opf_case3_lmbd |   0.014 |   0.002 |   0.003 |   0.002 |\n",
      "           pglib_opf_case5_pjm |   0.020 |   0.005 |   0.007 |   0.003 |\n",
      "         pglib_opf_case14_ieee |   0.041 |   0.012 |   0.023 |   0.050 |\n",
      "     pglib_opf_case24_ieee_rts |   0.087 |   0.038 |   0.093 |   0.020 |\n",
      "           pglib_opf_case30_as |   0.085 |   0.023 |   0.088 |   0.019 |\n",
      "         pglib_opf_case30_ieee |   0.078 |   0.027 |   0.085 |   0.020 |\n",
      "         pglib_opf_case39_epri |   0.120 |   0.040 |   0.202 |   0.028 |\n",
      "         pglib_opf_case57_ieee |   0.468 |   0.053 |   0.585 |   0.121 |\n",
      "     pglib_opf_case73_ieee_rts |   0.308 |   0.122 |   0.857 |   0.092 |\n",
      "       pglib_opf_case89_pegase |   0.462 |   0.169 |   3.011 |   0.160 |\n",
      "        pglib_opf_case118_ieee |   0.353 |   0.290 |   3.734 |   0.191 |\n",
      "    pglib_opf_case162_ieee_dtc |   1.512 |   0.486 |   9.625 |   0.335 |\n",
      "         pglib_opf_case179_goc |   0.644 |   0.358 |   7.569 |   0.325 |\n",
      "       pglib_opf_case200_activ |   3.035 |   0.425 |   5.644 |   0.392 |\n",
      "       pglib_opf_case240_pserc |   3.709 |   0.879 |  20.302 |   0.618 |\n",
      "        pglib_opf_case300_ieee |  20.537 |   0.928 |  51.217 |   0.893 |\n",
      "         pglib_opf_case500_goc |   2.548 |   2.828 |  84.367 |   2.412 |\n"
     ]
    }
   ],
   "source": [
    "print_cases_table(cases)"
   ]
  },
  {
   "cell_type": "code",
   "execution_count": 85,
   "metadata": {
    "ExecuteTime": {
     "end_time": "2021-12-27T16:12:39.745000-03:00",
     "start_time": "2021-12-27T18:59:46.910Z"
    }
   },
   "outputs": [
    {
     "data": {
      "image/png": "[encoded data removed]",
      "text/plain": [
       "Figure(PyObject <Figure size 640x480 with 1 Axes>)"
      ]
     },
     "metadata": {},
     "output_type": "display_data"
    },
    {
     "name": "stderr",
     "output_type": "stream",
     "text": [
      "sys:1: UserWarning: Matplotlib is currently using agg, which is a non-GUI backend, so cannot show the figure.\r\n"
     ]
    }
   ],
   "source": [
    "graph_dispersion(cases)"
   ]
  },
  {
   "cell_type": "markdown",
   "metadata": {},
   "source": [
    "## $588 \\leq |\\mathcal{B}| \\leq 2000 $"
   ]
  },
  {
   "cell_type": "code",
   "execution_count": 86,
   "metadata": {
    "ExecuteTime": {
     "end_time": "2021-12-27T16:12:39.782000-03:00",
     "start_time": "2021-12-27T18:59:46.915Z"
    }
   },
   "outputs": [],
   "source": [
    "remove = [19]\n",
    "range = filter(x -> !(x in remove),18:23);"
   ]
  },
  {
   "cell_type": "code",
   "execution_count": 87,
   "metadata": {
    "ExecuteTime": {
     "end_time": "2021-12-27T16:12:40.783000-03:00",
     "start_time": "2021-12-27T18:59:46.917Z"
    }
   },
   "outputs": [
    {
     "data": {
      "text/plain": [
       "5-element Vector{Tuple{String, Vector{Float64}}}:\n",
       " (\"pglib_opf_case588_sdet\", [313140.0, 394760.0, 329360.0])\n",
       " (\"pglib_opf_case1354_pegase\", [1.2588e6, 1.4983e6, 1.2588e6])\n",
       " (\"pglib_opf_case1888_rte\", [1.4025e6, 1.9539e6, 1.4139e6])\n",
       " (\"pglib_opf_case1951_rte\", [2.0856e6, 2.4108e6, 2.0924e6])\n",
       " (\"pglib_opf_case2000_goc\", [973430.0, 1.4686e6, 992880.0])"
      ]
     },
     "execution_count": 87,
     "metadata": {},
     "output_type": "execute_result"
    }
   ],
   "source": [
    "tests = case_tests[range]"
   ]
  },
  {
   "cell_type": "markdown",
   "metadata": {},
   "source": [
    "### Typical Operating Conditions"
   ]
  },
  {
   "cell_type": "code",
   "execution_count": 88,
   "metadata": {
    "ExecuteTime": {
     "end_time": "2021-12-27T16:39:52.307000-03:00",
     "start_time": "2021-12-27T18:59:46.920Z"
    }
   },
   "outputs": [],
   "source": [
    "cases_no_sdp = benchmark(tests,TYP,false);"
   ]
  },
  {
   "cell_type": "code",
   "execution_count": 89,
   "metadata": {
    "ExecuteTime": {
     "end_time": "2021-12-27T16:39:54.319000-03:00",
     "start_time": "2021-12-27T18:59:46.924Z"
    }
   },
   "outputs": [
    {
     "name": "stdout",
     "output_type": "stream",
     "text": [
      "                             Percentual Error Table (%)\n",
      "\n",
      "                     File Name |       NL |       MC |     SOCP |\n",
      "        pglib_opf_case588_sdet |   24.376 |    1.000 |    1.000 |\n",
      "     pglib_opf_case1354_pegase |    0.127 |   61.633 |    4.535 |\n",
      "        pglib_opf_case1888_rte |   20.657 |   51.178 |    4.766 |\n",
      "        pglib_opf_case1951_rte |   25.674 |   58.784 |    2.808 |\n",
      "        pglib_opf_case2000_goc |   23.508 |   26.022 |   16.514 |\n",
      "\n",
      "                           Time Elapsed Table\n",
      "\n",
      "                     File Name |       NL |       MC |     SOCP |\n",
      "        pglib_opf_case588_sdet |    7.377 |    2.526 |    1.819 |\n",
      "     pglib_opf_case1354_pegase |    7.889 |   20.025 |   25.702 |\n",
      "        pglib_opf_case1888_rte |  254.903 |   47.981 |   61.176 |\n",
      "        pglib_opf_case1951_rte |  123.939 |   49.465 |   57.732 |\n",
      "        pglib_opf_case2000_goc |  251.747 |   53.365 |   59.010 |\n"
     ]
    }
   ],
   "source": [
    "print_cases_no_sdp_table(cases_no_sdp)"
   ]
  },
  {
   "cell_type": "code",
   "execution_count": 90,
   "metadata": {
    "ExecuteTime": {
     "end_time": "2021-12-27T16:39:54.707000-03:00",
     "start_time": "2021-12-27T18:59:46.926Z"
    },
    "scrolled": false
   },
   "outputs": [
    {
     "data": {
      "image/png": "[encoded data removed]",
      "text/plain": [
       "Figure(PyObject <Figure size 640x480 with 1 Axes>)"
      ]
     },
     "metadata": {},
     "output_type": "display_data"
    },
    {
     "name": "stderr",
     "output_type": "stream",
     "text": [
      "sys:1: UserWarning: Matplotlib is currently using agg, which is a non-GUI backend, so cannot show the figure.\r\n"
     ]
    }
   ],
   "source": [
    "graph_dispersion(cases_no_sdp,sdp=false)"
   ]
  },
  {
   "cell_type": "markdown",
   "metadata": {},
   "source": [
    "### Congested Operating Conditions"
   ]
  },
  {
   "cell_type": "code",
   "execution_count": 91,
   "metadata": {
    "ExecuteTime": {
     "end_time": "2021-12-27T16:59:11.810000-03:00",
     "start_time": "2021-12-27T18:59:46.929Z"
    }
   },
   "outputs": [],
   "source": [
    "cases_no_sdp = benchmark(tests,API,false);"
   ]
  },
  {
   "cell_type": "code",
   "execution_count": 92,
   "metadata": {
    "ExecuteTime": {
     "end_time": "2021-12-27T16:59:11.812000-03:00",
     "start_time": "2021-12-27T18:59:46.932Z"
    }
   },
   "outputs": [
    {
     "name": "stdout",
     "output_type": "stream",
     "text": [
      "                             Percentual Error Table (%)\n",
      "\n",
      "                     File Name |       NL |       MC |     SOCP |\n",
      "        pglib_opf_case588_sdet |  100.000 |    1.000 |    1.000 |\n",
      "     pglib_opf_case1354_pegase |    0.132 |   94.393 |    3.014 |\n",
      "        pglib_opf_case1888_rte |  100.000 |    1.000 |    1.000 |\n",
      "        pglib_opf_case1951_rte |   39.772 |   82.172 |    4.030 |\n",
      "        pglib_opf_case2000_goc |  100.000 |    1.000 |    1.000 |\n",
      "\n",
      "                           Time Elapsed Table\n",
      "\n",
      "                     File Name |       NL |       MC |     SOCP |\n",
      "        pglib_opf_case588_sdet |    0.019 |    2.627 |    1.723 |\n",
      "     pglib_opf_case1354_pegase |    8.121 |   19.812 |   24.537 |\n",
      "        pglib_opf_case1888_rte |    0.090 |   40.069 |   43.872 |\n",
      "        pglib_opf_case1951_rte |  227.335 |   51.629 |   58.781 |\n",
      "        pglib_opf_case2000_goc |    0.157 |   46.415 |   54.358 |\n"
     ]
    }
   ],
   "source": [
    "print_cases_no_sdp_table(cases_no_sdp)"
   ]
  },
  {
   "cell_type": "code",
   "execution_count": 93,
   "metadata": {
    "ExecuteTime": {
     "end_time": "2021-12-27T16:59:12.305000-03:00",
     "start_time": "2021-12-27T18:59:46.934Z"
    }
   },
   "outputs": [
    {
     "data": {
      "image/png": "[encoded data removed]",
      "text/plain": [
       "Figure(PyObject <Figure size 640x480 with 1 Axes>)"
      ]
     },
     "metadata": {},
     "output_type": "display_data"
    },
    {
     "name": "stderr",
     "output_type": "stream",
     "text": [
      "sys:1: UserWarning: Matplotlib is currently using agg, which is a non-GUI backend, so cannot show the figure.\r\n"
     ]
    }
   ],
   "source": [
    "graph_dispersion(cases_no_sdp,sdp=false)"
   ]
  },
  {
   "cell_type": "markdown",
   "metadata": {},
   "source": [
    "### Small Angle Difference Conditions"
   ]
  },
  {
   "cell_type": "code",
   "execution_count": 94,
   "metadata": {
    "ExecuteTime": {
     "end_time": "2021-12-27T17:30:38.916000-03:00",
     "start_time": "2021-12-27T18:59:46.936Z"
    }
   },
   "outputs": [],
   "source": [
    "cases_no_sdp = benchmark(tests,SAD,false);"
   ]
  },
  {
   "cell_type": "code",
   "execution_count": 95,
   "metadata": {
    "ExecuteTime": {
     "end_time": "2021-12-27T17:30:38.950000-03:00",
     "start_time": "2021-12-27T18:59:46.939Z"
    }
   },
   "outputs": [
    {
     "name": "stdout",
     "output_type": "stream",
     "text": [
      "                             Percentual Error Table (%)\n",
      "\n",
      "                     File Name |       NL |       MC |     SOCP |\n",
      "        pglib_opf_case588_sdet |   19.655 |    1.000 |    1.000 |\n",
      "     pglib_opf_case1354_pegase |    0.103 |   61.633 |    4.535 |\n",
      "        pglib_opf_case1888_rte |  100.000 |   51.572 |    5.532 |\n",
      "        pglib_opf_case1951_rte |   25.188 |   58.918 |    3.121 |\n",
      "        pglib_opf_case2000_goc |   17.376 |    6.528 |  100.179 |\n",
      "\n",
      "                           Time Elapsed Table\n",
      "\n",
      "                     File Name |       NL |       MC |     SOCP |\n",
      "        pglib_opf_case588_sdet |   11.201 |    2.593 |    1.897 |\n",
      "     pglib_opf_case1354_pegase |    8.657 |   19.005 |   28.409 |\n",
      "        pglib_opf_case1888_rte |  600.341 |   46.766 |   53.280 |\n",
      "        pglib_opf_case1951_rte |  123.479 |   50.008 |   56.937 |\n",
      "        pglib_opf_case2000_goc |  174.969 |   55.316 |   65.055 |\n"
     ]
    }
   ],
   "source": [
    "print_cases_no_sdp_table(cases_no_sdp)"
   ]
  },
  {
   "cell_type": "code",
   "execution_count": 96,
   "metadata": {
    "ExecuteTime": {
     "end_time": "2021-12-27T17:30:39.327000-03:00",
     "start_time": "2021-12-27T18:59:46.946Z"
    }
   },
   "outputs": [
    {
     "data": {
      "image/png": "[encoded data removed]",
      "text/plain": [
       "Figure(PyObject <Figure size 640x480 with 1 Axes>)"
      ]
     },
     "metadata": {},
     "output_type": "display_data"
    },
    {
     "name": "stderr",
     "output_type": "stream",
     "text": [
      "sys:1: UserWarning: Matplotlib is currently using agg, which is a non-GUI backend, so cannot show the figure.\r\n"
     ]
    }
   ],
   "source": [
    "graph_dispersion(cases_no_sdp,sdp=false)"
   ]
  }
 ],
 "metadata": {
  "@webio": {
   "lastCommId": null,
   "lastKernelId": null
  },
  "kernelspec": {
   "display_name": "Julia 1.6.3",
   "language": "julia",
   "name": "julia-1.6"
  },
  "language_info": {
   "file_extension": ".jl",
   "mimetype": "application/julia",
   "name": "julia",
   "version": "1.6.3"
  },
  "toc": {
   "base_numbering": 1,
   "nav_menu": {},
   "number_sections": true,
   "sideBar": true,
   "skip_h1_title": false,
   "title_cell": "Table of Contents",
   "title_sidebar": "Contents",
   "toc_cell": false,
   "toc_position": {
    "height": "calc(100% - 180px)",
    "left": "10px",
    "top": "150px",
    "width": "222.675px"
   },
   "toc_section_display": true,
   "toc_window_display": true
  }
 },
 "nbformat": 4,
 "nbformat_minor": 4
}
